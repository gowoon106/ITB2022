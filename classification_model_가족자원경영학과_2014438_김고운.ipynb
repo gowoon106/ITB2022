{
  "nbformat": 4,
  "nbformat_minor": 0,
  "metadata": {
    "colab": {
      "provenance": [],
      "authorship_tag": "ABX9TyP3SSB3z59Icb5Xnb5A8duY",
      "include_colab_link": true
    },
    "kernelspec": {
      "name": "python3",
      "display_name": "Python 3"
    },
    "language_info": {
      "name": "python"
    }
  },
  "cells": [
    {
      "cell_type": "markdown",
      "metadata": {
        "id": "view-in-github",
        "colab_type": "text"
      },
      "source": [
        "<a href=\"https://colab.research.google.com/github/gowoon106/ITB2022/blob/main/classification_model_%EA%B0%80%EC%A1%B1%EC%9E%90%EC%9B%90%EA%B2%BD%EC%98%81%ED%95%99%EA%B3%BC_2014438_%EA%B9%80%EA%B3%A0%EC%9A%B4.ipynb\" target=\"_parent\"><img src=\"https://colab.research.google.com/assets/colab-badge.svg\" alt=\"Open In Colab\"/></a>"
      ]
    },
    {
      "cell_type": "markdown",
      "source": [
        "# **분류 모델을 이용하여 높은 식전혈당을 결정짓는 요소 알아보기** \n",
        "가족자원경영학과 2014438 김고운"
      ],
      "metadata": {
        "id": "5ailcA3KV10K"
      }
    },
    {
      "cell_type": "markdown",
      "source": [
        "한글 깨짐 해결\n"
      ],
      "metadata": {
        "id": "_n8f_9p_7LSp"
      }
    },
    {
      "cell_type": "code",
      "source": [
        "!sudo apt-get install -y fonts-nanum\n",
        "!sudo fc-cache -fv\n",
        "!rm ~/.cache/matplotlib -rf\n",
        "\n",
        "import matplotlib.pyplot as plt\n",
        "plt.rc('font', family='NanumBarunGothic')"
      ],
      "metadata": {
        "colab": {
          "base_uri": "https://localhost:8080/"
        },
        "id": "QfGIN7PGyoZe",
        "outputId": "e5231a42-f3c1-4aff-873e-d6e8c0673033"
      },
      "execution_count": 1,
      "outputs": [
        {
          "output_type": "stream",
          "name": "stdout",
          "text": [
            "Reading package lists... Done\n",
            "Building dependency tree       \n",
            "Reading state information... Done\n",
            "fonts-nanum is already the newest version (20170925-1).\n",
            "The following package was automatically installed and is no longer required:\n",
            "  libnvidia-common-460\n",
            "Use 'sudo apt autoremove' to remove it.\n",
            "0 upgraded, 0 newly installed, 0 to remove and 5 not upgraded.\n",
            "/usr/share/fonts: caching, new cache contents: 0 fonts, 1 dirs\n",
            "/usr/share/fonts/truetype: caching, new cache contents: 0 fonts, 3 dirs\n",
            "/usr/share/fonts/truetype/humor-sans: caching, new cache contents: 1 fonts, 0 dirs\n",
            "/usr/share/fonts/truetype/liberation: caching, new cache contents: 16 fonts, 0 dirs\n",
            "/usr/share/fonts/truetype/nanum: caching, new cache contents: 10 fonts, 0 dirs\n",
            "/usr/local/share/fonts: caching, new cache contents: 0 fonts, 0 dirs\n",
            "/root/.local/share/fonts: skipping, no such directory\n",
            "/root/.fonts: skipping, no such directory\n",
            "/var/cache/fontconfig: cleaning cache directory\n",
            "/root/.cache/fontconfig: not cleaning non-existent cache directory\n",
            "/root/.fontconfig: not cleaning non-existent cache directory\n",
            "fc-cache: succeeded\n"
          ]
        }
      ]
    },
    {
      "cell_type": "markdown",
      "source": [
        "패키지 불러오기"
      ],
      "metadata": {
        "id": "xunGIQCzQa4B"
      }
    },
    {
      "cell_type": "code",
      "source": [
        "%matplotlib inline\n",
        "import pandas as pd\n",
        "import seaborn as sns           \n",
        "import matplotlib.pyplot as plt\n",
        "import numpy as np\n",
        "\n",
        "!pip install mglearn \n",
        "!pip install --upgrade joblib==1.1.0\n",
        "import mglearn as mg"
      ],
      "metadata": {
        "colab": {
          "base_uri": "https://localhost:8080/"
        },
        "id": "20_BMu0syuyM",
        "outputId": "2c3142e9-41e8-46d0-ee87-d03eec6bf746"
      },
      "execution_count": 2,
      "outputs": [
        {
          "output_type": "stream",
          "name": "stdout",
          "text": [
            "Looking in indexes: https://pypi.org/simple, https://us-python.pkg.dev/colab-wheels/public/simple/\n",
            "Requirement already satisfied: mglearn in /usr/local/lib/python3.7/dist-packages (0.1.9)\n",
            "Requirement already satisfied: imageio in /usr/local/lib/python3.7/dist-packages (from mglearn) (2.9.0)\n",
            "Requirement already satisfied: scikit-learn in /usr/local/lib/python3.7/dist-packages (from mglearn) (1.0.2)\n",
            "Requirement already satisfied: numpy in /usr/local/lib/python3.7/dist-packages (from mglearn) (1.21.6)\n",
            "Requirement already satisfied: pandas in /usr/local/lib/python3.7/dist-packages (from mglearn) (1.3.5)\n",
            "Requirement already satisfied: joblib in /usr/local/lib/python3.7/dist-packages (from mglearn) (1.1.0)\n",
            "Requirement already satisfied: cycler in /usr/local/lib/python3.7/dist-packages (from mglearn) (0.11.0)\n",
            "Requirement already satisfied: pillow in /usr/local/lib/python3.7/dist-packages (from mglearn) (7.1.2)\n",
            "Requirement already satisfied: matplotlib in /usr/local/lib/python3.7/dist-packages (from mglearn) (3.2.2)\n",
            "Requirement already satisfied: pyparsing!=2.0.4,!=2.1.2,!=2.1.6,>=2.0.1 in /usr/local/lib/python3.7/dist-packages (from matplotlib->mglearn) (3.0.9)\n",
            "Requirement already satisfied: python-dateutil>=2.1 in /usr/local/lib/python3.7/dist-packages (from matplotlib->mglearn) (2.8.2)\n",
            "Requirement already satisfied: kiwisolver>=1.0.1 in /usr/local/lib/python3.7/dist-packages (from matplotlib->mglearn) (1.4.4)\n",
            "Requirement already satisfied: typing-extensions in /usr/local/lib/python3.7/dist-packages (from kiwisolver>=1.0.1->matplotlib->mglearn) (4.1.1)\n",
            "Requirement already satisfied: six>=1.5 in /usr/local/lib/python3.7/dist-packages (from python-dateutil>=2.1->matplotlib->mglearn) (1.15.0)\n",
            "Requirement already satisfied: pytz>=2017.3 in /usr/local/lib/python3.7/dist-packages (from pandas->mglearn) (2022.6)\n",
            "Requirement already satisfied: scipy>=1.1.0 in /usr/local/lib/python3.7/dist-packages (from scikit-learn->mglearn) (1.7.3)\n",
            "Requirement already satisfied: threadpoolctl>=2.0.0 in /usr/local/lib/python3.7/dist-packages (from scikit-learn->mglearn) (3.1.0)\n",
            "Looking in indexes: https://pypi.org/simple, https://us-python.pkg.dev/colab-wheels/public/simple/\n",
            "Requirement already satisfied: joblib==1.1.0 in /usr/local/lib/python3.7/dist-packages (1.1.0)\n"
          ]
        }
      ]
    },
    {
      "cell_type": "markdown",
      "source": [
        "데이터 불러오기 및 데이터 정보 확인"
      ],
      "metadata": {
        "id": "Ao8ZPeQZQzqo"
      }
    },
    {
      "cell_type": "code",
      "source": [
        "from google.colab import drive\n",
        "drive.mount('/content/drive')\n",
        "health = pd.read_csv(\"/content/drive/My Drive/BigMining/health_data.csv\", index_col='가입자일련번호')\n",
        "\n",
        "print(health.columns)\n",
        "display(health.info())\n",
        "display(health.head()) "
      ],
      "metadata": {
        "colab": {
          "base_uri": "https://localhost:8080/",
          "height": 1000
        },
        "id": "QCxQ_jAxyrOL",
        "outputId": "09e3f00b-cd85-4cd3-ac47-1defc73ca0fc"
      },
      "execution_count": 3,
      "outputs": [
        {
          "output_type": "stream",
          "name": "stdout",
          "text": [
            "Drive already mounted at /content/drive; to attempt to forcibly remount, call drive.mount(\"/content/drive\", force_remount=True).\n",
            "Index(['성별코드', '연령대코드(5세단위)', '신장(5Cm단위)', '체중(5Kg 단위)', '허리둘레', '시력(좌)',\n",
            "       '시력(우)', '청력(좌)', '청력(우)', '수축기혈압', '이완기혈압', '총콜레스테롤', '트리글리세라이드',\n",
            "       'HDL콜레스테롤', 'LDL콜레스테롤', '혈색소', '요단백', '혈청크레아티닌', '(혈청지오티)AST',\n",
            "       '(혈청지오티)ALT', '감마지티피', '음주여부', '흡연상태', '식전혈당(공복혈당)'],\n",
            "      dtype='object')\n",
            "<class 'pandas.core.frame.DataFrame'>\n",
            "Int64Index: 10000 entries, 1 to 10000\n",
            "Data columns (total 24 columns):\n",
            " #   Column       Non-Null Count  Dtype  \n",
            "---  ------       --------------  -----  \n",
            " 0   성별코드         10000 non-null  object \n",
            " 1   연령대코드(5세단위)  10000 non-null  int64  \n",
            " 2   신장(5Cm단위)    10000 non-null  int64  \n",
            " 3   체중(5Kg 단위)   10000 non-null  int64  \n",
            " 4   허리둘레         10000 non-null  float64\n",
            " 5   시력(좌)        10000 non-null  float64\n",
            " 6   시력(우)        10000 non-null  float64\n",
            " 7   청력(좌)        10000 non-null  int64  \n",
            " 8   청력(우)        10000 non-null  int64  \n",
            " 9   수축기혈압        9912 non-null   float64\n",
            " 10  이완기혈압        9912 non-null   float64\n",
            " 11  총콜레스테롤       4044 non-null   float64\n",
            " 12  트리글리세라이드     4044 non-null   float64\n",
            " 13  HDL콜레스테롤     4044 non-null   float64\n",
            " 14  LDL콜레스테롤     3977 non-null   float64\n",
            " 15  혈색소          9912 non-null   float64\n",
            " 16  요단백          9861 non-null   float64\n",
            " 17  혈청크레아티닌      9912 non-null   float64\n",
            " 18  (혈청지오티)AST   9912 non-null   float64\n",
            " 19  (혈청지오티)ALT   9912 non-null   float64\n",
            " 20  감마지티피        9912 non-null   float64\n",
            " 21  음주여부         9999 non-null   object \n",
            " 22  흡연상태         9998 non-null   object \n",
            " 23  식전혈당(공복혈당)   9912 non-null   float64\n",
            "dtypes: float64(16), int64(5), object(3)\n",
            "memory usage: 1.9+ MB\n"
          ]
        },
        {
          "output_type": "display_data",
          "data": {
            "text/plain": [
              "None"
            ]
          },
          "metadata": {}
        },
        {
          "output_type": "display_data",
          "data": {
            "text/plain": [
              "        성별코드  연령대코드(5세단위)  신장(5Cm단위)  체중(5Kg 단위)  허리둘레  시력(좌)  시력(우)  청력(좌)  \\\n",
              "가입자일련번호                                                                       \n",
              "1          M            9        165          60  72.1    1.2    1.5      1   \n",
              "2          F           13        150          65  81.0    0.8    0.8      1   \n",
              "3          F           12        155          55  70.0    0.6    0.7      1   \n",
              "4          M           13        160          70  90.8    1.0    1.0      1   \n",
              "5          F           12        155          50  75.2    1.5    1.2      1   \n",
              "\n",
              "         청력(우)  수축기혈압  ...  LDL콜레스테롤   혈색소  요단백  혈청크레아티닌  (혈청지오티)AST  \\\n",
              "가입자일련번호                ...                                             \n",
              "1            1  127.0  ...     118.0  15.0  1.0      1.1        21.0   \n",
              "2            1  110.0  ...       NaN  12.7  1.0      0.5        18.0   \n",
              "3            1  123.0  ...       NaN  12.8  1.0      0.7        27.0   \n",
              "4            2  134.0  ...       NaN  16.4  1.0      1.2        65.0   \n",
              "5            1  144.0  ...     133.0  12.4  1.0      0.7        18.0   \n",
              "\n",
              "         (혈청지오티)ALT  감마지티피  음주여부  흡연상태  식전혈당(공복혈당)  \n",
              "가입자일련번호                                             \n",
              "1              27.0   21.0    No    No        90.0  \n",
              "2              15.0   15.0    No    No        87.0  \n",
              "3              25.0    7.0    No    No       102.0  \n",
              "4              97.0   72.0    No    No       146.0  \n",
              "5              17.0   14.0    No    No       110.0  \n",
              "\n",
              "[5 rows x 24 columns]"
            ],
            "text/html": [
              "\n",
              "  <div id=\"df-780efe8e-c03c-4ce0-bf04-95b057a9441b\">\n",
              "    <div class=\"colab-df-container\">\n",
              "      <div>\n",
              "<style scoped>\n",
              "    .dataframe tbody tr th:only-of-type {\n",
              "        vertical-align: middle;\n",
              "    }\n",
              "\n",
              "    .dataframe tbody tr th {\n",
              "        vertical-align: top;\n",
              "    }\n",
              "\n",
              "    .dataframe thead th {\n",
              "        text-align: right;\n",
              "    }\n",
              "</style>\n",
              "<table border=\"1\" class=\"dataframe\">\n",
              "  <thead>\n",
              "    <tr style=\"text-align: right;\">\n",
              "      <th></th>\n",
              "      <th>성별코드</th>\n",
              "      <th>연령대코드(5세단위)</th>\n",
              "      <th>신장(5Cm단위)</th>\n",
              "      <th>체중(5Kg 단위)</th>\n",
              "      <th>허리둘레</th>\n",
              "      <th>시력(좌)</th>\n",
              "      <th>시력(우)</th>\n",
              "      <th>청력(좌)</th>\n",
              "      <th>청력(우)</th>\n",
              "      <th>수축기혈압</th>\n",
              "      <th>...</th>\n",
              "      <th>LDL콜레스테롤</th>\n",
              "      <th>혈색소</th>\n",
              "      <th>요단백</th>\n",
              "      <th>혈청크레아티닌</th>\n",
              "      <th>(혈청지오티)AST</th>\n",
              "      <th>(혈청지오티)ALT</th>\n",
              "      <th>감마지티피</th>\n",
              "      <th>음주여부</th>\n",
              "      <th>흡연상태</th>\n",
              "      <th>식전혈당(공복혈당)</th>\n",
              "    </tr>\n",
              "    <tr>\n",
              "      <th>가입자일련번호</th>\n",
              "      <th></th>\n",
              "      <th></th>\n",
              "      <th></th>\n",
              "      <th></th>\n",
              "      <th></th>\n",
              "      <th></th>\n",
              "      <th></th>\n",
              "      <th></th>\n",
              "      <th></th>\n",
              "      <th></th>\n",
              "      <th></th>\n",
              "      <th></th>\n",
              "      <th></th>\n",
              "      <th></th>\n",
              "      <th></th>\n",
              "      <th></th>\n",
              "      <th></th>\n",
              "      <th></th>\n",
              "      <th></th>\n",
              "      <th></th>\n",
              "      <th></th>\n",
              "    </tr>\n",
              "  </thead>\n",
              "  <tbody>\n",
              "    <tr>\n",
              "      <th>1</th>\n",
              "      <td>M</td>\n",
              "      <td>9</td>\n",
              "      <td>165</td>\n",
              "      <td>60</td>\n",
              "      <td>72.1</td>\n",
              "      <td>1.2</td>\n",
              "      <td>1.5</td>\n",
              "      <td>1</td>\n",
              "      <td>1</td>\n",
              "      <td>127.0</td>\n",
              "      <td>...</td>\n",
              "      <td>118.0</td>\n",
              "      <td>15.0</td>\n",
              "      <td>1.0</td>\n",
              "      <td>1.1</td>\n",
              "      <td>21.0</td>\n",
              "      <td>27.0</td>\n",
              "      <td>21.0</td>\n",
              "      <td>No</td>\n",
              "      <td>No</td>\n",
              "      <td>90.0</td>\n",
              "    </tr>\n",
              "    <tr>\n",
              "      <th>2</th>\n",
              "      <td>F</td>\n",
              "      <td>13</td>\n",
              "      <td>150</td>\n",
              "      <td>65</td>\n",
              "      <td>81.0</td>\n",
              "      <td>0.8</td>\n",
              "      <td>0.8</td>\n",
              "      <td>1</td>\n",
              "      <td>1</td>\n",
              "      <td>110.0</td>\n",
              "      <td>...</td>\n",
              "      <td>NaN</td>\n",
              "      <td>12.7</td>\n",
              "      <td>1.0</td>\n",
              "      <td>0.5</td>\n",
              "      <td>18.0</td>\n",
              "      <td>15.0</td>\n",
              "      <td>15.0</td>\n",
              "      <td>No</td>\n",
              "      <td>No</td>\n",
              "      <td>87.0</td>\n",
              "    </tr>\n",
              "    <tr>\n",
              "      <th>3</th>\n",
              "      <td>F</td>\n",
              "      <td>12</td>\n",
              "      <td>155</td>\n",
              "      <td>55</td>\n",
              "      <td>70.0</td>\n",
              "      <td>0.6</td>\n",
              "      <td>0.7</td>\n",
              "      <td>1</td>\n",
              "      <td>1</td>\n",
              "      <td>123.0</td>\n",
              "      <td>...</td>\n",
              "      <td>NaN</td>\n",
              "      <td>12.8</td>\n",
              "      <td>1.0</td>\n",
              "      <td>0.7</td>\n",
              "      <td>27.0</td>\n",
              "      <td>25.0</td>\n",
              "      <td>7.0</td>\n",
              "      <td>No</td>\n",
              "      <td>No</td>\n",
              "      <td>102.0</td>\n",
              "    </tr>\n",
              "    <tr>\n",
              "      <th>4</th>\n",
              "      <td>M</td>\n",
              "      <td>13</td>\n",
              "      <td>160</td>\n",
              "      <td>70</td>\n",
              "      <td>90.8</td>\n",
              "      <td>1.0</td>\n",
              "      <td>1.0</td>\n",
              "      <td>1</td>\n",
              "      <td>2</td>\n",
              "      <td>134.0</td>\n",
              "      <td>...</td>\n",
              "      <td>NaN</td>\n",
              "      <td>16.4</td>\n",
              "      <td>1.0</td>\n",
              "      <td>1.2</td>\n",
              "      <td>65.0</td>\n",
              "      <td>97.0</td>\n",
              "      <td>72.0</td>\n",
              "      <td>No</td>\n",
              "      <td>No</td>\n",
              "      <td>146.0</td>\n",
              "    </tr>\n",
              "    <tr>\n",
              "      <th>5</th>\n",
              "      <td>F</td>\n",
              "      <td>12</td>\n",
              "      <td>155</td>\n",
              "      <td>50</td>\n",
              "      <td>75.2</td>\n",
              "      <td>1.5</td>\n",
              "      <td>1.2</td>\n",
              "      <td>1</td>\n",
              "      <td>1</td>\n",
              "      <td>144.0</td>\n",
              "      <td>...</td>\n",
              "      <td>133.0</td>\n",
              "      <td>12.4</td>\n",
              "      <td>1.0</td>\n",
              "      <td>0.7</td>\n",
              "      <td>18.0</td>\n",
              "      <td>17.0</td>\n",
              "      <td>14.0</td>\n",
              "      <td>No</td>\n",
              "      <td>No</td>\n",
              "      <td>110.0</td>\n",
              "    </tr>\n",
              "  </tbody>\n",
              "</table>\n",
              "<p>5 rows × 24 columns</p>\n",
              "</div>\n",
              "      <button class=\"colab-df-convert\" onclick=\"convertToInteractive('df-780efe8e-c03c-4ce0-bf04-95b057a9441b')\"\n",
              "              title=\"Convert this dataframe to an interactive table.\"\n",
              "              style=\"display:none;\">\n",
              "        \n",
              "  <svg xmlns=\"http://www.w3.org/2000/svg\" height=\"24px\"viewBox=\"0 0 24 24\"\n",
              "       width=\"24px\">\n",
              "    <path d=\"M0 0h24v24H0V0z\" fill=\"none\"/>\n",
              "    <path d=\"M18.56 5.44l.94 2.06.94-2.06 2.06-.94-2.06-.94-.94-2.06-.94 2.06-2.06.94zm-11 1L8.5 8.5l.94-2.06 2.06-.94-2.06-.94L8.5 2.5l-.94 2.06-2.06.94zm10 10l.94 2.06.94-2.06 2.06-.94-2.06-.94-.94-2.06-.94 2.06-2.06.94z\"/><path d=\"M17.41 7.96l-1.37-1.37c-.4-.4-.92-.59-1.43-.59-.52 0-1.04.2-1.43.59L10.3 9.45l-7.72 7.72c-.78.78-.78 2.05 0 2.83L4 21.41c.39.39.9.59 1.41.59.51 0 1.02-.2 1.41-.59l7.78-7.78 2.81-2.81c.8-.78.8-2.07 0-2.86zM5.41 20L4 18.59l7.72-7.72 1.47 1.35L5.41 20z\"/>\n",
              "  </svg>\n",
              "      </button>\n",
              "      \n",
              "  <style>\n",
              "    .colab-df-container {\n",
              "      display:flex;\n",
              "      flex-wrap:wrap;\n",
              "      gap: 12px;\n",
              "    }\n",
              "\n",
              "    .colab-df-convert {\n",
              "      background-color: #E8F0FE;\n",
              "      border: none;\n",
              "      border-radius: 50%;\n",
              "      cursor: pointer;\n",
              "      display: none;\n",
              "      fill: #1967D2;\n",
              "      height: 32px;\n",
              "      padding: 0 0 0 0;\n",
              "      width: 32px;\n",
              "    }\n",
              "\n",
              "    .colab-df-convert:hover {\n",
              "      background-color: #E2EBFA;\n",
              "      box-shadow: 0px 1px 2px rgba(60, 64, 67, 0.3), 0px 1px 3px 1px rgba(60, 64, 67, 0.15);\n",
              "      fill: #174EA6;\n",
              "    }\n",
              "\n",
              "    [theme=dark] .colab-df-convert {\n",
              "      background-color: #3B4455;\n",
              "      fill: #D2E3FC;\n",
              "    }\n",
              "\n",
              "    [theme=dark] .colab-df-convert:hover {\n",
              "      background-color: #434B5C;\n",
              "      box-shadow: 0px 1px 3px 1px rgba(0, 0, 0, 0.15);\n",
              "      filter: drop-shadow(0px 1px 2px rgba(0, 0, 0, 0.3));\n",
              "      fill: #FFFFFF;\n",
              "    }\n",
              "  </style>\n",
              "\n",
              "      <script>\n",
              "        const buttonEl =\n",
              "          document.querySelector('#df-780efe8e-c03c-4ce0-bf04-95b057a9441b button.colab-df-convert');\n",
              "        buttonEl.style.display =\n",
              "          google.colab.kernel.accessAllowed ? 'block' : 'none';\n",
              "\n",
              "        async function convertToInteractive(key) {\n",
              "          const element = document.querySelector('#df-780efe8e-c03c-4ce0-bf04-95b057a9441b');\n",
              "          const dataTable =\n",
              "            await google.colab.kernel.invokeFunction('convertToInteractive',\n",
              "                                                     [key], {});\n",
              "          if (!dataTable) return;\n",
              "\n",
              "          const docLinkHtml = 'Like what you see? Visit the ' +\n",
              "            '<a target=\"_blank\" href=https://colab.research.google.com/notebooks/data_table.ipynb>data table notebook</a>'\n",
              "            + ' to learn more about interactive tables.';\n",
              "          element.innerHTML = '';\n",
              "          dataTable['output_type'] = 'display_data';\n",
              "          await google.colab.output.renderOutput(dataTable, element);\n",
              "          const docLink = document.createElement('div');\n",
              "          docLink.innerHTML = docLinkHtml;\n",
              "          element.appendChild(docLink);\n",
              "        }\n",
              "      </script>\n",
              "    </div>\n",
              "  </div>\n",
              "  "
            ]
          },
          "metadata": {}
        }
      ]
    },
    {
      "cell_type": "markdown",
      "source": [
        "데이터 전처리\n",
        "\n",
        "\n",
        "*   엑셀에서 기준년도, 시도코드, 구강검진 수검여부, 치아우식증유무, 치석, 데이터공개일자 변수 삭제\n",
        "\n",
        "*   엑셀에서 종속변수가 될 식전혈당(공복혈당) 변수 맨 오른쪽(23번째)으로 이동\n"
      ],
      "metadata": {
        "id": "hsY03sj9Q6Mb"
      }
    },
    {
      "cell_type": "code",
      "source": [
        "# 결측치가 포함된 행 제거\n",
        "health = health.dropna()\n",
        "display(health.info())\n",
        "display(health.head())"
      ],
      "metadata": {
        "colab": {
          "base_uri": "https://localhost:8080/",
          "height": 1000
        },
        "id": "go-65YDk1a1y",
        "outputId": "622cb8a2-ff0f-48af-9bcc-f500b15970f4"
      },
      "execution_count": 4,
      "outputs": [
        {
          "output_type": "stream",
          "name": "stdout",
          "text": [
            "<class 'pandas.core.frame.DataFrame'>\n",
            "Int64Index: 3955 entries, 1 to 10000\n",
            "Data columns (total 24 columns):\n",
            " #   Column       Non-Null Count  Dtype  \n",
            "---  ------       --------------  -----  \n",
            " 0   성별코드         3955 non-null   object \n",
            " 1   연령대코드(5세단위)  3955 non-null   int64  \n",
            " 2   신장(5Cm단위)    3955 non-null   int64  \n",
            " 3   체중(5Kg 단위)   3955 non-null   int64  \n",
            " 4   허리둘레         3955 non-null   float64\n",
            " 5   시력(좌)        3955 non-null   float64\n",
            " 6   시력(우)        3955 non-null   float64\n",
            " 7   청력(좌)        3955 non-null   int64  \n",
            " 8   청력(우)        3955 non-null   int64  \n",
            " 9   수축기혈압        3955 non-null   float64\n",
            " 10  이완기혈압        3955 non-null   float64\n",
            " 11  총콜레스테롤       3955 non-null   float64\n",
            " 12  트리글리세라이드     3955 non-null   float64\n",
            " 13  HDL콜레스테롤     3955 non-null   float64\n",
            " 14  LDL콜레스테롤     3955 non-null   float64\n",
            " 15  혈색소          3955 non-null   float64\n",
            " 16  요단백          3955 non-null   float64\n",
            " 17  혈청크레아티닌      3955 non-null   float64\n",
            " 18  (혈청지오티)AST   3955 non-null   float64\n",
            " 19  (혈청지오티)ALT   3955 non-null   float64\n",
            " 20  감마지티피        3955 non-null   float64\n",
            " 21  음주여부         3955 non-null   object \n",
            " 22  흡연상태         3955 non-null   object \n",
            " 23  식전혈당(공복혈당)   3955 non-null   float64\n",
            "dtypes: float64(16), int64(5), object(3)\n",
            "memory usage: 772.5+ KB\n"
          ]
        },
        {
          "output_type": "display_data",
          "data": {
            "text/plain": [
              "None"
            ]
          },
          "metadata": {}
        },
        {
          "output_type": "display_data",
          "data": {
            "text/plain": [
              "        성별코드  연령대코드(5세단위)  신장(5Cm단위)  체중(5Kg 단위)  허리둘레  시력(좌)  시력(우)  청력(좌)  \\\n",
              "가입자일련번호                                                                       \n",
              "1          M            9        165          60  72.1    1.2    1.5      1   \n",
              "5          F           12        155          50  75.2    1.5    1.2      1   \n",
              "6          M            9        185          85  94.0    1.2    1.2      1   \n",
              "7          M            9        165          80  93.0    0.8    0.7      1   \n",
              "9          F           17        150          50  82.0    0.4    0.5      2   \n",
              "\n",
              "         청력(우)  수축기혈압  ...  LDL콜레스테롤   혈색소  요단백  혈청크레아티닌  (혈청지오티)AST  \\\n",
              "가입자일련번호                ...                                             \n",
              "1            1  127.0  ...     118.0  15.0  1.0      1.1        21.0   \n",
              "5            1  144.0  ...     133.0  12.4  1.0      0.7        18.0   \n",
              "6            1  114.0  ...     147.0  16.4  1.0      1.1        25.0   \n",
              "7            2  112.0  ...      40.0  15.7  1.0      0.7        18.0   \n",
              "9            2  136.0  ...     101.0  13.3  1.0      0.7        42.0   \n",
              "\n",
              "         (혈청지오티)ALT  감마지티피  음주여부  흡연상태  식전혈당(공복혈당)  \n",
              "가입자일련번호                                             \n",
              "1              27.0   21.0    No    No        90.0  \n",
              "5              17.0   14.0    No    No       110.0  \n",
              "6              32.0   26.0   Yes   Yes        86.0  \n",
              "7              20.0   35.0   Yes   Yes       250.0  \n",
              "9              48.0   39.0    No    No       104.0  \n",
              "\n",
              "[5 rows x 24 columns]"
            ],
            "text/html": [
              "\n",
              "  <div id=\"df-97ac5187-63e9-4a1b-b01d-10a00cf3e254\">\n",
              "    <div class=\"colab-df-container\">\n",
              "      <div>\n",
              "<style scoped>\n",
              "    .dataframe tbody tr th:only-of-type {\n",
              "        vertical-align: middle;\n",
              "    }\n",
              "\n",
              "    .dataframe tbody tr th {\n",
              "        vertical-align: top;\n",
              "    }\n",
              "\n",
              "    .dataframe thead th {\n",
              "        text-align: right;\n",
              "    }\n",
              "</style>\n",
              "<table border=\"1\" class=\"dataframe\">\n",
              "  <thead>\n",
              "    <tr style=\"text-align: right;\">\n",
              "      <th></th>\n",
              "      <th>성별코드</th>\n",
              "      <th>연령대코드(5세단위)</th>\n",
              "      <th>신장(5Cm단위)</th>\n",
              "      <th>체중(5Kg 단위)</th>\n",
              "      <th>허리둘레</th>\n",
              "      <th>시력(좌)</th>\n",
              "      <th>시력(우)</th>\n",
              "      <th>청력(좌)</th>\n",
              "      <th>청력(우)</th>\n",
              "      <th>수축기혈압</th>\n",
              "      <th>...</th>\n",
              "      <th>LDL콜레스테롤</th>\n",
              "      <th>혈색소</th>\n",
              "      <th>요단백</th>\n",
              "      <th>혈청크레아티닌</th>\n",
              "      <th>(혈청지오티)AST</th>\n",
              "      <th>(혈청지오티)ALT</th>\n",
              "      <th>감마지티피</th>\n",
              "      <th>음주여부</th>\n",
              "      <th>흡연상태</th>\n",
              "      <th>식전혈당(공복혈당)</th>\n",
              "    </tr>\n",
              "    <tr>\n",
              "      <th>가입자일련번호</th>\n",
              "      <th></th>\n",
              "      <th></th>\n",
              "      <th></th>\n",
              "      <th></th>\n",
              "      <th></th>\n",
              "      <th></th>\n",
              "      <th></th>\n",
              "      <th></th>\n",
              "      <th></th>\n",
              "      <th></th>\n",
              "      <th></th>\n",
              "      <th></th>\n",
              "      <th></th>\n",
              "      <th></th>\n",
              "      <th></th>\n",
              "      <th></th>\n",
              "      <th></th>\n",
              "      <th></th>\n",
              "      <th></th>\n",
              "      <th></th>\n",
              "      <th></th>\n",
              "    </tr>\n",
              "  </thead>\n",
              "  <tbody>\n",
              "    <tr>\n",
              "      <th>1</th>\n",
              "      <td>M</td>\n",
              "      <td>9</td>\n",
              "      <td>165</td>\n",
              "      <td>60</td>\n",
              "      <td>72.1</td>\n",
              "      <td>1.2</td>\n",
              "      <td>1.5</td>\n",
              "      <td>1</td>\n",
              "      <td>1</td>\n",
              "      <td>127.0</td>\n",
              "      <td>...</td>\n",
              "      <td>118.0</td>\n",
              "      <td>15.0</td>\n",
              "      <td>1.0</td>\n",
              "      <td>1.1</td>\n",
              "      <td>21.0</td>\n",
              "      <td>27.0</td>\n",
              "      <td>21.0</td>\n",
              "      <td>No</td>\n",
              "      <td>No</td>\n",
              "      <td>90.0</td>\n",
              "    </tr>\n",
              "    <tr>\n",
              "      <th>5</th>\n",
              "      <td>F</td>\n",
              "      <td>12</td>\n",
              "      <td>155</td>\n",
              "      <td>50</td>\n",
              "      <td>75.2</td>\n",
              "      <td>1.5</td>\n",
              "      <td>1.2</td>\n",
              "      <td>1</td>\n",
              "      <td>1</td>\n",
              "      <td>144.0</td>\n",
              "      <td>...</td>\n",
              "      <td>133.0</td>\n",
              "      <td>12.4</td>\n",
              "      <td>1.0</td>\n",
              "      <td>0.7</td>\n",
              "      <td>18.0</td>\n",
              "      <td>17.0</td>\n",
              "      <td>14.0</td>\n",
              "      <td>No</td>\n",
              "      <td>No</td>\n",
              "      <td>110.0</td>\n",
              "    </tr>\n",
              "    <tr>\n",
              "      <th>6</th>\n",
              "      <td>M</td>\n",
              "      <td>9</td>\n",
              "      <td>185</td>\n",
              "      <td>85</td>\n",
              "      <td>94.0</td>\n",
              "      <td>1.2</td>\n",
              "      <td>1.2</td>\n",
              "      <td>1</td>\n",
              "      <td>1</td>\n",
              "      <td>114.0</td>\n",
              "      <td>...</td>\n",
              "      <td>147.0</td>\n",
              "      <td>16.4</td>\n",
              "      <td>1.0</td>\n",
              "      <td>1.1</td>\n",
              "      <td>25.0</td>\n",
              "      <td>32.0</td>\n",
              "      <td>26.0</td>\n",
              "      <td>Yes</td>\n",
              "      <td>Yes</td>\n",
              "      <td>86.0</td>\n",
              "    </tr>\n",
              "    <tr>\n",
              "      <th>7</th>\n",
              "      <td>M</td>\n",
              "      <td>9</td>\n",
              "      <td>165</td>\n",
              "      <td>80</td>\n",
              "      <td>93.0</td>\n",
              "      <td>0.8</td>\n",
              "      <td>0.7</td>\n",
              "      <td>1</td>\n",
              "      <td>2</td>\n",
              "      <td>112.0</td>\n",
              "      <td>...</td>\n",
              "      <td>40.0</td>\n",
              "      <td>15.7</td>\n",
              "      <td>1.0</td>\n",
              "      <td>0.7</td>\n",
              "      <td>18.0</td>\n",
              "      <td>20.0</td>\n",
              "      <td>35.0</td>\n",
              "      <td>Yes</td>\n",
              "      <td>Yes</td>\n",
              "      <td>250.0</td>\n",
              "    </tr>\n",
              "    <tr>\n",
              "      <th>9</th>\n",
              "      <td>F</td>\n",
              "      <td>17</td>\n",
              "      <td>150</td>\n",
              "      <td>50</td>\n",
              "      <td>82.0</td>\n",
              "      <td>0.4</td>\n",
              "      <td>0.5</td>\n",
              "      <td>2</td>\n",
              "      <td>2</td>\n",
              "      <td>136.0</td>\n",
              "      <td>...</td>\n",
              "      <td>101.0</td>\n",
              "      <td>13.3</td>\n",
              "      <td>1.0</td>\n",
              "      <td>0.7</td>\n",
              "      <td>42.0</td>\n",
              "      <td>48.0</td>\n",
              "      <td>39.0</td>\n",
              "      <td>No</td>\n",
              "      <td>No</td>\n",
              "      <td>104.0</td>\n",
              "    </tr>\n",
              "  </tbody>\n",
              "</table>\n",
              "<p>5 rows × 24 columns</p>\n",
              "</div>\n",
              "      <button class=\"colab-df-convert\" onclick=\"convertToInteractive('df-97ac5187-63e9-4a1b-b01d-10a00cf3e254')\"\n",
              "              title=\"Convert this dataframe to an interactive table.\"\n",
              "              style=\"display:none;\">\n",
              "        \n",
              "  <svg xmlns=\"http://www.w3.org/2000/svg\" height=\"24px\"viewBox=\"0 0 24 24\"\n",
              "       width=\"24px\">\n",
              "    <path d=\"M0 0h24v24H0V0z\" fill=\"none\"/>\n",
              "    <path d=\"M18.56 5.44l.94 2.06.94-2.06 2.06-.94-2.06-.94-.94-2.06-.94 2.06-2.06.94zm-11 1L8.5 8.5l.94-2.06 2.06-.94-2.06-.94L8.5 2.5l-.94 2.06-2.06.94zm10 10l.94 2.06.94-2.06 2.06-.94-2.06-.94-.94-2.06-.94 2.06-2.06.94z\"/><path d=\"M17.41 7.96l-1.37-1.37c-.4-.4-.92-.59-1.43-.59-.52 0-1.04.2-1.43.59L10.3 9.45l-7.72 7.72c-.78.78-.78 2.05 0 2.83L4 21.41c.39.39.9.59 1.41.59.51 0 1.02-.2 1.41-.59l7.78-7.78 2.81-2.81c.8-.78.8-2.07 0-2.86zM5.41 20L4 18.59l7.72-7.72 1.47 1.35L5.41 20z\"/>\n",
              "  </svg>\n",
              "      </button>\n",
              "      \n",
              "  <style>\n",
              "    .colab-df-container {\n",
              "      display:flex;\n",
              "      flex-wrap:wrap;\n",
              "      gap: 12px;\n",
              "    }\n",
              "\n",
              "    .colab-df-convert {\n",
              "      background-color: #E8F0FE;\n",
              "      border: none;\n",
              "      border-radius: 50%;\n",
              "      cursor: pointer;\n",
              "      display: none;\n",
              "      fill: #1967D2;\n",
              "      height: 32px;\n",
              "      padding: 0 0 0 0;\n",
              "      width: 32px;\n",
              "    }\n",
              "\n",
              "    .colab-df-convert:hover {\n",
              "      background-color: #E2EBFA;\n",
              "      box-shadow: 0px 1px 2px rgba(60, 64, 67, 0.3), 0px 1px 3px 1px rgba(60, 64, 67, 0.15);\n",
              "      fill: #174EA6;\n",
              "    }\n",
              "\n",
              "    [theme=dark] .colab-df-convert {\n",
              "      background-color: #3B4455;\n",
              "      fill: #D2E3FC;\n",
              "    }\n",
              "\n",
              "    [theme=dark] .colab-df-convert:hover {\n",
              "      background-color: #434B5C;\n",
              "      box-shadow: 0px 1px 3px 1px rgba(0, 0, 0, 0.15);\n",
              "      filter: drop-shadow(0px 1px 2px rgba(0, 0, 0, 0.3));\n",
              "      fill: #FFFFFF;\n",
              "    }\n",
              "  </style>\n",
              "\n",
              "      <script>\n",
              "        const buttonEl =\n",
              "          document.querySelector('#df-97ac5187-63e9-4a1b-b01d-10a00cf3e254 button.colab-df-convert');\n",
              "        buttonEl.style.display =\n",
              "          google.colab.kernel.accessAllowed ? 'block' : 'none';\n",
              "\n",
              "        async function convertToInteractive(key) {\n",
              "          const element = document.querySelector('#df-97ac5187-63e9-4a1b-b01d-10a00cf3e254');\n",
              "          const dataTable =\n",
              "            await google.colab.kernel.invokeFunction('convertToInteractive',\n",
              "                                                     [key], {});\n",
              "          if (!dataTable) return;\n",
              "\n",
              "          const docLinkHtml = 'Like what you see? Visit the ' +\n",
              "            '<a target=\"_blank\" href=https://colab.research.google.com/notebooks/data_table.ipynb>data table notebook</a>'\n",
              "            + ' to learn more about interactive tables.';\n",
              "          element.innerHTML = '';\n",
              "          dataTable['output_type'] = 'display_data';\n",
              "          await google.colab.output.renderOutput(dataTable, element);\n",
              "          const docLink = document.createElement('div');\n",
              "          docLink.innerHTML = docLinkHtml;\n",
              "          element.appendChild(docLink);\n",
              "        }\n",
              "      </script>\n",
              "    </div>\n",
              "  </div>\n",
              "  "
            ]
          },
          "metadata": {}
        }
      ]
    },
    {
      "cell_type": "markdown",
      "source": [
        "\n",
        "\n",
        "*   범주형 변수를 수치형 변수로 변경\n",
        "\n",
        "\n"
      ],
      "metadata": {
        "id": "wlO9rYAvDNiz"
      }
    },
    {
      "cell_type": "code",
      "execution_count": 5,
      "metadata": {
        "id": "SDu-q0Baylvw"
      },
      "outputs": [],
      "source": [
        "from sklearn.preprocessing import LabelEncoder\n",
        "encoder = LabelEncoder()\n",
        "encoder.fit(health.음주여부)\n",
        "health['음주여부'] = encoder.transform(health.음주여부)\n",
        "\n",
        "encoder_1 = LabelEncoder()\n",
        "encoder_1.fit(health.흡연상태)\n",
        "health['흡연상태'] = encoder_1.transform(health.흡연상태) \n",
        "\n",
        "health['성별코드'] = health['성별코드'].apply(lambda x : 1 if x =='남자' else 0)"
      ]
    },
    {
      "cell_type": "markdown",
      "source": [
        "\n",
        "\n",
        "*   종속변수인 식전혈당(공복혈당) 변수를 범주형 이진 클래스로 변경\n",
        "\n"
      ],
      "metadata": {
        "id": "-TYp8Pw5DUId"
      }
    },
    {
      "cell_type": "code",
      "source": [
        "health['식전혈당(공복혈당)'] = health['식전혈당(공복혈당)'].apply(lambda x : 'NH' if x < 100 else 'H')"
      ],
      "metadata": {
        "id": "fu775KAKDU0Q"
      },
      "execution_count": 6,
      "outputs": []
    },
    {
      "cell_type": "markdown",
      "source": [
        "# 1. 의사결정나무 모델"
      ],
      "metadata": {
        "id": "x6khhpXdWwRI"
      }
    },
    {
      "cell_type": "markdown",
      "source": [
        "종속변수, 독립변수 설정"
      ],
      "metadata": {
        "id": "KOoGnly_XHRr"
      }
    },
    {
      "cell_type": "code",
      "source": [
        "x = health.iloc[:, 0:23]\n",
        "y = health.iloc[:, 23]\n",
        "x.info()\n",
        "y.value_counts()   "
      ],
      "metadata": {
        "colab": {
          "base_uri": "https://localhost:8080/"
        },
        "id": "vzdXAzNz4Bb4",
        "outputId": "667b2310-3435-4b1d-e18d-a91ad8da1bce"
      },
      "execution_count": 7,
      "outputs": [
        {
          "output_type": "stream",
          "name": "stdout",
          "text": [
            "<class 'pandas.core.frame.DataFrame'>\n",
            "Int64Index: 3955 entries, 1 to 10000\n",
            "Data columns (total 23 columns):\n",
            " #   Column       Non-Null Count  Dtype  \n",
            "---  ------       --------------  -----  \n",
            " 0   성별코드         3955 non-null   int64  \n",
            " 1   연령대코드(5세단위)  3955 non-null   int64  \n",
            " 2   신장(5Cm단위)    3955 non-null   int64  \n",
            " 3   체중(5Kg 단위)   3955 non-null   int64  \n",
            " 4   허리둘레         3955 non-null   float64\n",
            " 5   시력(좌)        3955 non-null   float64\n",
            " 6   시력(우)        3955 non-null   float64\n",
            " 7   청력(좌)        3955 non-null   int64  \n",
            " 8   청력(우)        3955 non-null   int64  \n",
            " 9   수축기혈압        3955 non-null   float64\n",
            " 10  이완기혈압        3955 non-null   float64\n",
            " 11  총콜레스테롤       3955 non-null   float64\n",
            " 12  트리글리세라이드     3955 non-null   float64\n",
            " 13  HDL콜레스테롤     3955 non-null   float64\n",
            " 14  LDL콜레스테롤     3955 non-null   float64\n",
            " 15  혈색소          3955 non-null   float64\n",
            " 16  요단백          3955 non-null   float64\n",
            " 17  혈청크레아티닌      3955 non-null   float64\n",
            " 18  (혈청지오티)AST   3955 non-null   float64\n",
            " 19  (혈청지오티)ALT   3955 non-null   float64\n",
            " 20  감마지티피        3955 non-null   float64\n",
            " 21  음주여부         3955 non-null   int64  \n",
            " 22  흡연상태         3955 non-null   int64  \n",
            "dtypes: float64(15), int64(8)\n",
            "memory usage: 741.6 KB\n"
          ]
        },
        {
          "output_type": "execute_result",
          "data": {
            "text/plain": [
              "NH    2100\n",
              "H     1855\n",
              "Name: 식전혈당(공복혈당), dtype: int64"
            ]
          },
          "metadata": {},
          "execution_count": 7
        }
      ]
    },
    {
      "cell_type": "markdown",
      "source": [
        "데이터셋을 학습(train)과 테스트(test) 세트로 분할"
      ],
      "metadata": {
        "id": "Ak07AIIoXVUc"
      }
    },
    {
      "cell_type": "code",
      "source": [
        "from sklearn.model_selection import train_test_split\n",
        "x_train, x_test, y_train, y_test  = train_test_split(x,y,test_size=0.25)\n",
        "from collections import Counter"
      ],
      "metadata": {
        "id": "SUeC9ujb0d__"
      },
      "execution_count": 8,
      "outputs": []
    },
    {
      "cell_type": "code",
      "source": [
        "Counter(y_train)"
      ],
      "metadata": {
        "colab": {
          "base_uri": "https://localhost:8080/"
        },
        "id": "dHgASnQU5JAf",
        "outputId": "f462b0b9-b270-4204-ea3b-42090bda4ac4"
      },
      "execution_count": 9,
      "outputs": [
        {
          "output_type": "execute_result",
          "data": {
            "text/plain": [
              "Counter({'NH': 1547, 'H': 1419})"
            ]
          },
          "metadata": {},
          "execution_count": 9
        }
      ]
    },
    {
      "cell_type": "code",
      "source": [
        "Counter(y_test)"
      ],
      "metadata": {
        "colab": {
          "base_uri": "https://localhost:8080/"
        },
        "id": "1hQ4edHg5KMV",
        "outputId": "82c097a0-f4b2-440f-c45b-db227d7f1c26"
      },
      "execution_count": 10,
      "outputs": [
        {
          "output_type": "execute_result",
          "data": {
            "text/plain": [
              "Counter({'NH': 553, 'H': 436})"
            ]
          },
          "metadata": {},
          "execution_count": 10
        }
      ]
    },
    {
      "cell_type": "markdown",
      "source": [
        "성능 확인"
      ],
      "metadata": {
        "id": "NB3KrEXGXLyj"
      }
    },
    {
      "cell_type": "code",
      "source": [
        "from sklearn.tree import DecisionTreeClassifier\n",
        "tree = DecisionTreeClassifier(random_state=0)\n",
        "\n",
        "tree.fit(x_train, y_train)\n",
        "print(\"학습용 데이터 정확도: {:.3f}\".format(tree.score(x_train, y_train)))\n",
        "print(\"시험용 데이터 정확도: {:.3f}\".format(tree.score(x_test, y_test)))\n",
        "\n",
        "# 학습용 데이터에 대한 정확도가 과적합이므로, max_depth 제한 필요"
      ],
      "metadata": {
        "colab": {
          "base_uri": "https://localhost:8080/"
        },
        "id": "X6q2JQO_5VGi",
        "outputId": "4cf591f1-b32c-476e-c043-f56e7d4e2c02"
      },
      "execution_count": 11,
      "outputs": [
        {
          "output_type": "stream",
          "name": "stdout",
          "text": [
            "학습용 데이터 정확도: 1.000\n",
            "시험용 데이터 정확도: 0.523\n"
          ]
        }
      ]
    },
    {
      "cell_type": "code",
      "source": [
        "tree = DecisionTreeClassifier(random_state=0, max_depth = 5) # max_depth를 5로 제한\n",
        "\n",
        "tree.fit(x_train, y_train)\n",
        "print(\"학습용 데이터 정확도: {:.3f}\".format(tree.score(x_train, y_train)))\n",
        "print(\"시험용 데이터 정확도: {:.3f}\".format(tree.score(x_test, y_test)))\n",
        "\n",
        "# 학습용 데이터 정확도의 과적합 문제 해결 및 시험용 데이터 정확도 증가"
      ],
      "metadata": {
        "colab": {
          "base_uri": "https://localhost:8080/"
        },
        "id": "wYErNoWj6V83",
        "outputId": "bcae9e0d-0a50-4e25-f30a-138749a4a58c"
      },
      "execution_count": 12,
      "outputs": [
        {
          "output_type": "stream",
          "name": "stdout",
          "text": [
            "학습용 데이터 정확도: 0.669\n",
            "시험용 데이터 정확도: 0.604\n"
          ]
        }
      ]
    },
    {
      "cell_type": "markdown",
      "source": [
        "의사결정나무 그리기"
      ],
      "metadata": {
        "id": "kv-vIRAIXjnI"
      }
    },
    {
      "cell_type": "code",
      "source": [
        "from sklearn.tree import export_graphviz\n",
        "import graphviz\n",
        "\n",
        "export_graphviz(tree, out_file=\"tree.dot\", class_names=[\"H\", \"NH\"],\n",
        "                feature_names=health.columns[0:23], impurity=False, filled=True)\n",
        "\n",
        "with open(\"tree.dot\") as f:\n",
        "    dot_graph = f.read()\n",
        "\n",
        "display(graphviz.Source(dot_graph))"
      ],
      "metadata": {
        "colab": {
          "base_uri": "https://localhost:8080/",
          "height": 814
        },
        "id": "j1P5hy0l6kwo",
        "outputId": "59c43a97-df54-4dcc-ede9-c2f1ba6e7eac"
      },
      "execution_count": 13,
      "outputs": [
        {
          "output_type": "display_data",
          "data": {
            "text/plain": [
              "<graphviz.files.Source at 0x7f1edb097210>"
            ],
            "image/svg+xml": "<?xml version=\"1.0\" encoding=\"UTF-8\" standalone=\"no\"?>\n<!DOCTYPE svg PUBLIC \"-//W3C//DTD SVG 1.1//EN\"\n \"http://www.w3.org/Graphics/SVG/1.1/DTD/svg11.dtd\">\n<!-- Generated by graphviz version 2.40.1 (20161225.0304)\n -->\n<!-- Title: Tree Pages: 1 -->\n<svg width=\"3895pt\" height=\"581pt\"\n viewBox=\"0.00 0.00 3895.00 581.00\" xmlns=\"http://www.w3.org/2000/svg\" xmlns:xlink=\"http://www.w3.org/1999/xlink\">\n<g id=\"graph0\" class=\"graph\" transform=\"scale(1 1) rotate(0) translate(4 577)\">\n<title>Tree</title>\n<polygon fill=\"#ffffff\" stroke=\"transparent\" points=\"-4,4 -4,-577 3891,-577 3891,4 -4,4\"/>\n<!-- 0 -->\n<g id=\"node1\" class=\"node\">\n<title>0</title>\n<polygon fill=\"#eff7fd\" stroke=\"#000000\" points=\"2050.5,-573 1901.5,-573 1901.5,-505 2050.5,-505 2050.5,-573\"/>\n<text text-anchor=\"middle\" x=\"1976\" y=\"-557.8\" font-family=\"Helvetica,sans-Serif\" font-size=\"14.00\" fill=\"#000000\">감마지티피 &lt;= 20.5</text>\n<text text-anchor=\"middle\" x=\"1976\" y=\"-542.8\" font-family=\"Helvetica,sans-Serif\" font-size=\"14.00\" fill=\"#000000\">samples = 2966</text>\n<text text-anchor=\"middle\" x=\"1976\" y=\"-527.8\" font-family=\"Helvetica,sans-Serif\" font-size=\"14.00\" fill=\"#000000\">value = [1419, 1547]</text>\n<text text-anchor=\"middle\" x=\"1976\" y=\"-512.8\" font-family=\"Helvetica,sans-Serif\" font-size=\"14.00\" fill=\"#000000\">class = NH</text>\n</g>\n<!-- 1 -->\n<g id=\"node2\" class=\"node\">\n<title>1</title>\n<polygon fill=\"#a7d4f3\" stroke=\"#000000\" points=\"1435,-469 1241,-469 1241,-401 1435,-401 1435,-469\"/>\n<text text-anchor=\"middle\" x=\"1338\" y=\"-453.8\" font-family=\"Helvetica,sans-Serif\" font-size=\"14.00\" fill=\"#000000\">연령대코드(5세단위) &lt;= 12.5</text>\n<text text-anchor=\"middle\" x=\"1338\" y=\"-438.8\" font-family=\"Helvetica,sans-Serif\" font-size=\"14.00\" fill=\"#000000\">samples = 1229</text>\n<text text-anchor=\"middle\" x=\"1338\" y=\"-423.8\" font-family=\"Helvetica,sans-Serif\" font-size=\"14.00\" fill=\"#000000\">value = [440, 789]</text>\n<text text-anchor=\"middle\" x=\"1338\" y=\"-408.8\" font-family=\"Helvetica,sans-Serif\" font-size=\"14.00\" fill=\"#000000\">class = NH</text>\n</g>\n<!-- 0&#45;&gt;1 -->\n<g id=\"edge1\" class=\"edge\">\n<title>0&#45;&gt;1</title>\n<path fill=\"none\" stroke=\"#000000\" d=\"M1901.2512,-526.8152C1788.5264,-508.44 1574.4894,-473.55 1445.1798,-452.4713\"/>\n<polygon fill=\"#000000\" stroke=\"#000000\" points=\"1445.6821,-449.0071 1435.2492,-450.8525 1444.5558,-455.9159 1445.6821,-449.0071\"/>\n<text text-anchor=\"middle\" x=\"1449.8525\" y=\"-467.444\" font-family=\"Helvetica,sans-Serif\" font-size=\"14.00\" fill=\"#000000\">True</text>\n</g>\n<!-- 30 -->\n<g id=\"node31\" class=\"node\">\n<title>30</title>\n<polygon fill=\"#f9e3d2\" stroke=\"#000000\" points=\"2362.5,-469 2177.5,-469 2177.5,-401 2362.5,-401 2362.5,-469\"/>\n<text text-anchor=\"middle\" x=\"2270\" y=\"-453.8\" font-family=\"Helvetica,sans-Serif\" font-size=\"14.00\" fill=\"#000000\">트리글리세라이드 &lt;= 115.5</text>\n<text text-anchor=\"middle\" x=\"2270\" y=\"-438.8\" font-family=\"Helvetica,sans-Serif\" font-size=\"14.00\" fill=\"#000000\">samples = 1737</text>\n<text text-anchor=\"middle\" x=\"2270\" y=\"-423.8\" font-family=\"Helvetica,sans-Serif\" font-size=\"14.00\" fill=\"#000000\">value = [979, 758]</text>\n<text text-anchor=\"middle\" x=\"2270\" y=\"-408.8\" font-family=\"Helvetica,sans-Serif\" font-size=\"14.00\" fill=\"#000000\">class = H</text>\n</g>\n<!-- 0&#45;&gt;30 -->\n<g id=\"edge30\" class=\"edge\">\n<title>0&#45;&gt;30</title>\n<path fill=\"none\" stroke=\"#000000\" d=\"M2050.5687,-512.622C2086.0902,-500.0565 2129.1343,-484.8301 2167.6574,-471.2028\"/>\n<polygon fill=\"#000000\" stroke=\"#000000\" points=\"2169.0863,-474.41 2177.3466,-467.7753 2166.7518,-467.8107 2169.0863,-474.41\"/>\n<text text-anchor=\"middle\" x=\"2166.5763\" y=\"-486.6364\" font-family=\"Helvetica,sans-Serif\" font-size=\"14.00\" fill=\"#000000\">False</text>\n</g>\n<!-- 2 -->\n<g id=\"node3\" class=\"node\">\n<title>2</title>\n<polygon fill=\"#85c3ef\" stroke=\"#000000\" points=\"859.5,-365 674.5,-365 674.5,-297 859.5,-297 859.5,-365\"/>\n<text text-anchor=\"middle\" x=\"767\" y=\"-349.8\" font-family=\"Helvetica,sans-Serif\" font-size=\"14.00\" fill=\"#000000\">트리글리세라이드 &lt;= 103.5</text>\n<text text-anchor=\"middle\" x=\"767\" y=\"-334.8\" font-family=\"Helvetica,sans-Serif\" font-size=\"14.00\" fill=\"#000000\">samples = 668</text>\n<text text-anchor=\"middle\" x=\"767\" y=\"-319.8\" font-family=\"Helvetica,sans-Serif\" font-size=\"14.00\" fill=\"#000000\">value = [186, 482]</text>\n<text text-anchor=\"middle\" x=\"767\" y=\"-304.8\" font-family=\"Helvetica,sans-Serif\" font-size=\"14.00\" fill=\"#000000\">class = NH</text>\n</g>\n<!-- 1&#45;&gt;2 -->\n<g id=\"edge2\" class=\"edge\">\n<title>1&#45;&gt;2</title>\n<path fill=\"none\" stroke=\"#000000\" d=\"M1240.8142,-417.2989C1137.6528,-398.5094 975.2793,-368.9353 869.968,-349.7542\"/>\n<polygon fill=\"#000000\" stroke=\"#000000\" points=\"870.424,-346.2798 859.9587,-347.9312 869.1696,-353.1665 870.424,-346.2798\"/>\n</g>\n<!-- 17 -->\n<g id=\"node18\" class=\"node\">\n<title>17</title>\n<polygon fill=\"#ddeefb\" stroke=\"#000000\" points=\"1420,-365 1256,-365 1256,-297 1420,-297 1420,-365\"/>\n<text text-anchor=\"middle\" x=\"1338\" y=\"-349.8\" font-family=\"Helvetica,sans-Serif\" font-size=\"14.00\" fill=\"#000000\">LDL콜레스테롤 &lt;= 66.5</text>\n<text text-anchor=\"middle\" x=\"1338\" y=\"-334.8\" font-family=\"Helvetica,sans-Serif\" font-size=\"14.00\" fill=\"#000000\">samples = 561</text>\n<text text-anchor=\"middle\" x=\"1338\" y=\"-319.8\" font-family=\"Helvetica,sans-Serif\" font-size=\"14.00\" fill=\"#000000\">value = [254, 307]</text>\n<text text-anchor=\"middle\" x=\"1338\" y=\"-304.8\" font-family=\"Helvetica,sans-Serif\" font-size=\"14.00\" fill=\"#000000\">class = NH</text>\n</g>\n<!-- 1&#45;&gt;17 -->\n<g id=\"edge17\" class=\"edge\">\n<title>1&#45;&gt;17</title>\n<path fill=\"none\" stroke=\"#000000\" d=\"M1338,-400.9465C1338,-392.776 1338,-383.9318 1338,-375.3697\"/>\n<polygon fill=\"#000000\" stroke=\"#000000\" points=\"1341.5001,-375.13 1338,-365.13 1334.5001,-375.13 1341.5001,-375.13\"/>\n</g>\n<!-- 3 -->\n<g id=\"node4\" class=\"node\">\n<title>3</title>\n<polygon fill=\"#72b9ed\" stroke=\"#000000\" points=\"487,-261 323,-261 323,-193 487,-193 487,-261\"/>\n<text text-anchor=\"middle\" x=\"405\" y=\"-245.8\" font-family=\"Helvetica,sans-Serif\" font-size=\"14.00\" fill=\"#000000\">혈청크레아티닌 &lt;= 1.15</text>\n<text text-anchor=\"middle\" x=\"405\" y=\"-230.8\" font-family=\"Helvetica,sans-Serif\" font-size=\"14.00\" fill=\"#000000\">samples = 445</text>\n<text text-anchor=\"middle\" x=\"405\" y=\"-215.8\" font-family=\"Helvetica,sans-Serif\" font-size=\"14.00\" fill=\"#000000\">value = [100, 345]</text>\n<text text-anchor=\"middle\" x=\"405\" y=\"-200.8\" font-family=\"Helvetica,sans-Serif\" font-size=\"14.00\" fill=\"#000000\">class = NH</text>\n</g>\n<!-- 2&#45;&gt;3 -->\n<g id=\"edge3\" class=\"edge\">\n<title>2&#45;&gt;3</title>\n<path fill=\"none\" stroke=\"#000000\" d=\"M674.2461,-304.3525C619.7035,-288.6828 551.0063,-268.9465 496.6553,-253.3319\"/>\n<polygon fill=\"#000000\" stroke=\"#000000\" points=\"497.6044,-249.9631 487.0268,-250.5657 495.6715,-256.6909 497.6044,-249.9631\"/>\n</g>\n<!-- 10 -->\n<g id=\"node11\" class=\"node\">\n<title>10</title>\n<polygon fill=\"#b5dbf5\" stroke=\"#000000\" points=\"829,-261 705,-261 705,-193 829,-193 829,-261\"/>\n<text text-anchor=\"middle\" x=\"767\" y=\"-245.8\" font-family=\"Helvetica,sans-Serif\" font-size=\"14.00\" fill=\"#000000\">흡연상태 &lt;= 0.5</text>\n<text text-anchor=\"middle\" x=\"767\" y=\"-230.8\" font-family=\"Helvetica,sans-Serif\" font-size=\"14.00\" fill=\"#000000\">samples = 223</text>\n<text text-anchor=\"middle\" x=\"767\" y=\"-215.8\" font-family=\"Helvetica,sans-Serif\" font-size=\"14.00\" fill=\"#000000\">value = [86, 137]</text>\n<text text-anchor=\"middle\" x=\"767\" y=\"-200.8\" font-family=\"Helvetica,sans-Serif\" font-size=\"14.00\" fill=\"#000000\">class = NH</text>\n</g>\n<!-- 2&#45;&gt;10 -->\n<g id=\"edge10\" class=\"edge\">\n<title>2&#45;&gt;10</title>\n<path fill=\"none\" stroke=\"#000000\" d=\"M767,-296.9465C767,-288.776 767,-279.9318 767,-271.3697\"/>\n<polygon fill=\"#000000\" stroke=\"#000000\" points=\"770.5001,-271.13 767,-261.13 763.5001,-271.13 770.5001,-271.13\"/>\n</g>\n<!-- 4 -->\n<g id=\"node5\" class=\"node\">\n<title>4</title>\n<polygon fill=\"#6fb8ec\" stroke=\"#000000\" points=\"268.5,-157 131.5,-157 131.5,-89 268.5,-89 268.5,-157\"/>\n<text text-anchor=\"middle\" x=\"200\" y=\"-141.8\" font-family=\"Helvetica,sans-Serif\" font-size=\"14.00\" fill=\"#000000\">이완기혈압 &lt;= 79.5</text>\n<text text-anchor=\"middle\" x=\"200\" y=\"-126.8\" font-family=\"Helvetica,sans-Serif\" font-size=\"14.00\" fill=\"#000000\">samples = 438</text>\n<text text-anchor=\"middle\" x=\"200\" y=\"-111.8\" font-family=\"Helvetica,sans-Serif\" font-size=\"14.00\" fill=\"#000000\">value = [94, 344]</text>\n<text text-anchor=\"middle\" x=\"200\" y=\"-96.8\" font-family=\"Helvetica,sans-Serif\" font-size=\"14.00\" fill=\"#000000\">class = NH</text>\n</g>\n<!-- 3&#45;&gt;4 -->\n<g id=\"edge4\" class=\"edge\">\n<title>3&#45;&gt;4</title>\n<path fill=\"none\" stroke=\"#000000\" d=\"M337.8753,-192.9465C318.2305,-182.9803 296.6096,-172.0117 276.4323,-161.7754\"/>\n<polygon fill=\"#000000\" stroke=\"#000000\" points=\"277.777,-158.533 267.2755,-157.13 274.61,-164.7756 277.777,-158.533\"/>\n</g>\n<!-- 7 -->\n<g id=\"node8\" class=\"node\">\n<title>7</title>\n<polygon fill=\"#e9965a\" stroke=\"#000000\" points=\"486,-157 324,-157 324,-89 486,-89 486,-157\"/>\n<text text-anchor=\"middle\" x=\"405\" y=\"-141.8\" font-family=\"Helvetica,sans-Serif\" font-size=\"14.00\" fill=\"#000000\">체중(5Kg 단위) &lt;= 72.5</text>\n<text text-anchor=\"middle\" x=\"405\" y=\"-126.8\" font-family=\"Helvetica,sans-Serif\" font-size=\"14.00\" fill=\"#000000\">samples = 7</text>\n<text text-anchor=\"middle\" x=\"405\" y=\"-111.8\" font-family=\"Helvetica,sans-Serif\" font-size=\"14.00\" fill=\"#000000\">value = [6, 1]</text>\n<text text-anchor=\"middle\" x=\"405\" y=\"-96.8\" font-family=\"Helvetica,sans-Serif\" font-size=\"14.00\" fill=\"#000000\">class = H</text>\n</g>\n<!-- 3&#45;&gt;7 -->\n<g id=\"edge7\" class=\"edge\">\n<title>3&#45;&gt;7</title>\n<path fill=\"none\" stroke=\"#000000\" d=\"M405,-192.9465C405,-184.776 405,-175.9318 405,-167.3697\"/>\n<polygon fill=\"#000000\" stroke=\"#000000\" points=\"408.5001,-167.13 405,-157.13 401.5001,-167.13 408.5001,-167.13\"/>\n</g>\n<!-- 5 -->\n<g id=\"node6\" class=\"node\">\n<title>5</title>\n<polygon fill=\"#64b2eb\" stroke=\"#000000\" points=\"124,-53 0,-53 0,0 124,0 124,-53\"/>\n<text text-anchor=\"middle\" x=\"62\" y=\"-37.8\" font-family=\"Helvetica,sans-Serif\" font-size=\"14.00\" fill=\"#000000\">samples = 345</text>\n<text text-anchor=\"middle\" x=\"62\" y=\"-22.8\" font-family=\"Helvetica,sans-Serif\" font-size=\"14.00\" fill=\"#000000\">value = [61, 284]</text>\n<text text-anchor=\"middle\" x=\"62\" y=\"-7.8\" font-family=\"Helvetica,sans-Serif\" font-size=\"14.00\" fill=\"#000000\">class = NH</text>\n</g>\n<!-- 4&#45;&gt;5 -->\n<g id=\"edge5\" class=\"edge\">\n<title>4&#45;&gt;5</title>\n<path fill=\"none\" stroke=\"#000000\" d=\"M151.3464,-88.9777C137.4657,-79.2713 122.3786,-68.7213 108.6223,-59.1018\"/>\n<polygon fill=\"#000000\" stroke=\"#000000\" points=\"110.4526,-56.1109 100.2517,-53.2485 106.4411,-61.8475 110.4526,-56.1109\"/>\n</g>\n<!-- 6 -->\n<g id=\"node7\" class=\"node\">\n<title>6</title>\n<polygon fill=\"#a6d3f3\" stroke=\"#000000\" points=\"258,-53 142,-53 142,0 258,0 258,-53\"/>\n<text text-anchor=\"middle\" x=\"200\" y=\"-37.8\" font-family=\"Helvetica,sans-Serif\" font-size=\"14.00\" fill=\"#000000\">samples = 93</text>\n<text text-anchor=\"middle\" x=\"200\" y=\"-22.8\" font-family=\"Helvetica,sans-Serif\" font-size=\"14.00\" fill=\"#000000\">value = [33, 60]</text>\n<text text-anchor=\"middle\" x=\"200\" y=\"-7.8\" font-family=\"Helvetica,sans-Serif\" font-size=\"14.00\" fill=\"#000000\">class = NH</text>\n</g>\n<!-- 4&#45;&gt;6 -->\n<g id=\"edge6\" class=\"edge\">\n<title>4&#45;&gt;6</title>\n<path fill=\"none\" stroke=\"#000000\" d=\"M200,-88.9777C200,-80.7364 200,-71.887 200,-63.5153\"/>\n<polygon fill=\"#000000\" stroke=\"#000000\" points=\"203.5001,-63.2484 200,-53.2485 196.5001,-63.2485 203.5001,-63.2484\"/>\n</g>\n<!-- 8 -->\n<g id=\"node9\" class=\"node\">\n<title>8</title>\n<polygon fill=\"#e58139\" stroke=\"#000000\" points=\"375.5,-53 276.5,-53 276.5,0 375.5,0 375.5,-53\"/>\n<text text-anchor=\"middle\" x=\"326\" y=\"-37.8\" font-family=\"Helvetica,sans-Serif\" font-size=\"14.00\" fill=\"#000000\">samples = 6</text>\n<text text-anchor=\"middle\" x=\"326\" y=\"-22.8\" font-family=\"Helvetica,sans-Serif\" font-size=\"14.00\" fill=\"#000000\">value = [6, 0]</text>\n<text text-anchor=\"middle\" x=\"326\" y=\"-7.8\" font-family=\"Helvetica,sans-Serif\" font-size=\"14.00\" fill=\"#000000\">class = H</text>\n</g>\n<!-- 7&#45;&gt;8 -->\n<g id=\"edge8\" class=\"edge\">\n<title>7&#45;&gt;8</title>\n<path fill=\"none\" stroke=\"#000000\" d=\"M377.1476,-88.9777C369.7261,-79.9123 361.7023,-70.111 354.2593,-61.0192\"/>\n<polygon fill=\"#000000\" stroke=\"#000000\" points=\"356.9405,-58.7692 347.8977,-53.2485 351.5241,-63.2034 356.9405,-58.7692\"/>\n</g>\n<!-- 9 -->\n<g id=\"node10\" class=\"node\">\n<title>9</title>\n<polygon fill=\"#399de5\" stroke=\"#000000\" points=\"492.5,-53 393.5,-53 393.5,0 492.5,0 492.5,-53\"/>\n<text text-anchor=\"middle\" x=\"443\" y=\"-37.8\" font-family=\"Helvetica,sans-Serif\" font-size=\"14.00\" fill=\"#000000\">samples = 1</text>\n<text text-anchor=\"middle\" x=\"443\" y=\"-22.8\" font-family=\"Helvetica,sans-Serif\" font-size=\"14.00\" fill=\"#000000\">value = [0, 1]</text>\n<text text-anchor=\"middle\" x=\"443\" y=\"-7.8\" font-family=\"Helvetica,sans-Serif\" font-size=\"14.00\" fill=\"#000000\">class = NH</text>\n</g>\n<!-- 7&#45;&gt;9 -->\n<g id=\"edge9\" class=\"edge\">\n<title>7&#45;&gt;9</title>\n<path fill=\"none\" stroke=\"#000000\" d=\"M418.3974,-88.9777C421.7508,-80.4617 425.36,-71.2963 428.753,-62.6798\"/>\n<polygon fill=\"#000000\" stroke=\"#000000\" points=\"432.0595,-63.8355 432.4669,-53.2485 425.5463,-61.2707 432.0595,-63.8355\"/>\n</g>\n<!-- 11 -->\n<g id=\"node12\" class=\"node\">\n<title>11</title>\n<polygon fill=\"#9dcef2\" stroke=\"#000000\" points=\"762,-157 588,-157 588,-89 762,-89 762,-157\"/>\n<text text-anchor=\"middle\" x=\"675\" y=\"-141.8\" font-family=\"Helvetica,sans-Serif\" font-size=\"14.00\" fill=\"#000000\">(혈청지오티)AST &lt;= 15.5</text>\n<text text-anchor=\"middle\" x=\"675\" y=\"-126.8\" font-family=\"Helvetica,sans-Serif\" font-size=\"14.00\" fill=\"#000000\">samples = 167</text>\n<text text-anchor=\"middle\" x=\"675\" y=\"-111.8\" font-family=\"Helvetica,sans-Serif\" font-size=\"14.00\" fill=\"#000000\">value = [56, 111]</text>\n<text text-anchor=\"middle\" x=\"675\" y=\"-96.8\" font-family=\"Helvetica,sans-Serif\" font-size=\"14.00\" fill=\"#000000\">class = NH</text>\n</g>\n<!-- 10&#45;&gt;11 -->\n<g id=\"edge11\" class=\"edge\">\n<title>10&#45;&gt;11</title>\n<path fill=\"none\" stroke=\"#000000\" d=\"M736.8758,-192.9465C728.9332,-183.968 720.2709,-174.1758 712.011,-164.8385\"/>\n<polygon fill=\"#000000\" stroke=\"#000000\" points=\"714.4392,-162.301 705.1919,-157.13 709.1962,-166.939 714.4392,-162.301\"/>\n</g>\n<!-- 14 -->\n<g id=\"node15\" class=\"node\">\n<title>14</title>\n<polygon fill=\"#fceee5\" stroke=\"#000000\" points=\"938,-157 780,-157 780,-89 938,-89 938,-157\"/>\n<text text-anchor=\"middle\" x=\"859\" y=\"-141.8\" font-family=\"Helvetica,sans-Serif\" font-size=\"14.00\" fill=\"#000000\">총콜레스테롤 &lt;= 193.5</text>\n<text text-anchor=\"middle\" x=\"859\" y=\"-126.8\" font-family=\"Helvetica,sans-Serif\" font-size=\"14.00\" fill=\"#000000\">samples = 56</text>\n<text text-anchor=\"middle\" x=\"859\" y=\"-111.8\" font-family=\"Helvetica,sans-Serif\" font-size=\"14.00\" fill=\"#000000\">value = [30, 26]</text>\n<text text-anchor=\"middle\" x=\"859\" y=\"-96.8\" font-family=\"Helvetica,sans-Serif\" font-size=\"14.00\" fill=\"#000000\">class = H</text>\n</g>\n<!-- 10&#45;&gt;14 -->\n<g id=\"edge14\" class=\"edge\">\n<title>10&#45;&gt;14</title>\n<path fill=\"none\" stroke=\"#000000\" d=\"M797.1242,-192.9465C805.0668,-183.968 813.7291,-174.1758 821.989,-164.8385\"/>\n<polygon fill=\"#000000\" stroke=\"#000000\" points=\"824.8038,-166.939 828.8081,-157.13 819.5608,-162.301 824.8038,-166.939\"/>\n</g>\n<!-- 12 -->\n<g id=\"node13\" class=\"node\">\n<title>12</title>\n<polygon fill=\"#f3c6a5\" stroke=\"#000000\" points=\"617.5,-53 510.5,-53 510.5,0 617.5,0 617.5,-53\"/>\n<text text-anchor=\"middle\" x=\"564\" y=\"-37.8\" font-family=\"Helvetica,sans-Serif\" font-size=\"14.00\" fill=\"#000000\">samples = 17</text>\n<text text-anchor=\"middle\" x=\"564\" y=\"-22.8\" font-family=\"Helvetica,sans-Serif\" font-size=\"14.00\" fill=\"#000000\">value = [11, 6]</text>\n<text text-anchor=\"middle\" x=\"564\" y=\"-7.8\" font-family=\"Helvetica,sans-Serif\" font-size=\"14.00\" fill=\"#000000\">class = H</text>\n</g>\n<!-- 11&#45;&gt;12 -->\n<g id=\"edge12\" class=\"edge\">\n<title>11&#45;&gt;12</title>\n<path fill=\"none\" stroke=\"#000000\" d=\"M635.8656,-88.9777C625.0167,-79.546 613.2516,-69.3178 602.4426,-59.9208\"/>\n<polygon fill=\"#000000\" stroke=\"#000000\" points=\"604.6108,-57.1681 594.7677,-53.2485 600.0181,-62.4508 604.6108,-57.1681\"/>\n</g>\n<!-- 13 -->\n<g id=\"node14\" class=\"node\">\n<title>13</title>\n<polygon fill=\"#8ec7f0\" stroke=\"#000000\" points=\"760,-53 636,-53 636,0 760,0 760,-53\"/>\n<text text-anchor=\"middle\" x=\"698\" y=\"-37.8\" font-family=\"Helvetica,sans-Serif\" font-size=\"14.00\" fill=\"#000000\">samples = 150</text>\n<text text-anchor=\"middle\" x=\"698\" y=\"-22.8\" font-family=\"Helvetica,sans-Serif\" font-size=\"14.00\" fill=\"#000000\">value = [45, 105]</text>\n<text text-anchor=\"middle\" x=\"698\" y=\"-7.8\" font-family=\"Helvetica,sans-Serif\" font-size=\"14.00\" fill=\"#000000\">class = NH</text>\n</g>\n<!-- 11&#45;&gt;13 -->\n<g id=\"edge13\" class=\"edge\">\n<title>11&#45;&gt;13</title>\n<path fill=\"none\" stroke=\"#000000\" d=\"M683.1089,-88.9777C685.095,-80.6449 687.2293,-71.6903 689.2442,-63.2364\"/>\n<polygon fill=\"#000000\" stroke=\"#000000\" points=\"692.7108,-63.7875 691.6247,-53.2485 685.9015,-62.1645 692.7108,-63.7875\"/>\n</g>\n<!-- 15 -->\n<g id=\"node16\" class=\"node\">\n<title>15</title>\n<polygon fill=\"#a7d3f3\" stroke=\"#000000\" points=\"894,-53 778,-53 778,0 894,0 894,-53\"/>\n<text text-anchor=\"middle\" x=\"836\" y=\"-37.8\" font-family=\"Helvetica,sans-Serif\" font-size=\"14.00\" fill=\"#000000\">samples = 28</text>\n<text text-anchor=\"middle\" x=\"836\" y=\"-22.8\" font-family=\"Helvetica,sans-Serif\" font-size=\"14.00\" fill=\"#000000\">value = [10, 18]</text>\n<text text-anchor=\"middle\" x=\"836\" y=\"-7.8\" font-family=\"Helvetica,sans-Serif\" font-size=\"14.00\" fill=\"#000000\">class = NH</text>\n</g>\n<!-- 14&#45;&gt;15 -->\n<g id=\"edge15\" class=\"edge\">\n<title>14&#45;&gt;15</title>\n<path fill=\"none\" stroke=\"#000000\" d=\"M850.8911,-88.9777C848.905,-80.6449 846.7707,-71.6903 844.7558,-63.2364\"/>\n<polygon fill=\"#000000\" stroke=\"#000000\" points=\"848.0985,-62.1645 842.3753,-53.2485 841.2892,-63.7875 848.0985,-62.1645\"/>\n</g>\n<!-- 16 -->\n<g id=\"node17\" class=\"node\">\n<title>16</title>\n<polygon fill=\"#efb388\" stroke=\"#000000\" points=\"1019.5,-53 912.5,-53 912.5,0 1019.5,0 1019.5,-53\"/>\n<text text-anchor=\"middle\" x=\"966\" y=\"-37.8\" font-family=\"Helvetica,sans-Serif\" font-size=\"14.00\" fill=\"#000000\">samples = 28</text>\n<text text-anchor=\"middle\" x=\"966\" y=\"-22.8\" font-family=\"Helvetica,sans-Serif\" font-size=\"14.00\" fill=\"#000000\">value = [20, 8]</text>\n<text text-anchor=\"middle\" x=\"966\" y=\"-7.8\" font-family=\"Helvetica,sans-Serif\" font-size=\"14.00\" fill=\"#000000\">class = H</text>\n</g>\n<!-- 14&#45;&gt;16 -->\n<g id=\"edge16\" class=\"edge\">\n<title>14&#45;&gt;16</title>\n<path fill=\"none\" stroke=\"#000000\" d=\"M896.7242,-88.9777C907.0806,-79.6376 918.3031,-69.5163 928.639,-60.1947\"/>\n<polygon fill=\"#000000\" stroke=\"#000000\" points=\"931.2591,-62.5449 936.3411,-53.2485 926.5709,-57.3467 931.2591,-62.5449\"/>\n</g>\n<!-- 18 -->\n<g id=\"node19\" class=\"node\">\n<title>18</title>\n<polygon fill=\"#eda673\" stroke=\"#000000\" points=\"1284.5,-261 1139.5,-261 1139.5,-193 1284.5,-193 1284.5,-261\"/>\n<text text-anchor=\"middle\" x=\"1212\" y=\"-245.8\" font-family=\"Helvetica,sans-Serif\" font-size=\"14.00\" fill=\"#000000\">수축기혈압 &lt;= 106.0</text>\n<text text-anchor=\"middle\" x=\"1212\" y=\"-230.8\" font-family=\"Helvetica,sans-Serif\" font-size=\"14.00\" fill=\"#000000\">samples = 62</text>\n<text text-anchor=\"middle\" x=\"1212\" y=\"-215.8\" font-family=\"Helvetica,sans-Serif\" font-size=\"14.00\" fill=\"#000000\">value = [48, 14]</text>\n<text text-anchor=\"middle\" x=\"1212\" y=\"-200.8\" font-family=\"Helvetica,sans-Serif\" font-size=\"14.00\" fill=\"#000000\">class = H</text>\n</g>\n<!-- 17&#45;&gt;18 -->\n<g id=\"edge18\" class=\"edge\">\n<title>17&#45;&gt;18</title>\n<path fill=\"none\" stroke=\"#000000\" d=\"M1296.7429,-296.9465C1285.4299,-287.6088 1273.0508,-277.3911 1261.3342,-267.7203\"/>\n<polygon fill=\"#000000\" stroke=\"#000000\" points=\"1263.29,-264.7964 1253.3498,-261.13 1258.8341,-270.195 1263.29,-264.7964\"/>\n</g>\n<!-- 23 -->\n<g id=\"node24\" class=\"node\">\n<title>23</title>\n<polygon fill=\"#c4e2f7\" stroke=\"#000000\" points=\"1522.5,-261 1337.5,-261 1337.5,-193 1522.5,-193 1522.5,-261\"/>\n<text text-anchor=\"middle\" x=\"1430\" y=\"-245.8\" font-family=\"Helvetica,sans-Serif\" font-size=\"14.00\" fill=\"#000000\">트리글리세라이드 &lt;= 107.5</text>\n<text text-anchor=\"middle\" x=\"1430\" y=\"-230.8\" font-family=\"Helvetica,sans-Serif\" font-size=\"14.00\" fill=\"#000000\">samples = 499</text>\n<text text-anchor=\"middle\" x=\"1430\" y=\"-215.8\" font-family=\"Helvetica,sans-Serif\" font-size=\"14.00\" fill=\"#000000\">value = [206, 293]</text>\n<text text-anchor=\"middle\" x=\"1430\" y=\"-200.8\" font-family=\"Helvetica,sans-Serif\" font-size=\"14.00\" fill=\"#000000\">class = NH</text>\n</g>\n<!-- 17&#45;&gt;23 -->\n<g id=\"edge23\" class=\"edge\">\n<title>17&#45;&gt;23</title>\n<path fill=\"none\" stroke=\"#000000\" d=\"M1368.1242,-296.9465C1376.0668,-287.968 1384.7291,-278.1758 1392.989,-268.8385\"/>\n<polygon fill=\"#000000\" stroke=\"#000000\" points=\"1395.8038,-270.939 1399.8081,-261.13 1390.5608,-266.301 1395.8038,-270.939\"/>\n</g>\n<!-- 19 -->\n<g id=\"node20\" class=\"node\">\n<title>19</title>\n<polygon fill=\"#399de5\" stroke=\"#000000\" points=\"1110.5,-149.5 1011.5,-149.5 1011.5,-96.5 1110.5,-96.5 1110.5,-149.5\"/>\n<text text-anchor=\"middle\" x=\"1061\" y=\"-134.3\" font-family=\"Helvetica,sans-Serif\" font-size=\"14.00\" fill=\"#000000\">samples = 4</text>\n<text text-anchor=\"middle\" x=\"1061\" y=\"-119.3\" font-family=\"Helvetica,sans-Serif\" font-size=\"14.00\" fill=\"#000000\">value = [0, 4]</text>\n<text text-anchor=\"middle\" x=\"1061\" y=\"-104.3\" font-family=\"Helvetica,sans-Serif\" font-size=\"14.00\" fill=\"#000000\">class = NH</text>\n</g>\n<!-- 18&#45;&gt;19 -->\n<g id=\"edge19\" class=\"edge\">\n<title>18&#45;&gt;19</title>\n<path fill=\"none\" stroke=\"#000000\" d=\"M1162.557,-192.9465C1144.9649,-180.8301 1125.2215,-167.232 1107.853,-155.2696\"/>\n<polygon fill=\"#000000\" stroke=\"#000000\" points=\"1109.7581,-152.332 1099.5372,-149.5422 1105.7875,-158.0969 1109.7581,-152.332\"/>\n</g>\n<!-- 20 -->\n<g id=\"node21\" class=\"node\">\n<title>20</title>\n<polygon fill=\"#ea9b62\" stroke=\"#000000\" points=\"1295,-157 1129,-157 1129,-89 1295,-89 1295,-157\"/>\n<text text-anchor=\"middle\" x=\"1212\" y=\"-141.8\" font-family=\"Helvetica,sans-Serif\" font-size=\"14.00\" fill=\"#000000\">HDL콜레스테롤 &lt;= 71.0</text>\n<text text-anchor=\"middle\" x=\"1212\" y=\"-126.8\" font-family=\"Helvetica,sans-Serif\" font-size=\"14.00\" fill=\"#000000\">samples = 58</text>\n<text text-anchor=\"middle\" x=\"1212\" y=\"-111.8\" font-family=\"Helvetica,sans-Serif\" font-size=\"14.00\" fill=\"#000000\">value = [48, 10]</text>\n<text text-anchor=\"middle\" x=\"1212\" y=\"-96.8\" font-family=\"Helvetica,sans-Serif\" font-size=\"14.00\" fill=\"#000000\">class = H</text>\n</g>\n<!-- 18&#45;&gt;20 -->\n<g id=\"edge20\" class=\"edge\">\n<title>18&#45;&gt;20</title>\n<path fill=\"none\" stroke=\"#000000\" d=\"M1212,-192.9465C1212,-184.776 1212,-175.9318 1212,-167.3697\"/>\n<polygon fill=\"#000000\" stroke=\"#000000\" points=\"1215.5001,-167.13 1212,-157.13 1208.5001,-167.13 1215.5001,-167.13\"/>\n</g>\n<!-- 21 -->\n<g id=\"node22\" class=\"node\">\n<title>21</title>\n<polygon fill=\"#e99456\" stroke=\"#000000\" points=\"1144.5,-53 1037.5,-53 1037.5,0 1144.5,0 1144.5,-53\"/>\n<text text-anchor=\"middle\" x=\"1091\" y=\"-37.8\" font-family=\"Helvetica,sans-Serif\" font-size=\"14.00\" fill=\"#000000\">samples = 54</text>\n<text text-anchor=\"middle\" x=\"1091\" y=\"-22.8\" font-family=\"Helvetica,sans-Serif\" font-size=\"14.00\" fill=\"#000000\">value = [47, 7]</text>\n<text text-anchor=\"middle\" x=\"1091\" y=\"-7.8\" font-family=\"Helvetica,sans-Serif\" font-size=\"14.00\" fill=\"#000000\">class = H</text>\n</g>\n<!-- 20&#45;&gt;21 -->\n<g id=\"edge21\" class=\"edge\">\n<title>20&#45;&gt;21</title>\n<path fill=\"none\" stroke=\"#000000\" d=\"M1169.3399,-88.9777C1157.3989,-79.4545 1144.4395,-69.1191 1132.563,-59.6473\"/>\n<polygon fill=\"#000000\" stroke=\"#000000\" points=\"1134.54,-56.7473 1124.5395,-53.2485 1130.1754,-62.22 1134.54,-56.7473\"/>\n</g>\n<!-- 22 -->\n<g id=\"node23\" class=\"node\">\n<title>22</title>\n<polygon fill=\"#7bbeee\" stroke=\"#000000\" points=\"1261.5,-53 1162.5,-53 1162.5,0 1261.5,0 1261.5,-53\"/>\n<text text-anchor=\"middle\" x=\"1212\" y=\"-37.8\" font-family=\"Helvetica,sans-Serif\" font-size=\"14.00\" fill=\"#000000\">samples = 4</text>\n<text text-anchor=\"middle\" x=\"1212\" y=\"-22.8\" font-family=\"Helvetica,sans-Serif\" font-size=\"14.00\" fill=\"#000000\">value = [1, 3]</text>\n<text text-anchor=\"middle\" x=\"1212\" y=\"-7.8\" font-family=\"Helvetica,sans-Serif\" font-size=\"14.00\" fill=\"#000000\">class = NH</text>\n</g>\n<!-- 20&#45;&gt;22 -->\n<g id=\"edge22\" class=\"edge\">\n<title>20&#45;&gt;22</title>\n<path fill=\"none\" stroke=\"#000000\" d=\"M1212,-88.9777C1212,-80.7364 1212,-71.887 1212,-63.5153\"/>\n<polygon fill=\"#000000\" stroke=\"#000000\" points=\"1215.5001,-63.2484 1212,-53.2485 1208.5001,-63.2485 1215.5001,-63.2484\"/>\n</g>\n<!-- 24 -->\n<g id=\"node25\" class=\"node\">\n<title>24</title>\n<polygon fill=\"#a9d4f4\" stroke=\"#000000\" points=\"1502.5,-157 1357.5,-157 1357.5,-89 1502.5,-89 1502.5,-157\"/>\n<text text-anchor=\"middle\" x=\"1430\" y=\"-141.8\" font-family=\"Helvetica,sans-Serif\" font-size=\"14.00\" fill=\"#000000\">수축기혈압 &lt;= 124.5</text>\n<text text-anchor=\"middle\" x=\"1430\" y=\"-126.8\" font-family=\"Helvetica,sans-Serif\" font-size=\"14.00\" fill=\"#000000\">samples = 305</text>\n<text text-anchor=\"middle\" x=\"1430\" y=\"-111.8\" font-family=\"Helvetica,sans-Serif\" font-size=\"14.00\" fill=\"#000000\">value = [110, 195]</text>\n<text text-anchor=\"middle\" x=\"1430\" y=\"-96.8\" font-family=\"Helvetica,sans-Serif\" font-size=\"14.00\" fill=\"#000000\">class = NH</text>\n</g>\n<!-- 23&#45;&gt;24 -->\n<g id=\"edge24\" class=\"edge\">\n<title>23&#45;&gt;24</title>\n<path fill=\"none\" stroke=\"#000000\" d=\"M1430,-192.9465C1430,-184.776 1430,-175.9318 1430,-167.3697\"/>\n<polygon fill=\"#000000\" stroke=\"#000000\" points=\"1433.5001,-167.13 1430,-157.13 1426.5001,-167.13 1433.5001,-167.13\"/>\n</g>\n<!-- 27 -->\n<g id=\"node28\" class=\"node\">\n<title>27</title>\n<polygon fill=\"#fbfdfe\" stroke=\"#000000\" points=\"1672,-157 1556,-157 1556,-89 1672,-89 1672,-157\"/>\n<text text-anchor=\"middle\" x=\"1614\" y=\"-141.8\" font-family=\"Helvetica,sans-Serif\" font-size=\"14.00\" fill=\"#000000\">시력(우) &lt;= 1.1</text>\n<text text-anchor=\"middle\" x=\"1614\" y=\"-126.8\" font-family=\"Helvetica,sans-Serif\" font-size=\"14.00\" fill=\"#000000\">samples = 194</text>\n<text text-anchor=\"middle\" x=\"1614\" y=\"-111.8\" font-family=\"Helvetica,sans-Serif\" font-size=\"14.00\" fill=\"#000000\">value = [96, 98]</text>\n<text text-anchor=\"middle\" x=\"1614\" y=\"-96.8\" font-family=\"Helvetica,sans-Serif\" font-size=\"14.00\" fill=\"#000000\">class = NH</text>\n</g>\n<!-- 23&#45;&gt;27 -->\n<g id=\"edge27\" class=\"edge\">\n<title>23&#45;&gt;27</title>\n<path fill=\"none\" stroke=\"#000000\" d=\"M1490.2485,-192.9465C1508.4349,-182.6672 1528.508,-171.3215 1547.1003,-160.8129\"/>\n<polygon fill=\"#000000\" stroke=\"#000000\" points=\"1548.8255,-163.8582 1555.8089,-155.8906 1545.381,-157.7643 1548.8255,-163.8582\"/>\n</g>\n<!-- 25 -->\n<g id=\"node26\" class=\"node\">\n<title>25</title>\n<polygon fill=\"#80c0ee\" stroke=\"#000000\" points=\"1404,-53 1280,-53 1280,0 1404,0 1404,-53\"/>\n<text text-anchor=\"middle\" x=\"1342\" y=\"-37.8\" font-family=\"Helvetica,sans-Serif\" font-size=\"14.00\" fill=\"#000000\">samples = 147</text>\n<text text-anchor=\"middle\" x=\"1342\" y=\"-22.8\" font-family=\"Helvetica,sans-Serif\" font-size=\"14.00\" fill=\"#000000\">value = [39, 108]</text>\n<text text-anchor=\"middle\" x=\"1342\" y=\"-7.8\" font-family=\"Helvetica,sans-Serif\" font-size=\"14.00\" fill=\"#000000\">class = NH</text>\n</g>\n<!-- 24&#45;&gt;25 -->\n<g id=\"edge25\" class=\"edge\">\n<title>24&#45;&gt;25</title>\n<path fill=\"none\" stroke=\"#000000\" d=\"M1398.9745,-88.9777C1390.6241,-79.8207 1381.589,-69.9129 1373.2276,-60.744\"/>\n<polygon fill=\"#000000\" stroke=\"#000000\" points=\"1375.7167,-58.2791 1366.3924,-53.2485 1370.5444,-62.9959 1375.7167,-58.2791\"/>\n</g>\n<!-- 26 -->\n<g id=\"node27\" class=\"node\">\n<title>26</title>\n<polygon fill=\"#dbedfa\" stroke=\"#000000\" points=\"1538,-53 1422,-53 1422,0 1538,0 1538,-53\"/>\n<text text-anchor=\"middle\" x=\"1480\" y=\"-37.8\" font-family=\"Helvetica,sans-Serif\" font-size=\"14.00\" fill=\"#000000\">samples = 158</text>\n<text text-anchor=\"middle\" x=\"1480\" y=\"-22.8\" font-family=\"Helvetica,sans-Serif\" font-size=\"14.00\" fill=\"#000000\">value = [71, 87]</text>\n<text text-anchor=\"middle\" x=\"1480\" y=\"-7.8\" font-family=\"Helvetica,sans-Serif\" font-size=\"14.00\" fill=\"#000000\">class = NH</text>\n</g>\n<!-- 24&#45;&gt;26 -->\n<g id=\"edge26\" class=\"edge\">\n<title>24&#45;&gt;26</title>\n<path fill=\"none\" stroke=\"#000000\" d=\"M1447.6281,-88.9777C1452.088,-80.3702 1456.8916,-71.0992 1461.3979,-62.402\"/>\n<polygon fill=\"#000000\" stroke=\"#000000\" points=\"1464.6478,-63.7376 1466.1407,-53.2485 1458.4325,-60.5172 1464.6478,-63.7376\"/>\n</g>\n<!-- 28 -->\n<g id=\"node29\" class=\"node\">\n<title>28</title>\n<polygon fill=\"#fdf6f0\" stroke=\"#000000\" points=\"1672,-53 1556,-53 1556,0 1672,0 1672,-53\"/>\n<text text-anchor=\"middle\" x=\"1614\" y=\"-37.8\" font-family=\"Helvetica,sans-Serif\" font-size=\"14.00\" fill=\"#000000\">samples = 179</text>\n<text text-anchor=\"middle\" x=\"1614\" y=\"-22.8\" font-family=\"Helvetica,sans-Serif\" font-size=\"14.00\" fill=\"#000000\">value = [93, 86]</text>\n<text text-anchor=\"middle\" x=\"1614\" y=\"-7.8\" font-family=\"Helvetica,sans-Serif\" font-size=\"14.00\" fill=\"#000000\">class = H</text>\n</g>\n<!-- 27&#45;&gt;28 -->\n<g id=\"edge28\" class=\"edge\">\n<title>27&#45;&gt;28</title>\n<path fill=\"none\" stroke=\"#000000\" d=\"M1614,-88.9777C1614,-80.7364 1614,-71.887 1614,-63.5153\"/>\n<polygon fill=\"#000000\" stroke=\"#000000\" points=\"1617.5001,-63.2484 1614,-53.2485 1610.5001,-63.2485 1617.5001,-63.2484\"/>\n</g>\n<!-- 29 -->\n<g id=\"node30\" class=\"node\">\n<title>29</title>\n<polygon fill=\"#6ab6ec\" stroke=\"#000000\" points=\"1797.5,-53 1690.5,-53 1690.5,0 1797.5,0 1797.5,-53\"/>\n<text text-anchor=\"middle\" x=\"1744\" y=\"-37.8\" font-family=\"Helvetica,sans-Serif\" font-size=\"14.00\" fill=\"#000000\">samples = 15</text>\n<text text-anchor=\"middle\" x=\"1744\" y=\"-22.8\" font-family=\"Helvetica,sans-Serif\" font-size=\"14.00\" fill=\"#000000\">value = [3, 12]</text>\n<text text-anchor=\"middle\" x=\"1744\" y=\"-7.8\" font-family=\"Helvetica,sans-Serif\" font-size=\"14.00\" fill=\"#000000\">class = NH</text>\n</g>\n<!-- 27&#45;&gt;29 -->\n<g id=\"edge29\" class=\"edge\">\n<title>27&#45;&gt;29</title>\n<path fill=\"none\" stroke=\"#000000\" d=\"M1659.8331,-88.9777C1672.7857,-79.3629 1686.8535,-68.9203 1699.7133,-59.3743\"/>\n<polygon fill=\"#000000\" stroke=\"#000000\" points=\"1702.0224,-62.0193 1707.9658,-53.2485 1697.8501,-56.3986 1702.0224,-62.0193\"/>\n</g>\n<!-- 31 -->\n<g id=\"node32\" class=\"node\">\n<title>31</title>\n<polygon fill=\"#ebf5fc\" stroke=\"#000000\" points=\"2367,-365 2173,-365 2173,-297 2367,-297 2367,-365\"/>\n<text text-anchor=\"middle\" x=\"2270\" y=\"-349.8\" font-family=\"Helvetica,sans-Serif\" font-size=\"14.00\" fill=\"#000000\">연령대코드(5세단위) &lt;= 11.5</text>\n<text text-anchor=\"middle\" x=\"2270\" y=\"-334.8\" font-family=\"Helvetica,sans-Serif\" font-size=\"14.00\" fill=\"#000000\">samples = 728</text>\n<text text-anchor=\"middle\" x=\"2270\" y=\"-319.8\" font-family=\"Helvetica,sans-Serif\" font-size=\"14.00\" fill=\"#000000\">value = [345, 383]</text>\n<text text-anchor=\"middle\" x=\"2270\" y=\"-304.8\" font-family=\"Helvetica,sans-Serif\" font-size=\"14.00\" fill=\"#000000\">class = NH</text>\n</g>\n<!-- 30&#45;&gt;31 -->\n<g id=\"edge31\" class=\"edge\">\n<title>30&#45;&gt;31</title>\n<path fill=\"none\" stroke=\"#000000\" d=\"M2270,-400.9465C2270,-392.776 2270,-383.9318 2270,-375.3697\"/>\n<polygon fill=\"#000000\" stroke=\"#000000\" points=\"2273.5001,-375.13 2270,-365.13 2266.5001,-375.13 2273.5001,-375.13\"/>\n</g>\n<!-- 46 -->\n<g id=\"node47\" class=\"node\">\n<title>46</title>\n<polygon fill=\"#f4ccae\" stroke=\"#000000\" points=\"3227,-365 3033,-365 3033,-297 3227,-297 3227,-365\"/>\n<text text-anchor=\"middle\" x=\"3130\" y=\"-349.8\" font-family=\"Helvetica,sans-Serif\" font-size=\"14.00\" fill=\"#000000\">연령대코드(5세단위) &lt;= 11.5</text>\n<text text-anchor=\"middle\" x=\"3130\" y=\"-334.8\" font-family=\"Helvetica,sans-Serif\" font-size=\"14.00\" fill=\"#000000\">samples = 1009</text>\n<text text-anchor=\"middle\" x=\"3130\" y=\"-319.8\" font-family=\"Helvetica,sans-Serif\" font-size=\"14.00\" fill=\"#000000\">value = [634, 375]</text>\n<text text-anchor=\"middle\" x=\"3130\" y=\"-304.8\" font-family=\"Helvetica,sans-Serif\" font-size=\"14.00\" fill=\"#000000\">class = H</text>\n</g>\n<!-- 30&#45;&gt;46 -->\n<g id=\"edge46\" class=\"edge\">\n<title>30&#45;&gt;46</title>\n<path fill=\"none\" stroke=\"#000000\" d=\"M2362.8522,-423.7714C2523.6095,-404.3309 2852.8467,-364.5162 3022.9639,-343.9439\"/>\n<polygon fill=\"#000000\" stroke=\"#000000\" points=\"3023.4308,-347.413 3032.9382,-342.7377 3022.5903,-340.4637 3023.4308,-347.413\"/>\n</g>\n<!-- 32 -->\n<g id=\"node33\" class=\"node\">\n<title>32</title>\n<polygon fill=\"#a3d2f3\" stroke=\"#000000\" points=\"2285,-261 2123,-261 2123,-193 2285,-193 2285,-261\"/>\n<text text-anchor=\"middle\" x=\"2204\" y=\"-245.8\" font-family=\"Helvetica,sans-Serif\" font-size=\"14.00\" fill=\"#000000\">체중(5Kg 단위) &lt;= 57.5</text>\n<text text-anchor=\"middle\" x=\"2204\" y=\"-230.8\" font-family=\"Helvetica,sans-Serif\" font-size=\"14.00\" fill=\"#000000\">samples = 275</text>\n<text text-anchor=\"middle\" x=\"2204\" y=\"-215.8\" font-family=\"Helvetica,sans-Serif\" font-size=\"14.00\" fill=\"#000000\">value = [96, 179]</text>\n<text text-anchor=\"middle\" x=\"2204\" y=\"-200.8\" font-family=\"Helvetica,sans-Serif\" font-size=\"14.00\" fill=\"#000000\">class = NH</text>\n</g>\n<!-- 31&#45;&gt;32 -->\n<g id=\"edge32\" class=\"edge\">\n<title>31&#45;&gt;32</title>\n<path fill=\"none\" stroke=\"#000000\" d=\"M2248.3891,-296.9465C2242.8622,-288.2373 2236.8494,-278.7626 2231.0854,-269.6801\"/>\n<polygon fill=\"#000000\" stroke=\"#000000\" points=\"2233.9729,-267.6979 2225.6594,-261.13 2228.0626,-271.4487 2233.9729,-267.6979\"/>\n</g>\n<!-- 39 -->\n<g id=\"node40\" class=\"node\">\n<title>39</title>\n<polygon fill=\"#fae8db\" stroke=\"#000000\" points=\"2519,-261 2355,-261 2355,-193 2519,-193 2519,-261\"/>\n<text text-anchor=\"middle\" x=\"2437\" y=\"-245.8\" font-family=\"Helvetica,sans-Serif\" font-size=\"14.00\" fill=\"#000000\">LDL콜레스테롤 &lt;= 92.5</text>\n<text text-anchor=\"middle\" x=\"2437\" y=\"-230.8\" font-family=\"Helvetica,sans-Serif\" font-size=\"14.00\" fill=\"#000000\">samples = 453</text>\n<text text-anchor=\"middle\" x=\"2437\" y=\"-215.8\" font-family=\"Helvetica,sans-Serif\" font-size=\"14.00\" fill=\"#000000\">value = [249, 204]</text>\n<text text-anchor=\"middle\" x=\"2437\" y=\"-200.8\" font-family=\"Helvetica,sans-Serif\" font-size=\"14.00\" fill=\"#000000\">class = H</text>\n</g>\n<!-- 31&#45;&gt;39 -->\n<g id=\"edge39\" class=\"edge\">\n<title>31&#45;&gt;39</title>\n<path fill=\"none\" stroke=\"#000000\" d=\"M2324.682,-296.9465C2340.2529,-287.2497 2357.3476,-276.6039 2373.4004,-266.6069\"/>\n<polygon fill=\"#000000\" stroke=\"#000000\" points=\"2375.5568,-269.3873 2382.1951,-261.13 2371.8563,-263.4453 2375.5568,-269.3873\"/>\n</g>\n<!-- 33 -->\n<g id=\"node34\" class=\"node\">\n<title>33</title>\n<polygon fill=\"#5caeea\" stroke=\"#000000\" points=\"2052,-157 1934,-157 1934,-89 2052,-89 2052,-157\"/>\n<text text-anchor=\"middle\" x=\"1993\" y=\"-141.8\" font-family=\"Helvetica,sans-Serif\" font-size=\"14.00\" fill=\"#000000\">혈색소 &lt;= 14.85</text>\n<text text-anchor=\"middle\" x=\"1993\" y=\"-126.8\" font-family=\"Helvetica,sans-Serif\" font-size=\"14.00\" fill=\"#000000\">samples = 66</text>\n<text text-anchor=\"middle\" x=\"1993\" y=\"-111.8\" font-family=\"Helvetica,sans-Serif\" font-size=\"14.00\" fill=\"#000000\">value = [10, 56]</text>\n<text text-anchor=\"middle\" x=\"1993\" y=\"-96.8\" font-family=\"Helvetica,sans-Serif\" font-size=\"14.00\" fill=\"#000000\">class = NH</text>\n</g>\n<!-- 32&#45;&gt;33 -->\n<g id=\"edge33\" class=\"edge\">\n<title>32&#45;&gt;33</title>\n<path fill=\"none\" stroke=\"#000000\" d=\"M2134.9107,-192.9465C2111.3556,-181.3364 2085.0404,-168.3659 2061.5295,-156.7776\"/>\n<polygon fill=\"#000000\" stroke=\"#000000\" points=\"2062.845,-153.524 2052.328,-152.2422 2059.7502,-159.8027 2062.845,-153.524\"/>\n</g>\n<!-- 36 -->\n<g id=\"node37\" class=\"node\">\n<title>36</title>\n<polygon fill=\"#c3e2f7\" stroke=\"#000000\" points=\"2287,-157 2121,-157 2121,-89 2287,-89 2287,-157\"/>\n<text text-anchor=\"middle\" x=\"2204\" y=\"-141.8\" font-family=\"Helvetica,sans-Serif\" font-size=\"14.00\" fill=\"#000000\">HDL콜레스테롤 &lt;= 84.5</text>\n<text text-anchor=\"middle\" x=\"2204\" y=\"-126.8\" font-family=\"Helvetica,sans-Serif\" font-size=\"14.00\" fill=\"#000000\">samples = 209</text>\n<text text-anchor=\"middle\" x=\"2204\" y=\"-111.8\" font-family=\"Helvetica,sans-Serif\" font-size=\"14.00\" fill=\"#000000\">value = [86, 123]</text>\n<text text-anchor=\"middle\" x=\"2204\" y=\"-96.8\" font-family=\"Helvetica,sans-Serif\" font-size=\"14.00\" fill=\"#000000\">class = NH</text>\n</g>\n<!-- 32&#45;&gt;36 -->\n<g id=\"edge36\" class=\"edge\">\n<title>32&#45;&gt;36</title>\n<path fill=\"none\" stroke=\"#000000\" d=\"M2204,-192.9465C2204,-184.776 2204,-175.9318 2204,-167.3697\"/>\n<polygon fill=\"#000000\" stroke=\"#000000\" points=\"2207.5001,-167.13 2204,-157.13 2200.5001,-167.13 2207.5001,-167.13\"/>\n</g>\n<!-- 34 -->\n<g id=\"node35\" class=\"node\">\n<title>34</title>\n<polygon fill=\"#49a5e7\" stroke=\"#000000\" points=\"1922.5,-53 1815.5,-53 1815.5,0 1922.5,0 1922.5,-53\"/>\n<text text-anchor=\"middle\" x=\"1869\" y=\"-37.8\" font-family=\"Helvetica,sans-Serif\" font-size=\"14.00\" fill=\"#000000\">samples = 54</text>\n<text text-anchor=\"middle\" x=\"1869\" y=\"-22.8\" font-family=\"Helvetica,sans-Serif\" font-size=\"14.00\" fill=\"#000000\">value = [4, 50]</text>\n<text text-anchor=\"middle\" x=\"1869\" y=\"-7.8\" font-family=\"Helvetica,sans-Serif\" font-size=\"14.00\" fill=\"#000000\">class = NH</text>\n</g>\n<!-- 33&#45;&gt;34 -->\n<g id=\"edge34\" class=\"edge\">\n<title>33&#45;&gt;34</title>\n<path fill=\"none\" stroke=\"#000000\" d=\"M1949.2822,-88.9777C1937.0451,-79.4545 1923.7645,-69.1191 1911.5934,-59.6473\"/>\n<polygon fill=\"#000000\" stroke=\"#000000\" points=\"1913.4125,-56.628 1903.3711,-53.2485 1909.1134,-62.1523 1913.4125,-56.628\"/>\n</g>\n<!-- 35 -->\n<g id=\"node36\" class=\"node\">\n<title>35</title>\n<polygon fill=\"#ffffff\" stroke=\"#000000\" points=\"2045,-53 1941,-53 1941,0 2045,0 2045,-53\"/>\n<text text-anchor=\"middle\" x=\"1993\" y=\"-37.8\" font-family=\"Helvetica,sans-Serif\" font-size=\"14.00\" fill=\"#000000\">samples = 12</text>\n<text text-anchor=\"middle\" x=\"1993\" y=\"-22.8\" font-family=\"Helvetica,sans-Serif\" font-size=\"14.00\" fill=\"#000000\">value = [6, 6]</text>\n<text text-anchor=\"middle\" x=\"1993\" y=\"-7.8\" font-family=\"Helvetica,sans-Serif\" font-size=\"14.00\" fill=\"#000000\">class = H</text>\n</g>\n<!-- 33&#45;&gt;35 -->\n<g id=\"edge35\" class=\"edge\">\n<title>33&#45;&gt;35</title>\n<path fill=\"none\" stroke=\"#000000\" d=\"M1993,-88.9777C1993,-80.7364 1993,-71.887 1993,-63.5153\"/>\n<polygon fill=\"#000000\" stroke=\"#000000\" points=\"1996.5001,-63.2484 1993,-53.2485 1989.5001,-63.2485 1996.5001,-63.2484\"/>\n</g>\n<!-- 37 -->\n<g id=\"node38\" class=\"node\">\n<title>37</title>\n<polygon fill=\"#b8dcf6\" stroke=\"#000000\" points=\"2187,-53 2063,-53 2063,0 2187,0 2187,-53\"/>\n<text text-anchor=\"middle\" x=\"2125\" y=\"-37.8\" font-family=\"Helvetica,sans-Serif\" font-size=\"14.00\" fill=\"#000000\">samples = 202</text>\n<text text-anchor=\"middle\" x=\"2125\" y=\"-22.8\" font-family=\"Helvetica,sans-Serif\" font-size=\"14.00\" fill=\"#000000\">value = [79, 123]</text>\n<text text-anchor=\"middle\" x=\"2125\" y=\"-7.8\" font-family=\"Helvetica,sans-Serif\" font-size=\"14.00\" fill=\"#000000\">class = NH</text>\n</g>\n<!-- 36&#45;&gt;37 -->\n<g id=\"edge37\" class=\"edge\">\n<title>36&#45;&gt;37</title>\n<path fill=\"none\" stroke=\"#000000\" d=\"M2176.1476,-88.9777C2168.7261,-79.9123 2160.7023,-70.111 2153.2593,-61.0192\"/>\n<polygon fill=\"#000000\" stroke=\"#000000\" points=\"2155.9405,-58.7692 2146.8977,-53.2485 2150.5241,-63.2034 2155.9405,-58.7692\"/>\n</g>\n<!-- 38 -->\n<g id=\"node39\" class=\"node\">\n<title>38</title>\n<polygon fill=\"#e58139\" stroke=\"#000000\" points=\"2304.5,-53 2205.5,-53 2205.5,0 2304.5,0 2304.5,-53\"/>\n<text text-anchor=\"middle\" x=\"2255\" y=\"-37.8\" font-family=\"Helvetica,sans-Serif\" font-size=\"14.00\" fill=\"#000000\">samples = 7</text>\n<text text-anchor=\"middle\" x=\"2255\" y=\"-22.8\" font-family=\"Helvetica,sans-Serif\" font-size=\"14.00\" fill=\"#000000\">value = [7, 0]</text>\n<text text-anchor=\"middle\" x=\"2255\" y=\"-7.8\" font-family=\"Helvetica,sans-Serif\" font-size=\"14.00\" fill=\"#000000\">class = H</text>\n</g>\n<!-- 36&#45;&gt;38 -->\n<g id=\"edge38\" class=\"edge\">\n<title>36&#45;&gt;38</title>\n<path fill=\"none\" stroke=\"#000000\" d=\"M2221.9807,-88.9777C2226.5782,-80.2786 2231.5337,-70.9018 2236.1725,-62.1247\"/>\n<polygon fill=\"#000000\" stroke=\"#000000\" points=\"2239.2853,-63.7251 2240.8635,-53.2485 2233.0965,-60.4543 2239.2853,-63.7251\"/>\n</g>\n<!-- 40 -->\n<g id=\"node41\" class=\"node\">\n<title>40</title>\n<polygon fill=\"#f2be98\" stroke=\"#000000\" points=\"2499,-157 2375,-157 2375,-89 2499,-89 2499,-157\"/>\n<text text-anchor=\"middle\" x=\"2437\" y=\"-141.8\" font-family=\"Helvetica,sans-Serif\" font-size=\"14.00\" fill=\"#000000\">시력(우) &lt;= 0.35</text>\n<text text-anchor=\"middle\" x=\"2437\" y=\"-126.8\" font-family=\"Helvetica,sans-Serif\" font-size=\"14.00\" fill=\"#000000\">samples = 157</text>\n<text text-anchor=\"middle\" x=\"2437\" y=\"-111.8\" font-family=\"Helvetica,sans-Serif\" font-size=\"14.00\" fill=\"#000000\">value = [106, 51]</text>\n<text text-anchor=\"middle\" x=\"2437\" y=\"-96.8\" font-family=\"Helvetica,sans-Serif\" font-size=\"14.00\" fill=\"#000000\">class = H</text>\n</g>\n<!-- 39&#45;&gt;40 -->\n<g id=\"edge40\" class=\"edge\">\n<title>39&#45;&gt;40</title>\n<path fill=\"none\" stroke=\"#000000\" d=\"M2437,-192.9465C2437,-184.776 2437,-175.9318 2437,-167.3697\"/>\n<polygon fill=\"#000000\" stroke=\"#000000\" points=\"2440.5001,-167.13 2437,-157.13 2433.5001,-167.13 2440.5001,-167.13\"/>\n</g>\n<!-- 43 -->\n<g id=\"node44\" class=\"node\">\n<title>43</title>\n<polygon fill=\"#f2f9fd\" stroke=\"#000000\" points=\"2713.5,-157 2568.5,-157 2568.5,-89 2713.5,-89 2713.5,-157\"/>\n<text text-anchor=\"middle\" x=\"2641\" y=\"-141.8\" font-family=\"Helvetica,sans-Serif\" font-size=\"14.00\" fill=\"#000000\">수축기혈압 &lt;= 108.5</text>\n<text text-anchor=\"middle\" x=\"2641\" y=\"-126.8\" font-family=\"Helvetica,sans-Serif\" font-size=\"14.00\" fill=\"#000000\">samples = 296</text>\n<text text-anchor=\"middle\" x=\"2641\" y=\"-111.8\" font-family=\"Helvetica,sans-Serif\" font-size=\"14.00\" fill=\"#000000\">value = [143, 153]</text>\n<text text-anchor=\"middle\" x=\"2641\" y=\"-96.8\" font-family=\"Helvetica,sans-Serif\" font-size=\"14.00\" fill=\"#000000\">class = NH</text>\n</g>\n<!-- 39&#45;&gt;43 -->\n<g id=\"edge43\" class=\"edge\">\n<title>39&#45;&gt;43</title>\n<path fill=\"none\" stroke=\"#000000\" d=\"M2503.7972,-192.9465C2523.3463,-182.9803 2544.8617,-172.0117 2564.9406,-161.7754\"/>\n<polygon fill=\"#000000\" stroke=\"#000000\" points=\"2566.7333,-164.7901 2574.0527,-157.13 2563.554,-158.5537 2566.7333,-164.7901\"/>\n</g>\n<!-- 41 -->\n<g id=\"node42\" class=\"node\">\n<title>41</title>\n<polygon fill=\"#91c9f1\" stroke=\"#000000\" points=\"2427,-53 2323,-53 2323,0 2427,0 2427,-53\"/>\n<text text-anchor=\"middle\" x=\"2375\" y=\"-37.8\" font-family=\"Helvetica,sans-Serif\" font-size=\"14.00\" fill=\"#000000\">samples = 13</text>\n<text text-anchor=\"middle\" x=\"2375\" y=\"-22.8\" font-family=\"Helvetica,sans-Serif\" font-size=\"14.00\" fill=\"#000000\">value = [4, 9]</text>\n<text text-anchor=\"middle\" x=\"2375\" y=\"-7.8\" font-family=\"Helvetica,sans-Serif\" font-size=\"14.00\" fill=\"#000000\">class = NH</text>\n</g>\n<!-- 40&#45;&gt;41 -->\n<g id=\"edge41\" class=\"edge\">\n<title>40&#45;&gt;41</title>\n<path fill=\"none\" stroke=\"#000000\" d=\"M2415.1411,-88.9777C2409.4932,-80.187 2403.4007,-70.7044 2397.7104,-61.8477\"/>\n<polygon fill=\"#000000\" stroke=\"#000000\" points=\"2400.5356,-59.7698 2392.1856,-53.2485 2394.6463,-63.5536 2400.5356,-59.7698\"/>\n</g>\n<!-- 42 -->\n<g id=\"node43\" class=\"node\">\n<title>42</title>\n<polygon fill=\"#f0b58b\" stroke=\"#000000\" points=\"2569,-53 2445,-53 2445,0 2569,0 2569,-53\"/>\n<text text-anchor=\"middle\" x=\"2507\" y=\"-37.8\" font-family=\"Helvetica,sans-Serif\" font-size=\"14.00\" fill=\"#000000\">samples = 144</text>\n<text text-anchor=\"middle\" x=\"2507\" y=\"-22.8\" font-family=\"Helvetica,sans-Serif\" font-size=\"14.00\" fill=\"#000000\">value = [102, 42]</text>\n<text text-anchor=\"middle\" x=\"2507\" y=\"-7.8\" font-family=\"Helvetica,sans-Serif\" font-size=\"14.00\" fill=\"#000000\">class = H</text>\n</g>\n<!-- 40&#45;&gt;42 -->\n<g id=\"edge42\" class=\"edge\">\n<title>40&#45;&gt;42</title>\n<path fill=\"none\" stroke=\"#000000\" d=\"M2461.6794,-88.9777C2468.1225,-80.0954 2475.078,-70.5067 2481.5598,-61.5711\"/>\n<polygon fill=\"#000000\" stroke=\"#000000\" points=\"2484.5583,-63.3982 2487.597,-53.2485 2478.8921,-59.288 2484.5583,-63.3982\"/>\n</g>\n<!-- 44 -->\n<g id=\"node45\" class=\"node\">\n<title>44</title>\n<polygon fill=\"#65b3eb\" stroke=\"#000000\" points=\"2694.5,-53 2587.5,-53 2587.5,0 2694.5,0 2694.5,-53\"/>\n<text text-anchor=\"middle\" x=\"2641\" y=\"-37.8\" font-family=\"Helvetica,sans-Serif\" font-size=\"14.00\" fill=\"#000000\">samples = 22</text>\n<text text-anchor=\"middle\" x=\"2641\" y=\"-22.8\" font-family=\"Helvetica,sans-Serif\" font-size=\"14.00\" fill=\"#000000\">value = [4, 18]</text>\n<text text-anchor=\"middle\" x=\"2641\" y=\"-7.8\" font-family=\"Helvetica,sans-Serif\" font-size=\"14.00\" fill=\"#000000\">class = NH</text>\n</g>\n<!-- 43&#45;&gt;44 -->\n<g id=\"edge44\" class=\"edge\">\n<title>43&#45;&gt;44</title>\n<path fill=\"none\" stroke=\"#000000\" d=\"M2641,-88.9777C2641,-80.7364 2641,-71.887 2641,-63.5153\"/>\n<polygon fill=\"#000000\" stroke=\"#000000\" points=\"2644.5001,-63.2484 2641,-53.2485 2637.5001,-63.2485 2644.5001,-63.2484\"/>\n</g>\n<!-- 45 -->\n<g id=\"node46\" class=\"node\">\n<title>45</title>\n<polygon fill=\"#fefbf9\" stroke=\"#000000\" points=\"2845,-53 2713,-53 2713,0 2845,0 2845,-53\"/>\n<text text-anchor=\"middle\" x=\"2779\" y=\"-37.8\" font-family=\"Helvetica,sans-Serif\" font-size=\"14.00\" fill=\"#000000\">samples = 274</text>\n<text text-anchor=\"middle\" x=\"2779\" y=\"-22.8\" font-family=\"Helvetica,sans-Serif\" font-size=\"14.00\" fill=\"#000000\">value = [139, 135]</text>\n<text text-anchor=\"middle\" x=\"2779\" y=\"-7.8\" font-family=\"Helvetica,sans-Serif\" font-size=\"14.00\" fill=\"#000000\">class = H</text>\n</g>\n<!-- 43&#45;&gt;45 -->\n<g id=\"edge45\" class=\"edge\">\n<title>43&#45;&gt;45</title>\n<path fill=\"none\" stroke=\"#000000\" d=\"M2689.6536,-88.9777C2703.5343,-79.2713 2718.6214,-68.7213 2732.3777,-59.1018\"/>\n<polygon fill=\"#000000\" stroke=\"#000000\" points=\"2734.5589,-61.8475 2740.7483,-53.2485 2730.5474,-56.1109 2734.5589,-61.8475\"/>\n</g>\n<!-- 47 -->\n<g id=\"node48\" class=\"node\">\n<title>47</title>\n<polygon fill=\"#fae7d9\" stroke=\"#000000\" points=\"3217,-261 3043,-261 3043,-193 3217,-193 3217,-261\"/>\n<text text-anchor=\"middle\" x=\"3130\" y=\"-245.8\" font-family=\"Helvetica,sans-Serif\" font-size=\"14.00\" fill=\"#000000\">(혈청지오티)AST &lt;= 55.5</text>\n<text text-anchor=\"middle\" x=\"3130\" y=\"-230.8\" font-family=\"Helvetica,sans-Serif\" font-size=\"14.00\" fill=\"#000000\">samples = 492</text>\n<text text-anchor=\"middle\" x=\"3130\" y=\"-215.8\" font-family=\"Helvetica,sans-Serif\" font-size=\"14.00\" fill=\"#000000\">value = [272, 220]</text>\n<text text-anchor=\"middle\" x=\"3130\" y=\"-200.8\" font-family=\"Helvetica,sans-Serif\" font-size=\"14.00\" fill=\"#000000\">class = H</text>\n</g>\n<!-- 46&#45;&gt;47 -->\n<g id=\"edge47\" class=\"edge\">\n<title>46&#45;&gt;47</title>\n<path fill=\"none\" stroke=\"#000000\" d=\"M3130,-296.9465C3130,-288.776 3130,-279.9318 3130,-271.3697\"/>\n<polygon fill=\"#000000\" stroke=\"#000000\" points=\"3133.5001,-271.13 3130,-261.13 3126.5001,-271.13 3133.5001,-271.13\"/>\n</g>\n<!-- 54 -->\n<g id=\"node55\" class=\"node\">\n<title>54</title>\n<polygon fill=\"#f0b78e\" stroke=\"#000000\" points=\"3532,-261 3400,-261 3400,-193 3532,-193 3532,-261\"/>\n<text text-anchor=\"middle\" x=\"3466\" y=\"-245.8\" font-family=\"Helvetica,sans-Serif\" font-size=\"14.00\" fill=\"#000000\">허리둘레 &lt;= 71.5</text>\n<text text-anchor=\"middle\" x=\"3466\" y=\"-230.8\" font-family=\"Helvetica,sans-Serif\" font-size=\"14.00\" fill=\"#000000\">samples = 517</text>\n<text text-anchor=\"middle\" x=\"3466\" y=\"-215.8\" font-family=\"Helvetica,sans-Serif\" font-size=\"14.00\" fill=\"#000000\">value = [362, 155]</text>\n<text text-anchor=\"middle\" x=\"3466\" y=\"-200.8\" font-family=\"Helvetica,sans-Serif\" font-size=\"14.00\" fill=\"#000000\">class = H</text>\n</g>\n<!-- 46&#45;&gt;54 -->\n<g id=\"edge54\" class=\"edge\">\n<title>46&#45;&gt;54</title>\n<path fill=\"none\" stroke=\"#000000\" d=\"M3227.1851,-300.9189C3279.0437,-284.8674 3341.9212,-265.4053 3390.1383,-250.481\"/>\n<polygon fill=\"#000000\" stroke=\"#000000\" points=\"3391.3687,-253.7641 3399.8867,-247.4637 3389.2989,-247.0771 3391.3687,-253.7641\"/>\n</g>\n<!-- 48 -->\n<g id=\"node49\" class=\"node\">\n<title>48</title>\n<polygon fill=\"#fcf2ea\" stroke=\"#000000\" points=\"3125.5,-157 2988.5,-157 2988.5,-89 3125.5,-89 3125.5,-157\"/>\n<text text-anchor=\"middle\" x=\"3057\" y=\"-141.8\" font-family=\"Helvetica,sans-Serif\" font-size=\"14.00\" fill=\"#000000\">이완기혈압 &lt;= 72.5</text>\n<text text-anchor=\"middle\" x=\"3057\" y=\"-126.8\" font-family=\"Helvetica,sans-Serif\" font-size=\"14.00\" fill=\"#000000\">samples = 462</text>\n<text text-anchor=\"middle\" x=\"3057\" y=\"-111.8\" font-family=\"Helvetica,sans-Serif\" font-size=\"14.00\" fill=\"#000000\">value = [244, 218]</text>\n<text text-anchor=\"middle\" x=\"3057\" y=\"-96.8\" font-family=\"Helvetica,sans-Serif\" font-size=\"14.00\" fill=\"#000000\">class = H</text>\n</g>\n<!-- 47&#45;&gt;48 -->\n<g id=\"edge48\" class=\"edge\">\n<title>47&#45;&gt;48</title>\n<path fill=\"none\" stroke=\"#000000\" d=\"M3106.0971,-192.9465C3099.9209,-184.1475 3093.1962,-174.5672 3086.761,-165.3993\"/>\n<polygon fill=\"#000000\" stroke=\"#000000\" points=\"3089.5666,-163.3041 3080.9566,-157.13 3083.8371,-167.3258 3089.5666,-163.3041\"/>\n</g>\n<!-- 51 -->\n<g id=\"node52\" class=\"node\">\n<title>51</title>\n<polygon fill=\"#e78a47\" stroke=\"#000000\" points=\"3262,-157 3144,-157 3144,-89 3262,-89 3262,-157\"/>\n<text text-anchor=\"middle\" x=\"3203\" y=\"-141.8\" font-family=\"Helvetica,sans-Serif\" font-size=\"14.00\" fill=\"#000000\">혈색소 &lt;= 15.05</text>\n<text text-anchor=\"middle\" x=\"3203\" y=\"-126.8\" font-family=\"Helvetica,sans-Serif\" font-size=\"14.00\" fill=\"#000000\">samples = 30</text>\n<text text-anchor=\"middle\" x=\"3203\" y=\"-111.8\" font-family=\"Helvetica,sans-Serif\" font-size=\"14.00\" fill=\"#000000\">value = [28, 2]</text>\n<text text-anchor=\"middle\" x=\"3203\" y=\"-96.8\" font-family=\"Helvetica,sans-Serif\" font-size=\"14.00\" fill=\"#000000\">class = H</text>\n</g>\n<!-- 47&#45;&gt;51 -->\n<g id=\"edge51\" class=\"edge\">\n<title>47&#45;&gt;51</title>\n<path fill=\"none\" stroke=\"#000000\" d=\"M3153.9029,-192.9465C3160.0791,-184.1475 3166.8038,-174.5672 3173.239,-165.3993\"/>\n<polygon fill=\"#000000\" stroke=\"#000000\" points=\"3176.1629,-167.3258 3179.0434,-157.13 3170.4334,-163.3041 3176.1629,-167.3258\"/>\n</g>\n<!-- 49 -->\n<g id=\"node50\" class=\"node\">\n<title>49</title>\n<polygon fill=\"#a9d5f4\" stroke=\"#000000\" points=\"2979,-53 2863,-53 2863,0 2979,0 2979,-53\"/>\n<text text-anchor=\"middle\" x=\"2921\" y=\"-37.8\" font-family=\"Helvetica,sans-Serif\" font-size=\"14.00\" fill=\"#000000\">samples = 105</text>\n<text text-anchor=\"middle\" x=\"2921\" y=\"-22.8\" font-family=\"Helvetica,sans-Serif\" font-size=\"14.00\" fill=\"#000000\">value = [38, 67]</text>\n<text text-anchor=\"middle\" x=\"2921\" y=\"-7.8\" font-family=\"Helvetica,sans-Serif\" font-size=\"14.00\" fill=\"#000000\">class = NH</text>\n</g>\n<!-- 48&#45;&gt;49 -->\n<g id=\"edge49\" class=\"edge\">\n<title>48&#45;&gt;49</title>\n<path fill=\"none\" stroke=\"#000000\" d=\"M3009.0515,-88.9777C2995.372,-79.2713 2980.5036,-68.7213 2966.9466,-59.1018\"/>\n<polygon fill=\"#000000\" stroke=\"#000000\" points=\"2968.8783,-56.1809 2958.6973,-53.2485 2964.8275,-61.8898 2968.8783,-56.1809\"/>\n</g>\n<!-- 50 -->\n<g id=\"node51\" class=\"node\">\n<title>50</title>\n<polygon fill=\"#f8ddca\" stroke=\"#000000\" points=\"3129,-53 2997,-53 2997,0 3129,0 3129,-53\"/>\n<text text-anchor=\"middle\" x=\"3063\" y=\"-37.8\" font-family=\"Helvetica,sans-Serif\" font-size=\"14.00\" fill=\"#000000\">samples = 357</text>\n<text text-anchor=\"middle\" x=\"3063\" y=\"-22.8\" font-family=\"Helvetica,sans-Serif\" font-size=\"14.00\" fill=\"#000000\">value = [206, 151]</text>\n<text text-anchor=\"middle\" x=\"3063\" y=\"-7.8\" font-family=\"Helvetica,sans-Serif\" font-size=\"14.00\" fill=\"#000000\">class = H</text>\n</g>\n<!-- 48&#45;&gt;50 -->\n<g id=\"edge50\" class=\"edge\">\n<title>48&#45;&gt;50</title>\n<path fill=\"none\" stroke=\"#000000\" d=\"M3059.1154,-88.9777C3059.6335,-80.6449 3060.1902,-71.6903 3060.7159,-63.2364\"/>\n<polygon fill=\"#000000\" stroke=\"#000000\" points=\"3064.2095,-63.4464 3061.3369,-53.2485 3057.223,-63.012 3064.2095,-63.4464\"/>\n</g>\n<!-- 52 -->\n<g id=\"node53\" class=\"node\">\n<title>52</title>\n<polygon fill=\"#efb388\" stroke=\"#000000\" points=\"3246.5,-53 3147.5,-53 3147.5,0 3246.5,0 3246.5,-53\"/>\n<text text-anchor=\"middle\" x=\"3197\" y=\"-37.8\" font-family=\"Helvetica,sans-Serif\" font-size=\"14.00\" fill=\"#000000\">samples = 7</text>\n<text text-anchor=\"middle\" x=\"3197\" y=\"-22.8\" font-family=\"Helvetica,sans-Serif\" font-size=\"14.00\" fill=\"#000000\">value = [5, 2]</text>\n<text text-anchor=\"middle\" x=\"3197\" y=\"-7.8\" font-family=\"Helvetica,sans-Serif\" font-size=\"14.00\" fill=\"#000000\">class = H</text>\n</g>\n<!-- 51&#45;&gt;52 -->\n<g id=\"edge52\" class=\"edge\">\n<title>51&#45;&gt;52</title>\n<path fill=\"none\" stroke=\"#000000\" d=\"M3200.8846,-88.9777C3200.3665,-80.6449 3199.8098,-71.6903 3199.2841,-63.2364\"/>\n<polygon fill=\"#000000\" stroke=\"#000000\" points=\"3202.777,-63.012 3198.6631,-53.2485 3195.7905,-63.4464 3202.777,-63.012\"/>\n</g>\n<!-- 53 -->\n<g id=\"node54\" class=\"node\">\n<title>53</title>\n<polygon fill=\"#e58139\" stroke=\"#000000\" points=\"3371.5,-53 3264.5,-53 3264.5,0 3371.5,0 3371.5,-53\"/>\n<text text-anchor=\"middle\" x=\"3318\" y=\"-37.8\" font-family=\"Helvetica,sans-Serif\" font-size=\"14.00\" fill=\"#000000\">samples = 23</text>\n<text text-anchor=\"middle\" x=\"3318\" y=\"-22.8\" font-family=\"Helvetica,sans-Serif\" font-size=\"14.00\" fill=\"#000000\">value = [23, 0]</text>\n<text text-anchor=\"middle\" x=\"3318\" y=\"-7.8\" font-family=\"Helvetica,sans-Serif\" font-size=\"14.00\" fill=\"#000000\">class = H</text>\n</g>\n<!-- 51&#45;&gt;53 -->\n<g id=\"edge53\" class=\"edge\">\n<title>51&#45;&gt;53</title>\n<path fill=\"none\" stroke=\"#000000\" d=\"M3243.5447,-88.9777C3254.7845,-79.546 3266.9736,-69.3178 3278.1721,-59.9208\"/>\n<polygon fill=\"#000000\" stroke=\"#000000\" points=\"3280.713,-62.3576 3286.1236,-53.2485 3276.2134,-56.9954 3280.713,-62.3576\"/>\n</g>\n<!-- 55 -->\n<g id=\"node56\" class=\"node\">\n<title>55</title>\n<polygon fill=\"#acd6f4\" stroke=\"#000000\" points=\"3545,-157 3387,-157 3387,-89 3545,-89 3545,-157\"/>\n<text text-anchor=\"middle\" x=\"3466\" y=\"-141.8\" font-family=\"Helvetica,sans-Serif\" font-size=\"14.00\" fill=\"#000000\">총콜레스테롤 &lt;= 185.0</text>\n<text text-anchor=\"middle\" x=\"3466\" y=\"-126.8\" font-family=\"Helvetica,sans-Serif\" font-size=\"14.00\" fill=\"#000000\">samples = 19</text>\n<text text-anchor=\"middle\" x=\"3466\" y=\"-111.8\" font-family=\"Helvetica,sans-Serif\" font-size=\"14.00\" fill=\"#000000\">value = [7, 12]</text>\n<text text-anchor=\"middle\" x=\"3466\" y=\"-96.8\" font-family=\"Helvetica,sans-Serif\" font-size=\"14.00\" fill=\"#000000\">class = NH</text>\n</g>\n<!-- 54&#45;&gt;55 -->\n<g id=\"edge55\" class=\"edge\">\n<title>54&#45;&gt;55</title>\n<path fill=\"none\" stroke=\"#000000\" d=\"M3466,-192.9465C3466,-184.776 3466,-175.9318 3466,-167.3697\"/>\n<polygon fill=\"#000000\" stroke=\"#000000\" points=\"3469.5001,-167.13 3466,-157.13 3462.5001,-167.13 3469.5001,-167.13\"/>\n</g>\n<!-- 58 -->\n<g id=\"node59\" class=\"node\">\n<title>58</title>\n<polygon fill=\"#efb489\" stroke=\"#000000\" points=\"3775.5,-157 3590.5,-157 3590.5,-89 3775.5,-89 3775.5,-157\"/>\n<text text-anchor=\"middle\" x=\"3683\" y=\"-141.8\" font-family=\"Helvetica,sans-Serif\" font-size=\"14.00\" fill=\"#000000\">트리글리세라이드 &lt;= 121.5</text>\n<text text-anchor=\"middle\" x=\"3683\" y=\"-126.8\" font-family=\"Helvetica,sans-Serif\" font-size=\"14.00\" fill=\"#000000\">samples = 498</text>\n<text text-anchor=\"middle\" x=\"3683\" y=\"-111.8\" font-family=\"Helvetica,sans-Serif\" font-size=\"14.00\" fill=\"#000000\">value = [355, 143]</text>\n<text text-anchor=\"middle\" x=\"3683\" y=\"-96.8\" font-family=\"Helvetica,sans-Serif\" font-size=\"14.00\" fill=\"#000000\">class = H</text>\n</g>\n<!-- 54&#45;&gt;58 -->\n<g id=\"edge58\" class=\"edge\">\n<title>54&#45;&gt;58</title>\n<path fill=\"none\" stroke=\"#000000\" d=\"M3532.2863,-195.2315C3554.5131,-184.579 3579.5401,-172.5845 3602.7202,-161.4751\"/>\n<polygon fill=\"#000000\" stroke=\"#000000\" points=\"3604.3377,-164.5812 3611.8428,-157.103 3601.3123,-158.2687 3604.3377,-164.5812\"/>\n</g>\n<!-- 56 -->\n<g id=\"node57\" class=\"node\">\n<title>56</title>\n<polygon fill=\"#52a9e8\" stroke=\"#000000\" points=\"3488.5,-53 3389.5,-53 3389.5,0 3488.5,0 3488.5,-53\"/>\n<text text-anchor=\"middle\" x=\"3439\" y=\"-37.8\" font-family=\"Helvetica,sans-Serif\" font-size=\"14.00\" fill=\"#000000\">samples = 9</text>\n<text text-anchor=\"middle\" x=\"3439\" y=\"-22.8\" font-family=\"Helvetica,sans-Serif\" font-size=\"14.00\" fill=\"#000000\">value = [1, 8]</text>\n<text text-anchor=\"middle\" x=\"3439\" y=\"-7.8\" font-family=\"Helvetica,sans-Serif\" font-size=\"14.00\" fill=\"#000000\">class = NH</text>\n</g>\n<!-- 55&#45;&gt;56 -->\n<g id=\"edge56\" class=\"edge\">\n<title>55&#45;&gt;56</title>\n<path fill=\"none\" stroke=\"#000000\" d=\"M3456.4808,-88.9777C3454.1237,-80.5533 3451.5888,-71.4934 3449.2007,-62.9579\"/>\n<polygon fill=\"#000000\" stroke=\"#000000\" points=\"3452.5491,-61.9356 3446.484,-53.2485 3445.808,-63.8217 3452.5491,-61.9356\"/>\n</g>\n<!-- 57 -->\n<g id=\"node58\" class=\"node\">\n<title>57</title>\n<polygon fill=\"#f6d5bd\" stroke=\"#000000\" points=\"3611,-53 3507,-53 3507,0 3611,0 3611,-53\"/>\n<text text-anchor=\"middle\" x=\"3559\" y=\"-37.8\" font-family=\"Helvetica,sans-Serif\" font-size=\"14.00\" fill=\"#000000\">samples = 10</text>\n<text text-anchor=\"middle\" x=\"3559\" y=\"-22.8\" font-family=\"Helvetica,sans-Serif\" font-size=\"14.00\" fill=\"#000000\">value = [6, 4]</text>\n<text text-anchor=\"middle\" x=\"3559\" y=\"-7.8\" font-family=\"Helvetica,sans-Serif\" font-size=\"14.00\" fill=\"#000000\">class = H</text>\n</g>\n<!-- 55&#45;&gt;57 -->\n<g id=\"edge57\" class=\"edge\">\n<title>55&#45;&gt;57</title>\n<path fill=\"none\" stroke=\"#000000\" d=\"M3498.7883,-88.9777C3507.7014,-79.7292 3517.3527,-69.7147 3526.2629,-60.4691\"/>\n<polygon fill=\"#000000\" stroke=\"#000000\" points=\"3528.8025,-62.8777 3533.2217,-53.2485 3523.7622,-58.0202 3528.8025,-62.8777\"/>\n</g>\n<!-- 59 -->\n<g id=\"node60\" class=\"node\">\n<title>59</title>\n<polygon fill=\"#e68844\" stroke=\"#000000\" points=\"3736.5,-53 3629.5,-53 3629.5,0 3736.5,0 3736.5,-53\"/>\n<text text-anchor=\"middle\" x=\"3683\" y=\"-37.8\" font-family=\"Helvetica,sans-Serif\" font-size=\"14.00\" fill=\"#000000\">samples = 37</text>\n<text text-anchor=\"middle\" x=\"3683\" y=\"-22.8\" font-family=\"Helvetica,sans-Serif\" font-size=\"14.00\" fill=\"#000000\">value = [35, 2]</text>\n<text text-anchor=\"middle\" x=\"3683\" y=\"-7.8\" font-family=\"Helvetica,sans-Serif\" font-size=\"14.00\" fill=\"#000000\">class = H</text>\n</g>\n<!-- 58&#45;&gt;59 -->\n<g id=\"edge59\" class=\"edge\">\n<title>58&#45;&gt;59</title>\n<path fill=\"none\" stroke=\"#000000\" d=\"M3683,-88.9777C3683,-80.7364 3683,-71.887 3683,-63.5153\"/>\n<polygon fill=\"#000000\" stroke=\"#000000\" points=\"3686.5001,-63.2484 3683,-53.2485 3679.5001,-63.2485 3686.5001,-63.2484\"/>\n</g>\n<!-- 60 -->\n<g id=\"node61\" class=\"node\">\n<title>60</title>\n<polygon fill=\"#f0b990\" stroke=\"#000000\" points=\"3887,-53 3755,-53 3755,0 3887,0 3887,-53\"/>\n<text text-anchor=\"middle\" x=\"3821\" y=\"-37.8\" font-family=\"Helvetica,sans-Serif\" font-size=\"14.00\" fill=\"#000000\">samples = 461</text>\n<text text-anchor=\"middle\" x=\"3821\" y=\"-22.8\" font-family=\"Helvetica,sans-Serif\" font-size=\"14.00\" fill=\"#000000\">value = [320, 141]</text>\n<text text-anchor=\"middle\" x=\"3821\" y=\"-7.8\" font-family=\"Helvetica,sans-Serif\" font-size=\"14.00\" fill=\"#000000\">class = H</text>\n</g>\n<!-- 58&#45;&gt;60 -->\n<g id=\"edge60\" class=\"edge\">\n<title>58&#45;&gt;60</title>\n<path fill=\"none\" stroke=\"#000000\" d=\"M3731.6536,-88.9777C3745.5343,-79.2713 3760.6214,-68.7213 3774.3777,-59.1018\"/>\n<polygon fill=\"#000000\" stroke=\"#000000\" points=\"3776.5589,-61.8475 3782.7483,-53.2485 3772.5474,-56.1109 3776.5589,-61.8475\"/>\n</g>\n</g>\n</svg>\n"
          },
          "metadata": {}
        }
      ]
    },
    {
      "cell_type": "markdown",
      "source": [
        "변수의 중요도 파악"
      ],
      "metadata": {
        "id": "kGNwZAejcCH1"
      }
    },
    {
      "cell_type": "code",
      "source": [
        "result = tree.feature_importances_\n",
        "print(\"변수의 중요도:\\n\", result)"
      ],
      "metadata": {
        "colab": {
          "base_uri": "https://localhost:8080/"
        },
        "id": "Ar0pu5TxceHq",
        "outputId": "294b3d50-9b43-461d-ca21-7e77cb118f21"
      },
      "execution_count": 14,
      "outputs": [
        {
          "output_type": "stream",
          "name": "stdout",
          "text": [
            "변수의 중요도:\n",
            " [0.         0.17372594 0.         0.03412197 0.01744352 0.\n",
            " 0.02673092 0.         0.         0.05865019 0.04882016 0.02344261\n",
            " 0.14655314 0.03166852 0.08825796 0.01782966 0.         0.02285278\n",
            " 0.05193546 0.         0.24443809 0.         0.01352909]\n"
          ]
        }
      ]
    },
    {
      "cell_type": "code",
      "source": [
        "def plot_feature_importances_wisc(model):\n",
        "    plt.rcParams[\"figure.figsize\"] = (9,6)\n",
        "    n_features = len(health.columns[0:23])\n",
        "    plt.barh(np.arange(n_features), model.feature_importances_, align='center') \n",
        "    plt.yticks(np.arange(n_features), health.columns[0:23])\n",
        "    plt.xlabel(\"feature importance\")\n",
        "    plt.ylabel(\"feature\")\n",
        "    plt.ylim(-1, n_features)\n",
        "\n",
        "plot_feature_importances_wisc(tree)"
      ],
      "metadata": {
        "colab": {
          "base_uri": "https://localhost:8080/",
          "height": 389
        },
        "id": "esd8hi4Pco4n",
        "outputId": "7555879f-f998-4dfb-979d-8f9e51936a98"
      },
      "execution_count": 15,
      "outputs": [
        {
          "output_type": "display_data",
          "data": {
            "text/plain": [
              "<Figure size 648x432 with 1 Axes>"
            ],
            "image/png": "[encoded data removed]"
          },
          "metadata": {
            "needs_background": "light"
          }
        }
      ]
    },
    {
      "cell_type": "markdown",
      "source": [
        "# 2. 앙상블 모델"
      ],
      "metadata": {
        "id": "rs9D26LAZIVB"
      }
    },
    {
      "cell_type": "markdown",
      "source": [
        "(1) 랜덤 포레스트"
      ],
      "metadata": {
        "id": "XSTX1u8rcSGE"
      }
    },
    {
      "cell_type": "markdown",
      "source": [
        "성능 확인"
      ],
      "metadata": {
        "id": "xoPZlTONdSmd"
      }
    },
    {
      "cell_type": "code",
      "source": [
        "from sklearn.ensemble import RandomForestClassifier\n",
        "\n",
        "forest = RandomForestClassifier(n_estimators=100, random_state=0)\n",
        "forest.fit(x_train, y_train)\n",
        "\n",
        "print(\"학습용 데이터 세트 정확도: {:.3f}\".format(forest.score(x_train, y_train)))\n",
        "print(\"시험용 데이터 세트 정확도: {:.3f}\".format(forest.score(x_test, y_test)))"
      ],
      "metadata": {
        "colab": {
          "base_uri": "https://localhost:8080/"
        },
        "id": "PVA3G4tEZMU6",
        "outputId": "8371febb-8393-4041-ec4f-b5a7abfaac6f"
      },
      "execution_count": 16,
      "outputs": [
        {
          "output_type": "stream",
          "name": "stdout",
          "text": [
            "학습용 데이터 세트 정확도: 1.000\n",
            "시험용 데이터 세트 정확도: 0.612\n"
          ]
        }
      ]
    },
    {
      "cell_type": "markdown",
      "source": [
        "사용된 변수 파악"
      ],
      "metadata": {
        "id": "SFNkxIqwdOgV"
      }
    },
    {
      "cell_type": "code",
      "source": [
        "plot_feature_importances_wisc(forest)"
      ],
      "metadata": {
        "colab": {
          "base_uri": "https://localhost:8080/",
          "height": 389
        },
        "id": "-tgQoi1ucPjN",
        "outputId": "5b580f7f-1ad2-4d3c-efe7-9ed62f9a066d"
      },
      "execution_count": 17,
      "outputs": [
        {
          "output_type": "display_data",
          "data": {
            "text/plain": [
              "<Figure size 648x432 with 1 Axes>"
            ],
            "image/png": "[encoded data removed]"
          },
          "metadata": {
            "needs_background": "light"
          }
        }
      ]
    },
    {
      "cell_type": "markdown",
      "source": [
        "랜덤 포레스트와 의사결정나무 모델 비교"
      ],
      "metadata": {
        "id": "oqB5syUAdW0R"
      }
    },
    {
      "cell_type": "code",
      "source": [
        "from sklearn.model_selection import cross_val_score\n",
        "\n",
        "dt_scores = cross_val_score(tree, x_train, y_train, cv=10, scoring='accuracy')  \n",
        "rf_scores = cross_val_score(forest, x_train, y_train, cv=10, scoring='accuracy')\n",
        "\n",
        "print(\"Accuracy\")\n",
        "print(\"Decision tree: \", dt_scores) \n",
        "print(\"Random forest: \", rf_scores) \n",
        "\n",
        "print(\"Accuracy mean\")\n",
        "print(\"Decision tree :{:.3f}\".format(dt_scores.mean())) \n",
        "print(\"Random forest :{:.3f}\".format(rf_scores.mean())) "
      ],
      "metadata": {
        "colab": {
          "base_uri": "https://localhost:8080/"
        },
        "id": "XZJcnCfPZNVY",
        "outputId": "7ede6690-0239-4f01-c36a-915757c89a27"
      },
      "execution_count": 18,
      "outputs": [
        {
          "output_type": "stream",
          "name": "stdout",
          "text": [
            "Accuracy\n",
            "Decision tree:  [0.56902357 0.63636364 0.63973064 0.64983165 0.65993266 0.58922559\n",
            " 0.59797297 0.60472973 0.61148649 0.58445946]\n",
            "Random forest:  [0.60942761 0.5959596  0.70707071 0.64646465 0.68013468 0.61952862\n",
            " 0.65540541 0.62162162 0.63175676 0.59121622]\n",
            "Accuracy mean\n",
            "Decision tree :0.614\n",
            "Random forest :0.636\n"
          ]
        }
      ]
    },
    {
      "cell_type": "code",
      "source": [
        "cv_list = [    \n",
        "            ['decision_tree',dt_scores],\n",
        "            ['random_forest',rf_scores],\n",
        "          ]\n",
        "df = pd.DataFrame.from_dict(dict(cv_list))\n",
        "df.plot()"
      ],
      "metadata": {
        "colab": {
          "base_uri": "https://localhost:8080/",
          "height": 393
        },
        "id": "BG2KwM1dZMPI",
        "outputId": "7b47c40b-4b13-42c8-e9be-c072a738872c"
      },
      "execution_count": 19,
      "outputs": [
        {
          "output_type": "execute_result",
          "data": {
            "text/plain": [
              "<matplotlib.axes._subplots.AxesSubplot at 0x7f1ec164c150>"
            ]
          },
          "metadata": {},
          "execution_count": 19
        },
        {
          "output_type": "display_data",
          "data": {
            "text/plain": [
              "<Figure size 648x432 with 1 Axes>"
            ],
            "image/png": "[encoded data removed]"
          },
          "metadata": {
            "needs_background": "light"
          }
        }
      ]
    },
    {
      "cell_type": "markdown",
      "source": [
        "그래프 해석: 일반적으로 의사결정나무보다 랜덤 포레스트의 정확도가 더 높게 나타난다."
      ],
      "metadata": {
        "id": "FEYwMh7shDSA"
      }
    },
    {
      "cell_type": "markdown",
      "source": [
        "(2) 그래디언트 부스팅"
      ],
      "metadata": {
        "id": "l8hxnjVQcxdF"
      }
    },
    {
      "cell_type": "markdown",
      "source": [
        "성능 확인"
      ],
      "metadata": {
        "id": "FQ1jK-nndgyM"
      }
    },
    {
      "cell_type": "code",
      "source": [
        "from sklearn.ensemble import GradientBoostingClassifier\n",
        "# 기본값은 max_depth= 3, n_estimators=100, learning_rate = 0.1\n",
        "\n",
        "gbrt = GradientBoostingClassifier(random_state=0)\n",
        "gbrt.fit(x_train, y_train)\n",
        "\n",
        "print(\"학습용 데이터 세트 정확도: {:.3f}\".format(gbrt.score(x_train, y_train)))\n",
        "print(\"시험용 데이터 세트 정확도: {:.3f}\".format(gbrt.score(x_test, y_test)))"
      ],
      "metadata": {
        "colab": {
          "base_uri": "https://localhost:8080/"
        },
        "id": "0y2ku3KUc03t",
        "outputId": "e41ea245-852a-4be6-db10-cfefe7dbeebe"
      },
      "execution_count": 20,
      "outputs": [
        {
          "output_type": "stream",
          "name": "stdout",
          "text": [
            "학습용 데이터 세트 정확도: 0.729\n",
            "시험용 데이터 세트 정확도: 0.621\n"
          ]
        }
      ]
    },
    {
      "cell_type": "code",
      "source": [
        "gbrt = GradientBoostingClassifier(random_state=0, max_depth=5) \n",
        "gbrt.fit(x_train, y_train)\n",
        "\n",
        "print(\"학습용 데이터 세트 정확도: {:.3f}\".format(gbrt.score(x_train, y_train)))\n",
        "print(\"시험용 데이터 세트 정확도: {:.3f}\".format(gbrt.score(x_test, y_test)))"
      ],
      "metadata": {
        "colab": {
          "base_uri": "https://localhost:8080/"
        },
        "id": "nu3TX7vUdwQU",
        "outputId": "73b316ac-cb52-4f99-d2f5-8b876417d8f0"
      },
      "execution_count": 21,
      "outputs": [
        {
          "output_type": "stream",
          "name": "stdout",
          "text": [
            "학습용 데이터 세트 정확도: 0.864\n",
            "시험용 데이터 세트 정확도: 0.585\n"
          ]
        }
      ]
    },
    {
      "cell_type": "markdown",
      "source": [
        "사용된 변수 파악"
      ],
      "metadata": {
        "id": "JRiPWWEldjYJ"
      }
    },
    {
      "cell_type": "code",
      "source": [
        "plot_feature_importances_wisc(gbrt)"
      ],
      "metadata": {
        "colab": {
          "base_uri": "https://localhost:8080/",
          "height": 389
        },
        "id": "9FamD01tdACw",
        "outputId": "34e1bb46-d943-42f3-8c95-eba9048640f9"
      },
      "execution_count": 22,
      "outputs": [
        {
          "output_type": "display_data",
          "data": {
            "text/plain": [
              "<Figure size 648x432 with 1 Axes>"
            ],
            "image/png": "[encoded data removed]"
          },
          "metadata": {
            "needs_background": "light"
          }
        }
      ]
    },
    {
      "cell_type": "markdown",
      "source": [
        "# 평가"
      ],
      "metadata": {
        "id": "5ZmrV6F1eclc"
      }
    },
    {
      "cell_type": "markdown",
      "source": [
        "교차 검증"
      ],
      "metadata": {
        "id": "1e46RKuoeuSZ"
      }
    },
    {
      "cell_type": "code",
      "source": [
        "dt_scores = cross_val_score(tree, x_train, y_train, cv=10, scoring='accuracy')  \n",
        "rf_scores = cross_val_score(forest, x_train, y_train, cv=10, scoring='accuracy')\n",
        "gbrt_scores = cross_val_score(gbrt, x_train, y_train, cv=10, scoring='accuracy')\n",
        "\n",
        "print(\"Accuracy\")\n",
        "print(\"Decision tree: \", dt_scores) \n",
        "print(\"Random forest: \", rf_scores) \n",
        "print(\"Gradient boosting: \", gbrt_scores) \n",
        "\n",
        "print(\"Accuracy mean\")\n",
        "print(\"Decision tree :{:.3f}\".format(dt_scores.mean())) \n",
        "print(\"Random forest :{:.3f}\".format(rf_scores.mean())) \n",
        "print(\"Gradient boosting :{:.3f}\".format(gbrt_scores.mean())) "
      ],
      "metadata": {
        "colab": {
          "base_uri": "https://localhost:8080/"
        },
        "id": "xGG4OffOefBC",
        "outputId": "405c3e44-4439-4a51-9d47-f9631e7c2ce2"
      },
      "execution_count": 23,
      "outputs": [
        {
          "output_type": "stream",
          "name": "stdout",
          "text": [
            "Accuracy\n",
            "Decision tree:  [0.56902357 0.63636364 0.63973064 0.64983165 0.65993266 0.58922559\n",
            " 0.59797297 0.60472973 0.61148649 0.58445946]\n",
            "Random forest:  [0.60942761 0.5959596  0.70707071 0.64646465 0.68013468 0.61952862\n",
            " 0.65540541 0.62162162 0.63175676 0.59121622]\n",
            "Gradient boosting:  [0.61616162 0.61952862 0.65319865 0.68013468 0.67003367 0.64646465\n",
            " 0.62837838 0.61486486 0.62162162 0.60135135]\n",
            "Accuracy mean\n",
            "Decision tree :0.614\n",
            "Random forest :0.636\n",
            "Gradient boosting :0.635\n"
          ]
        }
      ]
    },
    {
      "cell_type": "code",
      "source": [
        "x_test = health.iloc[:, 0:23].values\n",
        "y_test = health.iloc[:, 23].values"
      ],
      "metadata": {
        "id": "xuCHU5Y5e9Nd"
      },
      "execution_count": 24,
      "outputs": []
    },
    {
      "cell_type": "markdown",
      "source": [
        "그래디언트 부스팅"
      ],
      "metadata": {
        "id": "k2L9pHlAkLIA"
      }
    },
    {
      "cell_type": "code",
      "source": [
        "from sklearn.model_selection import GridSearchCV\n",
        "\n",
        "parameters = {'max_depth':[1,2,3], 'learning_rate':[0.1,0.08, 0.06, 0.04, 0.02]}\n",
        "init_gbrt = GradientBoostingClassifier(random_state=0)\n",
        "grid_gbrt = GridSearchCV(init_gbrt, param_grid=parameters, cv=3, refit=True)\n",
        "\n",
        "grid_gbrt.fit(x_train, y_train)\n",
        "\n",
        "scores_df = pd.DataFrame(grid_gbrt.cv_results_)\n",
        "scores_df[['params', 'mean_test_score', 'rank_test_score', 'split0_test_score', 'split1_test_score', 'split2_test_score']]"
      ],
      "metadata": {
        "colab": {
          "base_uri": "https://localhost:8080/",
          "height": 520
        },
        "id": "F2P0Mmm7fQ4k",
        "outputId": "d8c1676e-572b-4cf8-da0d-611263cbb7c3"
      },
      "execution_count": 25,
      "outputs": [
        {
          "output_type": "execute_result",
          "data": {
            "text/plain": [
              "                                     params  mean_test_score  rank_test_score  \\\n",
              "0    {'learning_rate': 0.1, 'max_depth': 1}         0.643285                6   \n",
              "1    {'learning_rate': 0.1, 'max_depth': 2}         0.639914                8   \n",
              "2    {'learning_rate': 0.1, 'max_depth': 3}         0.633168               11   \n",
              "3   {'learning_rate': 0.08, 'max_depth': 1}         0.647668                2   \n",
              "4   {'learning_rate': 0.08, 'max_depth': 2}         0.644296                5   \n",
              "5   {'learning_rate': 0.08, 'max_depth': 3}         0.640248                7   \n",
              "6   {'learning_rate': 0.06, 'max_depth': 1}         0.648341                1   \n",
              "7   {'learning_rate': 0.06, 'max_depth': 2}         0.647330                3   \n",
              "8   {'learning_rate': 0.06, 'max_depth': 3}         0.635866               10   \n",
              "9   {'learning_rate': 0.04, 'max_depth': 1}         0.631483               12   \n",
              "10  {'learning_rate': 0.04, 'max_depth': 2}         0.644634                4   \n",
              "11  {'learning_rate': 0.04, 'max_depth': 3}         0.638229                9   \n",
              "12  {'learning_rate': 0.02, 'max_depth': 1}         0.625078               15   \n",
              "13  {'learning_rate': 0.02, 'max_depth': 2}         0.630809               13   \n",
              "14  {'learning_rate': 0.02, 'max_depth': 3}         0.630476               14   \n",
              "\n",
              "    split0_test_score  split1_test_score  split2_test_score  \n",
              "0            0.655207           0.649141           0.625506  \n",
              "1            0.652174           0.643074           0.624494  \n",
              "2            0.661274           0.629929           0.608300  \n",
              "3            0.658241           0.654196           0.630567  \n",
              "4            0.658241           0.648129           0.626518  \n",
              "5            0.663296           0.641052           0.616397  \n",
              "6            0.659252           0.657230           0.628543  \n",
              "7            0.660263           0.652174           0.629555  \n",
              "8            0.658241           0.635996           0.613360  \n",
              "9            0.643074           0.641052           0.610324  \n",
              "10           0.656218           0.649141           0.628543  \n",
              "11           0.649141           0.641052           0.624494  \n",
              "12           0.640040           0.627907           0.607287  \n",
              "13           0.644085           0.637007           0.611336  \n",
              "14           0.640040           0.629929           0.621457  "
            ],
            "text/html": [
              "\n",
              "  <div id=\"df-ecf78081-49cd-4262-9353-141334e11693\">\n",
              "    <div class=\"colab-df-container\">\n",
              "      <div>\n",
              "<style scoped>\n",
              "    .dataframe tbody tr th:only-of-type {\n",
              "        vertical-align: middle;\n",
              "    }\n",
              "\n",
              "    .dataframe tbody tr th {\n",
              "        vertical-align: top;\n",
              "    }\n",
              "\n",
              "    .dataframe thead th {\n",
              "        text-align: right;\n",
              "    }\n",
              "</style>\n",
              "<table border=\"1\" class=\"dataframe\">\n",
              "  <thead>\n",
              "    <tr style=\"text-align: right;\">\n",
              "      <th></th>\n",
              "      <th>params</th>\n",
              "      <th>mean_test_score</th>\n",
              "      <th>rank_test_score</th>\n",
              "      <th>split0_test_score</th>\n",
              "      <th>split1_test_score</th>\n",
              "      <th>split2_test_score</th>\n",
              "    </tr>\n",
              "  </thead>\n",
              "  <tbody>\n",
              "    <tr>\n",
              "      <th>0</th>\n",
              "      <td>{'learning_rate': 0.1, 'max_depth': 1}</td>\n",
              "      <td>0.643285</td>\n",
              "      <td>6</td>\n",
              "      <td>0.655207</td>\n",
              "      <td>0.649141</td>\n",
              "      <td>0.625506</td>\n",
              "    </tr>\n",
              "    <tr>\n",
              "      <th>1</th>\n",
              "      <td>{'learning_rate': 0.1, 'max_depth': 2}</td>\n",
              "      <td>0.639914</td>\n",
              "      <td>8</td>\n",
              "      <td>0.652174</td>\n",
              "      <td>0.643074</td>\n",
              "      <td>0.624494</td>\n",
              "    </tr>\n",
              "    <tr>\n",
              "      <th>2</th>\n",
              "      <td>{'learning_rate': 0.1, 'max_depth': 3}</td>\n",
              "      <td>0.633168</td>\n",
              "      <td>11</td>\n",
              "      <td>0.661274</td>\n",
              "      <td>0.629929</td>\n",
              "      <td>0.608300</td>\n",
              "    </tr>\n",
              "    <tr>\n",
              "      <th>3</th>\n",
              "      <td>{'learning_rate': 0.08, 'max_depth': 1}</td>\n",
              "      <td>0.647668</td>\n",
              "      <td>2</td>\n",
              "      <td>0.658241</td>\n",
              "      <td>0.654196</td>\n",
              "      <td>0.630567</td>\n",
              "    </tr>\n",
              "    <tr>\n",
              "      <th>4</th>\n",
              "      <td>{'learning_rate': 0.08, 'max_depth': 2}</td>\n",
              "      <td>0.644296</td>\n",
              "      <td>5</td>\n",
              "      <td>0.658241</td>\n",
              "      <td>0.648129</td>\n",
              "      <td>0.626518</td>\n",
              "    </tr>\n",
              "    <tr>\n",
              "      <th>5</th>\n",
              "      <td>{'learning_rate': 0.08, 'max_depth': 3}</td>\n",
              "      <td>0.640248</td>\n",
              "      <td>7</td>\n",
              "      <td>0.663296</td>\n",
              "      <td>0.641052</td>\n",
              "      <td>0.616397</td>\n",
              "    </tr>\n",
              "    <tr>\n",
              "      <th>6</th>\n",
              "      <td>{'learning_rate': 0.06, 'max_depth': 1}</td>\n",
              "      <td>0.648341</td>\n",
              "      <td>1</td>\n",
              "      <td>0.659252</td>\n",
              "      <td>0.657230</td>\n",
              "      <td>0.628543</td>\n",
              "    </tr>\n",
              "    <tr>\n",
              "      <th>7</th>\n",
              "      <td>{'learning_rate': 0.06, 'max_depth': 2}</td>\n",
              "      <td>0.647330</td>\n",
              "      <td>3</td>\n",
              "      <td>0.660263</td>\n",
              "      <td>0.652174</td>\n",
              "      <td>0.629555</td>\n",
              "    </tr>\n",
              "    <tr>\n",
              "      <th>8</th>\n",
              "      <td>{'learning_rate': 0.06, 'max_depth': 3}</td>\n",
              "      <td>0.635866</td>\n",
              "      <td>10</td>\n",
              "      <td>0.658241</td>\n",
              "      <td>0.635996</td>\n",
              "      <td>0.613360</td>\n",
              "    </tr>\n",
              "    <tr>\n",
              "      <th>9</th>\n",
              "      <td>{'learning_rate': 0.04, 'max_depth': 1}</td>\n",
              "      <td>0.631483</td>\n",
              "      <td>12</td>\n",
              "      <td>0.643074</td>\n",
              "      <td>0.641052</td>\n",
              "      <td>0.610324</td>\n",
              "    </tr>\n",
              "    <tr>\n",
              "      <th>10</th>\n",
              "      <td>{'learning_rate': 0.04, 'max_depth': 2}</td>\n",
              "      <td>0.644634</td>\n",
              "      <td>4</td>\n",
              "      <td>0.656218</td>\n",
              "      <td>0.649141</td>\n",
              "      <td>0.628543</td>\n",
              "    </tr>\n",
              "    <tr>\n",
              "      <th>11</th>\n",
              "      <td>{'learning_rate': 0.04, 'max_depth': 3}</td>\n",
              "      <td>0.638229</td>\n",
              "      <td>9</td>\n",
              "      <td>0.649141</td>\n",
              "      <td>0.641052</td>\n",
              "      <td>0.624494</td>\n",
              "    </tr>\n",
              "    <tr>\n",
              "      <th>12</th>\n",
              "      <td>{'learning_rate': 0.02, 'max_depth': 1}</td>\n",
              "      <td>0.625078</td>\n",
              "      <td>15</td>\n",
              "      <td>0.640040</td>\n",
              "      <td>0.627907</td>\n",
              "      <td>0.607287</td>\n",
              "    </tr>\n",
              "    <tr>\n",
              "      <th>13</th>\n",
              "      <td>{'learning_rate': 0.02, 'max_depth': 2}</td>\n",
              "      <td>0.630809</td>\n",
              "      <td>13</td>\n",
              "      <td>0.644085</td>\n",
              "      <td>0.637007</td>\n",
              "      <td>0.611336</td>\n",
              "    </tr>\n",
              "    <tr>\n",
              "      <th>14</th>\n",
              "      <td>{'learning_rate': 0.02, 'max_depth': 3}</td>\n",
              "      <td>0.630476</td>\n",
              "      <td>14</td>\n",
              "      <td>0.640040</td>\n",
              "      <td>0.629929</td>\n",
              "      <td>0.621457</td>\n",
              "    </tr>\n",
              "  </tbody>\n",
              "</table>\n",
              "</div>\n",
              "      <button class=\"colab-df-convert\" onclick=\"convertToInteractive('df-ecf78081-49cd-4262-9353-141334e11693')\"\n",
              "              title=\"Convert this dataframe to an interactive table.\"\n",
              "              style=\"display:none;\">\n",
              "        \n",
              "  <svg xmlns=\"http://www.w3.org/2000/svg\" height=\"24px\"viewBox=\"0 0 24 24\"\n",
              "       width=\"24px\">\n",
              "    <path d=\"M0 0h24v24H0V0z\" fill=\"none\"/>\n",
              "    <path d=\"M18.56 5.44l.94 2.06.94-2.06 2.06-.94-2.06-.94-.94-2.06-.94 2.06-2.06.94zm-11 1L8.5 8.5l.94-2.06 2.06-.94-2.06-.94L8.5 2.5l-.94 2.06-2.06.94zm10 10l.94 2.06.94-2.06 2.06-.94-2.06-.94-.94-2.06-.94 2.06-2.06.94z\"/><path d=\"M17.41 7.96l-1.37-1.37c-.4-.4-.92-.59-1.43-.59-.52 0-1.04.2-1.43.59L10.3 9.45l-7.72 7.72c-.78.78-.78 2.05 0 2.83L4 21.41c.39.39.9.59 1.41.59.51 0 1.02-.2 1.41-.59l7.78-7.78 2.81-2.81c.8-.78.8-2.07 0-2.86zM5.41 20L4 18.59l7.72-7.72 1.47 1.35L5.41 20z\"/>\n",
              "  </svg>\n",
              "      </button>\n",
              "      \n",
              "  <style>\n",
              "    .colab-df-container {\n",
              "      display:flex;\n",
              "      flex-wrap:wrap;\n",
              "      gap: 12px;\n",
              "    }\n",
              "\n",
              "    .colab-df-convert {\n",
              "      background-color: #E8F0FE;\n",
              "      border: none;\n",
              "      border-radius: 50%;\n",
              "      cursor: pointer;\n",
              "      display: none;\n",
              "      fill: #1967D2;\n",
              "      height: 32px;\n",
              "      padding: 0 0 0 0;\n",
              "      width: 32px;\n",
              "    }\n",
              "\n",
              "    .colab-df-convert:hover {\n",
              "      background-color: #E2EBFA;\n",
              "      box-shadow: 0px 1px 2px rgba(60, 64, 67, 0.3), 0px 1px 3px 1px rgba(60, 64, 67, 0.15);\n",
              "      fill: #174EA6;\n",
              "    }\n",
              "\n",
              "    [theme=dark] .colab-df-convert {\n",
              "      background-color: #3B4455;\n",
              "      fill: #D2E3FC;\n",
              "    }\n",
              "\n",
              "    [theme=dark] .colab-df-convert:hover {\n",
              "      background-color: #434B5C;\n",
              "      box-shadow: 0px 1px 3px 1px rgba(0, 0, 0, 0.15);\n",
              "      filter: drop-shadow(0px 1px 2px rgba(0, 0, 0, 0.3));\n",
              "      fill: #FFFFFF;\n",
              "    }\n",
              "  </style>\n",
              "\n",
              "      <script>\n",
              "        const buttonEl =\n",
              "          document.querySelector('#df-ecf78081-49cd-4262-9353-141334e11693 button.colab-df-convert');\n",
              "        buttonEl.style.display =\n",
              "          google.colab.kernel.accessAllowed ? 'block' : 'none';\n",
              "\n",
              "        async function convertToInteractive(key) {\n",
              "          const element = document.querySelector('#df-ecf78081-49cd-4262-9353-141334e11693');\n",
              "          const dataTable =\n",
              "            await google.colab.kernel.invokeFunction('convertToInteractive',\n",
              "                                                     [key], {});\n",
              "          if (!dataTable) return;\n",
              "\n",
              "          const docLinkHtml = 'Like what you see? Visit the ' +\n",
              "            '<a target=\"_blank\" href=https://colab.research.google.com/notebooks/data_table.ipynb>data table notebook</a>'\n",
              "            + ' to learn more about interactive tables.';\n",
              "          element.innerHTML = '';\n",
              "          dataTable['output_type'] = 'display_data';\n",
              "          await google.colab.output.renderOutput(dataTable, element);\n",
              "          const docLink = document.createElement('div');\n",
              "          docLink.innerHTML = docLinkHtml;\n",
              "          element.appendChild(docLink);\n",
              "        }\n",
              "      </script>\n",
              "    </div>\n",
              "  </div>\n",
              "  "
            ]
          },
          "metadata": {},
          "execution_count": 25
        }
      ]
    },
    {
      "cell_type": "code",
      "source": [
        "print('GridSearchCV 최적 파라미터:', grid_gbrt.best_params_)\n",
        "print('GridSearchCV 최고 정확도: {0:.4f}'.format(grid_gbrt.best_score_))"
      ],
      "metadata": {
        "colab": {
          "base_uri": "https://localhost:8080/"
        },
        "id": "1EcxENkNfvCv",
        "outputId": "80c04f4a-917e-4cf4-a6b2-7e68822000b6"
      },
      "execution_count": 26,
      "outputs": [
        {
          "output_type": "stream",
          "name": "stdout",
          "text": [
            "GridSearchCV 최적 파라미터: {'learning_rate': 0.06, 'max_depth': 1}\n",
            "GridSearchCV 최고 정확도: 0.6483\n"
          ]
        }
      ]
    },
    {
      "cell_type": "code",
      "source": [
        "print(\"시험용 데이터 세트 정확도: {:.3f}\".format(grid_gbrt.score(x_test, y_test)))"
      ],
      "metadata": {
        "colab": {
          "base_uri": "https://localhost:8080/"
        },
        "id": "1UdaRgztfyw5",
        "outputId": "10dcd92d-641d-40cf-de4d-fbbfa48093f5"
      },
      "execution_count": 27,
      "outputs": [
        {
          "output_type": "stream",
          "name": "stdout",
          "text": [
            "시험용 데이터 세트 정확도: 0.651\n"
          ]
        },
        {
          "output_type": "stream",
          "name": "stderr",
          "text": [
            "/usr/local/lib/python3.7/dist-packages/sklearn/base.py:451: UserWarning: X does not have valid feature names, but GradientBoostingClassifier was fitted with feature names\n",
            "  \"X does not have valid feature names, but\"\n"
          ]
        }
      ]
    },
    {
      "cell_type": "markdown",
      "source": [
        "평가 지표: 정확도(accuracy)"
      ],
      "metadata": {
        "id": "-J_OemwmkQB4"
      }
    },
    {
      "cell_type": "code",
      "source": [
        "from sklearn.metrics import accuracy_score, precision_score, recall_score, f1_score\n",
        "from sklearn.metrics import confusion_matrix \n",
        "\n",
        "dt_pred = tree.predict(x_test)\n",
        "rf_pred = forest.predict(x_test)\n",
        "grid_gbrt_pred = grid_gbrt.predict(x_test)\n",
        "\n",
        "# 예측 결과인 pred와 실제 결과인 y_test의 Confusion Matrix 출력\n",
        "print('Decision tree 시험용 데이터 세트 정확도:{:.3f}'.format(accuracy_score(y_test, dt_pred)))\n",
        "print(confusion_matrix(y_test, dt_pred))\n",
        "print('Random forest 시험용 데이터 세트 정확도:{:.3f}'.format(accuracy_score(y_test, rf_pred)))\n",
        "print(confusion_matrix(y_test, rf_pred))\n",
        "print('Gradient boosting 시험용 데이터 세트 정확도:{:.3f}'.format(accuracy_score(y_test, grid_gbrt_pred)))\n",
        "print(confusion_matrix(y_test, grid_gbrt_pred))"
      ],
      "metadata": {
        "colab": {
          "base_uri": "https://localhost:8080/"
        },
        "id": "qSzF71vZfB0U",
        "outputId": "e492cd50-3dc0-455c-d7fc-4c63f1bb917f"
      },
      "execution_count": 28,
      "outputs": [
        {
          "output_type": "stream",
          "name": "stdout",
          "text": [
            "Decision tree 시험용 데이터 세트 정확도:0.652\n",
            "[[1312  543]\n",
            " [ 832 1268]]\n",
            "Random forest 시험용 데이터 세트 정확도:0.903\n",
            "[[1673  182]\n",
            " [ 202 1898]]\n",
            "Gradient boosting 시험용 데이터 세트 정확도:0.651\n",
            "[[1155  700]\n",
            " [ 681 1419]]\n"
          ]
        },
        {
          "output_type": "stream",
          "name": "stderr",
          "text": [
            "/usr/local/lib/python3.7/dist-packages/sklearn/base.py:451: UserWarning: X does not have valid feature names, but DecisionTreeClassifier was fitted with feature names\n",
            "  \"X does not have valid feature names, but\"\n",
            "/usr/local/lib/python3.7/dist-packages/sklearn/base.py:451: UserWarning: X does not have valid feature names, but RandomForestClassifier was fitted with feature names\n",
            "  \"X does not have valid feature names, but\"\n",
            "/usr/local/lib/python3.7/dist-packages/sklearn/base.py:451: UserWarning: X does not have valid feature names, but GradientBoostingClassifier was fitted with feature names\n",
            "  \"X does not have valid feature names, but\"\n"
          ]
        }
      ]
    },
    {
      "cell_type": "markdown",
      "source": [
        "-> 랜덤 포레스트 모델의 정확도가 가장 높게 나타나므로(0.903), 랜덤 포레스트를 채택한다. "
      ],
      "metadata": {
        "id": "59OX5oT9Co_f"
      }
    },
    {
      "cell_type": "markdown",
      "source": [
        "# 인사이트\n",
        "\n"
      ],
      "metadata": {
        "id": "e5yPwhszDo6p"
      }
    },
    {
      "cell_type": "markdown",
      "source": [
        "\n",
        "\n",
        "*   사용된 변수 파악 시, 트리글리세라이드, 감마지티피, 허리둘레, 수축기혈압, LDL콜레스테롤 변수의 중요성이 크게 나타나고 있다. (Top 5)\n",
        "*   즉, 트리글리세라이드와 허리둘레, LDL콜레스테롤 수치는 비만과 관련이 있는 변수로, 비만에 해당하는 자는 식전혈당 수치가 높을 가능성이 크므로 유의해야 한다.\n",
        "*   감마지티피는 간 기능을 나타내는 수치로, 감마지티피의 높은 수치가 높은 식전혈당에 영향을 미친다는 것을 시사한다. 따라서 음주 등 간 기능에 악영향을 줄 수 있는 행위를 조절해야 할 것이다.\n",
        "*   수축기혈압에 따라, 혈압이 높은 자는 공복혈당장애 혹은 당뇨병을 앓을 확률이 크다.\n",
        "*   결론적으로, 높은 혈당 수치에 큰 영향을 미치는 변수는 트리글리세라이드, 감마지티피, 허리둘레, 수축기혈압, LDL콜레스테롤 등이 있으며, 식전혈당이 H(High)로 분류 예측되는 사람들은 비만, 음주, 고혈압 등을 앓고 있을 가능성이 큼을 알 수 있다. \n"
      ],
      "metadata": {
        "id": "LjQlRmfcDsD3"
      }
    }
  ]
}