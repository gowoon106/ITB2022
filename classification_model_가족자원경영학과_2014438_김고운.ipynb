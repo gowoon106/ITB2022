{
  "nbformat": 4,
  "nbformat_minor": 0,
  "metadata": {
    "colab": {
      "provenance": [],
      "authorship_tag": "ABX9TyO0XLxoj0t04wlL64DbsJKj",
      "include_colab_link": true
    },
    "kernelspec": {
      "name": "python3",
      "display_name": "Python 3"
    },
    "language_info": {
      "name": "python"
    }
  },
  "cells": [
    {
      "cell_type": "markdown",
      "metadata": {
        "id": "view-in-github",
        "colab_type": "text"
      },
      "source": [
        "<a href=\"https://colab.research.google.com/github/gowoon106/ITB2022/blob/main/classification_model_%EA%B0%80%EC%A1%B1%EC%9E%90%EC%9B%90%EA%B2%BD%EC%98%81%ED%95%99%EA%B3%BC_2014438_%EA%B9%80%EA%B3%A0%EC%9A%B4.ipynb\" target=\"_parent\"><img src=\"https://colab.research.google.com/assets/colab-badge.svg\" alt=\"Open In Colab\"/></a>"
      ]
    },
    {
      "cell_type": "markdown",
      "source": [
        "# **분류 모델을 이용하여 높은 식전혈당을 결정짓는 요소 알아보기** \n",
        "가족자원경영학과 2014438 김고운"
      ],
      "metadata": {
        "id": "5ailcA3KV10K"
      }
    },
    {
      "cell_type": "markdown",
      "source": [
        "한글 깨짐 해결\n"
      ],
      "metadata": {
        "id": "_n8f_9p_7LSp"
      }
    },
    {
      "cell_type": "code",
      "source": [
        "!sudo apt-get install -y fonts-nanum\n",
        "!sudo fc-cache -fv\n",
        "!rm ~/.cache/matplotlib -rf\n",
        "\n",
        "import matplotlib.pyplot as plt\n",
        "plt.rc('font', family='NanumBarunGothic')"
      ],
      "metadata": {
        "colab": {
          "base_uri": "https://localhost:8080/"
        },
        "id": "QfGIN7PGyoZe",
        "outputId": "672db25c-155d-4b28-ddbe-3a058fe3080e"
      },
      "execution_count": null,
      "outputs": [
        {
          "output_type": "stream",
          "name": "stdout",
          "text": [
            "Reading package lists... Done\n",
            "Building dependency tree       \n",
            "Reading state information... Done\n",
            "fonts-nanum is already the newest version (20170925-1).\n",
            "The following package was automatically installed and is no longer required:\n",
            "  libnvidia-common-460\n",
            "Use 'sudo apt autoremove' to remove it.\n",
            "0 upgraded, 0 newly installed, 0 to remove and 5 not upgraded.\n",
            "/usr/share/fonts: caching, new cache contents: 0 fonts, 1 dirs\n",
            "/usr/share/fonts/truetype: caching, new cache contents: 0 fonts, 3 dirs\n",
            "/usr/share/fonts/truetype/humor-sans: caching, new cache contents: 1 fonts, 0 dirs\n",
            "/usr/share/fonts/truetype/liberation: caching, new cache contents: 16 fonts, 0 dirs\n",
            "/usr/share/fonts/truetype/nanum: caching, new cache contents: 10 fonts, 0 dirs\n",
            "/usr/local/share/fonts: caching, new cache contents: 0 fonts, 0 dirs\n",
            "/root/.local/share/fonts: skipping, no such directory\n",
            "/root/.fonts: skipping, no such directory\n",
            "/var/cache/fontconfig: cleaning cache directory\n",
            "/root/.cache/fontconfig: not cleaning non-existent cache directory\n",
            "/root/.fontconfig: not cleaning non-existent cache directory\n",
            "fc-cache: succeeded\n"
          ]
        }
      ]
    },
    {
      "cell_type": "markdown",
      "source": [
        "패키지 불러오기"
      ],
      "metadata": {
        "id": "xunGIQCzQa4B"
      }
    },
    {
      "cell_type": "code",
      "source": [
        "%matplotlib inline\n",
        "import pandas as pd\n",
        "import seaborn as sns           \n",
        "import matplotlib.pyplot as plt\n",
        "import numpy as np\n",
        "\n",
        "!pip install mglearn \n",
        "!pip install --upgrade joblib==1.1.0\n",
        "import mglearn as mg"
      ],
      "metadata": {
        "colab": {
          "base_uri": "https://localhost:8080/"
        },
        "id": "20_BMu0syuyM",
        "outputId": "6b3b100e-3566-424e-8806-b62ba7c3ca9d"
      },
      "execution_count": null,
      "outputs": [
        {
          "output_type": "stream",
          "name": "stdout",
          "text": [
            "Looking in indexes: https://pypi.org/simple, https://us-python.pkg.dev/colab-wheels/public/simple/\n",
            "Requirement already satisfied: mglearn in /usr/local/lib/python3.7/dist-packages (0.1.9)\n",
            "Requirement already satisfied: joblib in /usr/local/lib/python3.7/dist-packages (from mglearn) (1.1.0)\n",
            "Requirement already satisfied: pandas in /usr/local/lib/python3.7/dist-packages (from mglearn) (1.3.5)\n",
            "Requirement already satisfied: numpy in /usr/local/lib/python3.7/dist-packages (from mglearn) (1.21.6)\n",
            "Requirement already satisfied: cycler in /usr/local/lib/python3.7/dist-packages (from mglearn) (0.11.0)\n",
            "Requirement already satisfied: matplotlib in /usr/local/lib/python3.7/dist-packages (from mglearn) (3.2.2)\n",
            "Requirement already satisfied: scikit-learn in /usr/local/lib/python3.7/dist-packages (from mglearn) (1.0.2)\n",
            "Requirement already satisfied: pillow in /usr/local/lib/python3.7/dist-packages (from mglearn) (7.1.2)\n",
            "Requirement already satisfied: imageio in /usr/local/lib/python3.7/dist-packages (from mglearn) (2.9.0)\n",
            "Requirement already satisfied: pyparsing!=2.0.4,!=2.1.2,!=2.1.6,>=2.0.1 in /usr/local/lib/python3.7/dist-packages (from matplotlib->mglearn) (3.0.9)\n",
            "Requirement already satisfied: python-dateutil>=2.1 in /usr/local/lib/python3.7/dist-packages (from matplotlib->mglearn) (2.8.2)\n",
            "Requirement already satisfied: kiwisolver>=1.0.1 in /usr/local/lib/python3.7/dist-packages (from matplotlib->mglearn) (1.4.4)\n",
            "Requirement already satisfied: typing-extensions in /usr/local/lib/python3.7/dist-packages (from kiwisolver>=1.0.1->matplotlib->mglearn) (4.1.1)\n",
            "Requirement already satisfied: six>=1.5 in /usr/local/lib/python3.7/dist-packages (from python-dateutil>=2.1->matplotlib->mglearn) (1.15.0)\n",
            "Requirement already satisfied: pytz>=2017.3 in /usr/local/lib/python3.7/dist-packages (from pandas->mglearn) (2022.6)\n",
            "Requirement already satisfied: scipy>=1.1.0 in /usr/local/lib/python3.7/dist-packages (from scikit-learn->mglearn) (1.7.3)\n",
            "Requirement already satisfied: threadpoolctl>=2.0.0 in /usr/local/lib/python3.7/dist-packages (from scikit-learn->mglearn) (3.1.0)\n",
            "Looking in indexes: https://pypi.org/simple, https://us-python.pkg.dev/colab-wheels/public/simple/\n",
            "Requirement already satisfied: joblib==1.1.0 in /usr/local/lib/python3.7/dist-packages (1.1.0)\n"
          ]
        }
      ]
    },
    {
      "cell_type": "markdown",
      "source": [
        "데이터 불러오기 및 데이터 정보 확인"
      ],
      "metadata": {
        "id": "Ao8ZPeQZQzqo"
      }
    },
    {
      "cell_type": "code",
      "source": [
        "from google.colab import drive\n",
        "drive.mount('/content/drive')\n",
        "health = pd.read_csv(\"/content/drive/My Drive/BigMining/health_data.csv\", index_col='가입자일련번호')\n",
        "\n",
        "print(health.columns)\n",
        "display(health.info())\n",
        "display(health.head()) "
      ],
      "metadata": {
        "colab": {
          "base_uri": "https://localhost:8080/",
          "height": 1000
        },
        "id": "QCxQ_jAxyrOL",
        "outputId": "a4562e3d-12a1-4ac6-ea52-38ddfc9ae4e9"
      },
      "execution_count": null,
      "outputs": [
        {
          "output_type": "stream",
          "name": "stdout",
          "text": [
            "Drive already mounted at /content/drive; to attempt to forcibly remount, call drive.mount(\"/content/drive\", force_remount=True).\n",
            "Index(['성별코드', '연령대코드(5세단위)', '신장(5Cm단위)', '체중(5Kg 단위)', '허리둘레', '시력(좌)',\n",
            "       '시력(우)', '청력(좌)', '청력(우)', '수축기혈압', '이완기혈압', '총콜레스테롤', '트리글리세라이드',\n",
            "       'HDL콜레스테롤', 'LDL콜레스테롤', '혈색소', '요단백', '혈청크레아티닌', '(혈청지오티)AST',\n",
            "       '(혈청지오티)ALT', '감마지티피', '음주여부', '흡연상태', '식전혈당(공복혈당)'],\n",
            "      dtype='object')\n",
            "<class 'pandas.core.frame.DataFrame'>\n",
            "Int64Index: 10000 entries, 1 to 10000\n",
            "Data columns (total 24 columns):\n",
            " #   Column       Non-Null Count  Dtype  \n",
            "---  ------       --------------  -----  \n",
            " 0   성별코드         10000 non-null  object \n",
            " 1   연령대코드(5세단위)  10000 non-null  int64  \n",
            " 2   신장(5Cm단위)    10000 non-null  int64  \n",
            " 3   체중(5Kg 단위)   10000 non-null  int64  \n",
            " 4   허리둘레         10000 non-null  float64\n",
            " 5   시력(좌)        10000 non-null  float64\n",
            " 6   시력(우)        10000 non-null  float64\n",
            " 7   청력(좌)        10000 non-null  int64  \n",
            " 8   청력(우)        10000 non-null  int64  \n",
            " 9   수축기혈압        9912 non-null   float64\n",
            " 10  이완기혈압        9912 non-null   float64\n",
            " 11  총콜레스테롤       4044 non-null   float64\n",
            " 12  트리글리세라이드     4044 non-null   float64\n",
            " 13  HDL콜레스테롤     4044 non-null   float64\n",
            " 14  LDL콜레스테롤     3977 non-null   float64\n",
            " 15  혈색소          9912 non-null   float64\n",
            " 16  요단백          9861 non-null   float64\n",
            " 17  혈청크레아티닌      9912 non-null   float64\n",
            " 18  (혈청지오티)AST   9912 non-null   float64\n",
            " 19  (혈청지오티)ALT   9912 non-null   float64\n",
            " 20  감마지티피        9912 non-null   float64\n",
            " 21  음주여부         9999 non-null   object \n",
            " 22  흡연상태         9998 non-null   object \n",
            " 23  식전혈당(공복혈당)   9912 non-null   float64\n",
            "dtypes: float64(16), int64(5), object(3)\n",
            "memory usage: 1.9+ MB\n"
          ]
        },
        {
          "output_type": "display_data",
          "data": {
            "text/plain": [
              "None"
            ]
          },
          "metadata": {}
        },
        {
          "output_type": "display_data",
          "data": {
            "text/plain": [
              "        성별코드  연령대코드(5세단위)  신장(5Cm단위)  체중(5Kg 단위)  허리둘레  시력(좌)  시력(우)  청력(좌)  \\\n",
              "가입자일련번호                                                                       \n",
              "1          M            9        165          60  72.1    1.2    1.5      1   \n",
              "2          F           13        150          65  81.0    0.8    0.8      1   \n",
              "3          F           12        155          55  70.0    0.6    0.7      1   \n",
              "4          M           13        160          70  90.8    1.0    1.0      1   \n",
              "5          F           12        155          50  75.2    1.5    1.2      1   \n",
              "\n",
              "         청력(우)  수축기혈압  ...  LDL콜레스테롤   혈색소  요단백  혈청크레아티닌  (혈청지오티)AST  \\\n",
              "가입자일련번호                ...                                             \n",
              "1            1  127.0  ...     118.0  15.0  1.0      1.1        21.0   \n",
              "2            1  110.0  ...       NaN  12.7  1.0      0.5        18.0   \n",
              "3            1  123.0  ...       NaN  12.8  1.0      0.7        27.0   \n",
              "4            2  134.0  ...       NaN  16.4  1.0      1.2        65.0   \n",
              "5            1  144.0  ...     133.0  12.4  1.0      0.7        18.0   \n",
              "\n",
              "         (혈청지오티)ALT  감마지티피  음주여부  흡연상태  식전혈당(공복혈당)  \n",
              "가입자일련번호                                             \n",
              "1              27.0   21.0    No    No        90.0  \n",
              "2              15.0   15.0    No    No        87.0  \n",
              "3              25.0    7.0    No    No       102.0  \n",
              "4              97.0   72.0    No    No       146.0  \n",
              "5              17.0   14.0    No    No       110.0  \n",
              "\n",
              "[5 rows x 24 columns]"
            ],
            "text/html": [
              "\n",
              "  <div id=\"df-83cbd57a-3828-4a4a-9a66-7d5c1f371b18\">\n",
              "    <div class=\"colab-df-container\">\n",
              "      <div>\n",
              "<style scoped>\n",
              "    .dataframe tbody tr th:only-of-type {\n",
              "        vertical-align: middle;\n",
              "    }\n",
              "\n",
              "    .dataframe tbody tr th {\n",
              "        vertical-align: top;\n",
              "    }\n",
              "\n",
              "    .dataframe thead th {\n",
              "        text-align: right;\n",
              "    }\n",
              "</style>\n",
              "<table border=\"1\" class=\"dataframe\">\n",
              "  <thead>\n",
              "    <tr style=\"text-align: right;\">\n",
              "      <th></th>\n",
              "      <th>성별코드</th>\n",
              "      <th>연령대코드(5세단위)</th>\n",
              "      <th>신장(5Cm단위)</th>\n",
              "      <th>체중(5Kg 단위)</th>\n",
              "      <th>허리둘레</th>\n",
              "      <th>시력(좌)</th>\n",
              "      <th>시력(우)</th>\n",
              "      <th>청력(좌)</th>\n",
              "      <th>청력(우)</th>\n",
              "      <th>수축기혈압</th>\n",
              "      <th>...</th>\n",
              "      <th>LDL콜레스테롤</th>\n",
              "      <th>혈색소</th>\n",
              "      <th>요단백</th>\n",
              "      <th>혈청크레아티닌</th>\n",
              "      <th>(혈청지오티)AST</th>\n",
              "      <th>(혈청지오티)ALT</th>\n",
              "      <th>감마지티피</th>\n",
              "      <th>음주여부</th>\n",
              "      <th>흡연상태</th>\n",
              "      <th>식전혈당(공복혈당)</th>\n",
              "    </tr>\n",
              "    <tr>\n",
              "      <th>가입자일련번호</th>\n",
              "      <th></th>\n",
              "      <th></th>\n",
              "      <th></th>\n",
              "      <th></th>\n",
              "      <th></th>\n",
              "      <th></th>\n",
              "      <th></th>\n",
              "      <th></th>\n",
              "      <th></th>\n",
              "      <th></th>\n",
              "      <th></th>\n",
              "      <th></th>\n",
              "      <th></th>\n",
              "      <th></th>\n",
              "      <th></th>\n",
              "      <th></th>\n",
              "      <th></th>\n",
              "      <th></th>\n",
              "      <th></th>\n",
              "      <th></th>\n",
              "      <th></th>\n",
              "    </tr>\n",
              "  </thead>\n",
              "  <tbody>\n",
              "    <tr>\n",
              "      <th>1</th>\n",
              "      <td>M</td>\n",
              "      <td>9</td>\n",
              "      <td>165</td>\n",
              "      <td>60</td>\n",
              "      <td>72.1</td>\n",
              "      <td>1.2</td>\n",
              "      <td>1.5</td>\n",
              "      <td>1</td>\n",
              "      <td>1</td>\n",
              "      <td>127.0</td>\n",
              "      <td>...</td>\n",
              "      <td>118.0</td>\n",
              "      <td>15.0</td>\n",
              "      <td>1.0</td>\n",
              "      <td>1.1</td>\n",
              "      <td>21.0</td>\n",
              "      <td>27.0</td>\n",
              "      <td>21.0</td>\n",
              "      <td>No</td>\n",
              "      <td>No</td>\n",
              "      <td>90.0</td>\n",
              "    </tr>\n",
              "    <tr>\n",
              "      <th>2</th>\n",
              "      <td>F</td>\n",
              "      <td>13</td>\n",
              "      <td>150</td>\n",
              "      <td>65</td>\n",
              "      <td>81.0</td>\n",
              "      <td>0.8</td>\n",
              "      <td>0.8</td>\n",
              "      <td>1</td>\n",
              "      <td>1</td>\n",
              "      <td>110.0</td>\n",
              "      <td>...</td>\n",
              "      <td>NaN</td>\n",
              "      <td>12.7</td>\n",
              "      <td>1.0</td>\n",
              "      <td>0.5</td>\n",
              "      <td>18.0</td>\n",
              "      <td>15.0</td>\n",
              "      <td>15.0</td>\n",
              "      <td>No</td>\n",
              "      <td>No</td>\n",
              "      <td>87.0</td>\n",
              "    </tr>\n",
              "    <tr>\n",
              "      <th>3</th>\n",
              "      <td>F</td>\n",
              "      <td>12</td>\n",
              "      <td>155</td>\n",
              "      <td>55</td>\n",
              "      <td>70.0</td>\n",
              "      <td>0.6</td>\n",
              "      <td>0.7</td>\n",
              "      <td>1</td>\n",
              "      <td>1</td>\n",
              "      <td>123.0</td>\n",
              "      <td>...</td>\n",
              "      <td>NaN</td>\n",
              "      <td>12.8</td>\n",
              "      <td>1.0</td>\n",
              "      <td>0.7</td>\n",
              "      <td>27.0</td>\n",
              "      <td>25.0</td>\n",
              "      <td>7.0</td>\n",
              "      <td>No</td>\n",
              "      <td>No</td>\n",
              "      <td>102.0</td>\n",
              "    </tr>\n",
              "    <tr>\n",
              "      <th>4</th>\n",
              "      <td>M</td>\n",
              "      <td>13</td>\n",
              "      <td>160</td>\n",
              "      <td>70</td>\n",
              "      <td>90.8</td>\n",
              "      <td>1.0</td>\n",
              "      <td>1.0</td>\n",
              "      <td>1</td>\n",
              "      <td>2</td>\n",
              "      <td>134.0</td>\n",
              "      <td>...</td>\n",
              "      <td>NaN</td>\n",
              "      <td>16.4</td>\n",
              "      <td>1.0</td>\n",
              "      <td>1.2</td>\n",
              "      <td>65.0</td>\n",
              "      <td>97.0</td>\n",
              "      <td>72.0</td>\n",
              "      <td>No</td>\n",
              "      <td>No</td>\n",
              "      <td>146.0</td>\n",
              "    </tr>\n",
              "    <tr>\n",
              "      <th>5</th>\n",
              "      <td>F</td>\n",
              "      <td>12</td>\n",
              "      <td>155</td>\n",
              "      <td>50</td>\n",
              "      <td>75.2</td>\n",
              "      <td>1.5</td>\n",
              "      <td>1.2</td>\n",
              "      <td>1</td>\n",
              "      <td>1</td>\n",
              "      <td>144.0</td>\n",
              "      <td>...</td>\n",
              "      <td>133.0</td>\n",
              "      <td>12.4</td>\n",
              "      <td>1.0</td>\n",
              "      <td>0.7</td>\n",
              "      <td>18.0</td>\n",
              "      <td>17.0</td>\n",
              "      <td>14.0</td>\n",
              "      <td>No</td>\n",
              "      <td>No</td>\n",
              "      <td>110.0</td>\n",
              "    </tr>\n",
              "  </tbody>\n",
              "</table>\n",
              "<p>5 rows × 24 columns</p>\n",
              "</div>\n",
              "      <button class=\"colab-df-convert\" onclick=\"convertToInteractive('df-83cbd57a-3828-4a4a-9a66-7d5c1f371b18')\"\n",
              "              title=\"Convert this dataframe to an interactive table.\"\n",
              "              style=\"display:none;\">\n",
              "        \n",
              "  <svg xmlns=\"http://www.w3.org/2000/svg\" height=\"24px\"viewBox=\"0 0 24 24\"\n",
              "       width=\"24px\">\n",
              "    <path d=\"M0 0h24v24H0V0z\" fill=\"none\"/>\n",
              "    <path d=\"M18.56 5.44l.94 2.06.94-2.06 2.06-.94-2.06-.94-.94-2.06-.94 2.06-2.06.94zm-11 1L8.5 8.5l.94-2.06 2.06-.94-2.06-.94L8.5 2.5l-.94 2.06-2.06.94zm10 10l.94 2.06.94-2.06 2.06-.94-2.06-.94-.94-2.06-.94 2.06-2.06.94z\"/><path d=\"M17.41 7.96l-1.37-1.37c-.4-.4-.92-.59-1.43-.59-.52 0-1.04.2-1.43.59L10.3 9.45l-7.72 7.72c-.78.78-.78 2.05 0 2.83L4 21.41c.39.39.9.59 1.41.59.51 0 1.02-.2 1.41-.59l7.78-7.78 2.81-2.81c.8-.78.8-2.07 0-2.86zM5.41 20L4 18.59l7.72-7.72 1.47 1.35L5.41 20z\"/>\n",
              "  </svg>\n",
              "      </button>\n",
              "      \n",
              "  <style>\n",
              "    .colab-df-container {\n",
              "      display:flex;\n",
              "      flex-wrap:wrap;\n",
              "      gap: 12px;\n",
              "    }\n",
              "\n",
              "    .colab-df-convert {\n",
              "      background-color: #E8F0FE;\n",
              "      border: none;\n",
              "      border-radius: 50%;\n",
              "      cursor: pointer;\n",
              "      display: none;\n",
              "      fill: #1967D2;\n",
              "      height: 32px;\n",
              "      padding: 0 0 0 0;\n",
              "      width: 32px;\n",
              "    }\n",
              "\n",
              "    .colab-df-convert:hover {\n",
              "      background-color: #E2EBFA;\n",
              "      box-shadow: 0px 1px 2px rgba(60, 64, 67, 0.3), 0px 1px 3px 1px rgba(60, 64, 67, 0.15);\n",
              "      fill: #174EA6;\n",
              "    }\n",
              "\n",
              "    [theme=dark] .colab-df-convert {\n",
              "      background-color: #3B4455;\n",
              "      fill: #D2E3FC;\n",
              "    }\n",
              "\n",
              "    [theme=dark] .colab-df-convert:hover {\n",
              "      background-color: #434B5C;\n",
              "      box-shadow: 0px 1px 3px 1px rgba(0, 0, 0, 0.15);\n",
              "      filter: drop-shadow(0px 1px 2px rgba(0, 0, 0, 0.3));\n",
              "      fill: #FFFFFF;\n",
              "    }\n",
              "  </style>\n",
              "\n",
              "      <script>\n",
              "        const buttonEl =\n",
              "          document.querySelector('#df-83cbd57a-3828-4a4a-9a66-7d5c1f371b18 button.colab-df-convert');\n",
              "        buttonEl.style.display =\n",
              "          google.colab.kernel.accessAllowed ? 'block' : 'none';\n",
              "\n",
              "        async function convertToInteractive(key) {\n",
              "          const element = document.querySelector('#df-83cbd57a-3828-4a4a-9a66-7d5c1f371b18');\n",
              "          const dataTable =\n",
              "            await google.colab.kernel.invokeFunction('convertToInteractive',\n",
              "                                                     [key], {});\n",
              "          if (!dataTable) return;\n",
              "\n",
              "          const docLinkHtml = 'Like what you see? Visit the ' +\n",
              "            '<a target=\"_blank\" href=https://colab.research.google.com/notebooks/data_table.ipynb>data table notebook</a>'\n",
              "            + ' to learn more about interactive tables.';\n",
              "          element.innerHTML = '';\n",
              "          dataTable['output_type'] = 'display_data';\n",
              "          await google.colab.output.renderOutput(dataTable, element);\n",
              "          const docLink = document.createElement('div');\n",
              "          docLink.innerHTML = docLinkHtml;\n",
              "          element.appendChild(docLink);\n",
              "        }\n",
              "      </script>\n",
              "    </div>\n",
              "  </div>\n",
              "  "
            ]
          },
          "metadata": {}
        }
      ]
    },
    {
      "cell_type": "markdown",
      "source": [
        "데이터 전처리\n",
        "\n",
        "\n",
        "*   엑셀에서 기준년도, 시도코드, 구강검진 수검여부, 치아우식증유무, 치석, 데이터공개일자 변수 삭제\n",
        "\n",
        "*   엑셀에서 종속변수가 될 식전혈당(공복혈당) 변수 맨 오른쪽(23번째)으로 이동\n"
      ],
      "metadata": {
        "id": "hsY03sj9Q6Mb"
      }
    },
    {
      "cell_type": "code",
      "source": [
        "# 결측치가 포함된 행 제거\n",
        "health = health.dropna()\n",
        "display(health.info())\n",
        "display(health.head())"
      ],
      "metadata": {
        "colab": {
          "base_uri": "https://localhost:8080/",
          "height": 1000
        },
        "id": "go-65YDk1a1y",
        "outputId": "707dd6db-6f1f-4fe7-da0c-0e1846fa0e64"
      },
      "execution_count": null,
      "outputs": [
        {
          "output_type": "stream",
          "name": "stdout",
          "text": [
            "<class 'pandas.core.frame.DataFrame'>\n",
            "Int64Index: 3955 entries, 1 to 10000\n",
            "Data columns (total 24 columns):\n",
            " #   Column       Non-Null Count  Dtype  \n",
            "---  ------       --------------  -----  \n",
            " 0   성별코드         3955 non-null   object \n",
            " 1   연령대코드(5세단위)  3955 non-null   int64  \n",
            " 2   신장(5Cm단위)    3955 non-null   int64  \n",
            " 3   체중(5Kg 단위)   3955 non-null   int64  \n",
            " 4   허리둘레         3955 non-null   float64\n",
            " 5   시력(좌)        3955 non-null   float64\n",
            " 6   시력(우)        3955 non-null   float64\n",
            " 7   청력(좌)        3955 non-null   int64  \n",
            " 8   청력(우)        3955 non-null   int64  \n",
            " 9   수축기혈압        3955 non-null   float64\n",
            " 10  이완기혈압        3955 non-null   float64\n",
            " 11  총콜레스테롤       3955 non-null   float64\n",
            " 12  트리글리세라이드     3955 non-null   float64\n",
            " 13  HDL콜레스테롤     3955 non-null   float64\n",
            " 14  LDL콜레스테롤     3955 non-null   float64\n",
            " 15  혈색소          3955 non-null   float64\n",
            " 16  요단백          3955 non-null   float64\n",
            " 17  혈청크레아티닌      3955 non-null   float64\n",
            " 18  (혈청지오티)AST   3955 non-null   float64\n",
            " 19  (혈청지오티)ALT   3955 non-null   float64\n",
            " 20  감마지티피        3955 non-null   float64\n",
            " 21  음주여부         3955 non-null   object \n",
            " 22  흡연상태         3955 non-null   object \n",
            " 23  식전혈당(공복혈당)   3955 non-null   float64\n",
            "dtypes: float64(16), int64(5), object(3)\n",
            "memory usage: 772.5+ KB\n"
          ]
        },
        {
          "output_type": "display_data",
          "data": {
            "text/plain": [
              "None"
            ]
          },
          "metadata": {}
        },
        {
          "output_type": "display_data",
          "data": {
            "text/plain": [
              "        성별코드  연령대코드(5세단위)  신장(5Cm단위)  체중(5Kg 단위)  허리둘레  시력(좌)  시력(우)  청력(좌)  \\\n",
              "가입자일련번호                                                                       \n",
              "1          M            9        165          60  72.1    1.2    1.5      1   \n",
              "5          F           12        155          50  75.2    1.5    1.2      1   \n",
              "6          M            9        185          85  94.0    1.2    1.2      1   \n",
              "7          M            9        165          80  93.0    0.8    0.7      1   \n",
              "9          F           17        150          50  82.0    0.4    0.5      2   \n",
              "\n",
              "         청력(우)  수축기혈압  ...  LDL콜레스테롤   혈색소  요단백  혈청크레아티닌  (혈청지오티)AST  \\\n",
              "가입자일련번호                ...                                             \n",
              "1            1  127.0  ...     118.0  15.0  1.0      1.1        21.0   \n",
              "5            1  144.0  ...     133.0  12.4  1.0      0.7        18.0   \n",
              "6            1  114.0  ...     147.0  16.4  1.0      1.1        25.0   \n",
              "7            2  112.0  ...      40.0  15.7  1.0      0.7        18.0   \n",
              "9            2  136.0  ...     101.0  13.3  1.0      0.7        42.0   \n",
              "\n",
              "         (혈청지오티)ALT  감마지티피  음주여부  흡연상태  식전혈당(공복혈당)  \n",
              "가입자일련번호                                             \n",
              "1              27.0   21.0    No    No        90.0  \n",
              "5              17.0   14.0    No    No       110.0  \n",
              "6              32.0   26.0   Yes   Yes        86.0  \n",
              "7              20.0   35.0   Yes   Yes       250.0  \n",
              "9              48.0   39.0    No    No       104.0  \n",
              "\n",
              "[5 rows x 24 columns]"
            ],
            "text/html": [
              "\n",
              "  <div id=\"df-54fdf3f1-d9bd-4103-b5d0-ef04bec3db8e\">\n",
              "    <div class=\"colab-df-container\">\n",
              "      <div>\n",
              "<style scoped>\n",
              "    .dataframe tbody tr th:only-of-type {\n",
              "        vertical-align: middle;\n",
              "    }\n",
              "\n",
              "    .dataframe tbody tr th {\n",
              "        vertical-align: top;\n",
              "    }\n",
              "\n",
              "    .dataframe thead th {\n",
              "        text-align: right;\n",
              "    }\n",
              "</style>\n",
              "<table border=\"1\" class=\"dataframe\">\n",
              "  <thead>\n",
              "    <tr style=\"text-align: right;\">\n",
              "      <th></th>\n",
              "      <th>성별코드</th>\n",
              "      <th>연령대코드(5세단위)</th>\n",
              "      <th>신장(5Cm단위)</th>\n",
              "      <th>체중(5Kg 단위)</th>\n",
              "      <th>허리둘레</th>\n",
              "      <th>시력(좌)</th>\n",
              "      <th>시력(우)</th>\n",
              "      <th>청력(좌)</th>\n",
              "      <th>청력(우)</th>\n",
              "      <th>수축기혈압</th>\n",
              "      <th>...</th>\n",
              "      <th>LDL콜레스테롤</th>\n",
              "      <th>혈색소</th>\n",
              "      <th>요단백</th>\n",
              "      <th>혈청크레아티닌</th>\n",
              "      <th>(혈청지오티)AST</th>\n",
              "      <th>(혈청지오티)ALT</th>\n",
              "      <th>감마지티피</th>\n",
              "      <th>음주여부</th>\n",
              "      <th>흡연상태</th>\n",
              "      <th>식전혈당(공복혈당)</th>\n",
              "    </tr>\n",
              "    <tr>\n",
              "      <th>가입자일련번호</th>\n",
              "      <th></th>\n",
              "      <th></th>\n",
              "      <th></th>\n",
              "      <th></th>\n",
              "      <th></th>\n",
              "      <th></th>\n",
              "      <th></th>\n",
              "      <th></th>\n",
              "      <th></th>\n",
              "      <th></th>\n",
              "      <th></th>\n",
              "      <th></th>\n",
              "      <th></th>\n",
              "      <th></th>\n",
              "      <th></th>\n",
              "      <th></th>\n",
              "      <th></th>\n",
              "      <th></th>\n",
              "      <th></th>\n",
              "      <th></th>\n",
              "      <th></th>\n",
              "    </tr>\n",
              "  </thead>\n",
              "  <tbody>\n",
              "    <tr>\n",
              "      <th>1</th>\n",
              "      <td>M</td>\n",
              "      <td>9</td>\n",
              "      <td>165</td>\n",
              "      <td>60</td>\n",
              "      <td>72.1</td>\n",
              "      <td>1.2</td>\n",
              "      <td>1.5</td>\n",
              "      <td>1</td>\n",
              "      <td>1</td>\n",
              "      <td>127.0</td>\n",
              "      <td>...</td>\n",
              "      <td>118.0</td>\n",
              "      <td>15.0</td>\n",
              "      <td>1.0</td>\n",
              "      <td>1.1</td>\n",
              "      <td>21.0</td>\n",
              "      <td>27.0</td>\n",
              "      <td>21.0</td>\n",
              "      <td>No</td>\n",
              "      <td>No</td>\n",
              "      <td>90.0</td>\n",
              "    </tr>\n",
              "    <tr>\n",
              "      <th>5</th>\n",
              "      <td>F</td>\n",
              "      <td>12</td>\n",
              "      <td>155</td>\n",
              "      <td>50</td>\n",
              "      <td>75.2</td>\n",
              "      <td>1.5</td>\n",
              "      <td>1.2</td>\n",
              "      <td>1</td>\n",
              "      <td>1</td>\n",
              "      <td>144.0</td>\n",
              "      <td>...</td>\n",
              "      <td>133.0</td>\n",
              "      <td>12.4</td>\n",
              "      <td>1.0</td>\n",
              "      <td>0.7</td>\n",
              "      <td>18.0</td>\n",
              "      <td>17.0</td>\n",
              "      <td>14.0</td>\n",
              "      <td>No</td>\n",
              "      <td>No</td>\n",
              "      <td>110.0</td>\n",
              "    </tr>\n",
              "    <tr>\n",
              "      <th>6</th>\n",
              "      <td>M</td>\n",
              "      <td>9</td>\n",
              "      <td>185</td>\n",
              "      <td>85</td>\n",
              "      <td>94.0</td>\n",
              "      <td>1.2</td>\n",
              "      <td>1.2</td>\n",
              "      <td>1</td>\n",
              "      <td>1</td>\n",
              "      <td>114.0</td>\n",
              "      <td>...</td>\n",
              "      <td>147.0</td>\n",
              "      <td>16.4</td>\n",
              "      <td>1.0</td>\n",
              "      <td>1.1</td>\n",
              "      <td>25.0</td>\n",
              "      <td>32.0</td>\n",
              "      <td>26.0</td>\n",
              "      <td>Yes</td>\n",
              "      <td>Yes</td>\n",
              "      <td>86.0</td>\n",
              "    </tr>\n",
              "    <tr>\n",
              "      <th>7</th>\n",
              "      <td>M</td>\n",
              "      <td>9</td>\n",
              "      <td>165</td>\n",
              "      <td>80</td>\n",
              "      <td>93.0</td>\n",
              "      <td>0.8</td>\n",
              "      <td>0.7</td>\n",
              "      <td>1</td>\n",
              "      <td>2</td>\n",
              "      <td>112.0</td>\n",
              "      <td>...</td>\n",
              "      <td>40.0</td>\n",
              "      <td>15.7</td>\n",
              "      <td>1.0</td>\n",
              "      <td>0.7</td>\n",
              "      <td>18.0</td>\n",
              "      <td>20.0</td>\n",
              "      <td>35.0</td>\n",
              "      <td>Yes</td>\n",
              "      <td>Yes</td>\n",
              "      <td>250.0</td>\n",
              "    </tr>\n",
              "    <tr>\n",
              "      <th>9</th>\n",
              "      <td>F</td>\n",
              "      <td>17</td>\n",
              "      <td>150</td>\n",
              "      <td>50</td>\n",
              "      <td>82.0</td>\n",
              "      <td>0.4</td>\n",
              "      <td>0.5</td>\n",
              "      <td>2</td>\n",
              "      <td>2</td>\n",
              "      <td>136.0</td>\n",
              "      <td>...</td>\n",
              "      <td>101.0</td>\n",
              "      <td>13.3</td>\n",
              "      <td>1.0</td>\n",
              "      <td>0.7</td>\n",
              "      <td>42.0</td>\n",
              "      <td>48.0</td>\n",
              "      <td>39.0</td>\n",
              "      <td>No</td>\n",
              "      <td>No</td>\n",
              "      <td>104.0</td>\n",
              "    </tr>\n",
              "  </tbody>\n",
              "</table>\n",
              "<p>5 rows × 24 columns</p>\n",
              "</div>\n",
              "      <button class=\"colab-df-convert\" onclick=\"convertToInteractive('df-54fdf3f1-d9bd-4103-b5d0-ef04bec3db8e')\"\n",
              "              title=\"Convert this dataframe to an interactive table.\"\n",
              "              style=\"display:none;\">\n",
              "        \n",
              "  <svg xmlns=\"http://www.w3.org/2000/svg\" height=\"24px\"viewBox=\"0 0 24 24\"\n",
              "       width=\"24px\">\n",
              "    <path d=\"M0 0h24v24H0V0z\" fill=\"none\"/>\n",
              "    <path d=\"M18.56 5.44l.94 2.06.94-2.06 2.06-.94-2.06-.94-.94-2.06-.94 2.06-2.06.94zm-11 1L8.5 8.5l.94-2.06 2.06-.94-2.06-.94L8.5 2.5l-.94 2.06-2.06.94zm10 10l.94 2.06.94-2.06 2.06-.94-2.06-.94-.94-2.06-.94 2.06-2.06.94z\"/><path d=\"M17.41 7.96l-1.37-1.37c-.4-.4-.92-.59-1.43-.59-.52 0-1.04.2-1.43.59L10.3 9.45l-7.72 7.72c-.78.78-.78 2.05 0 2.83L4 21.41c.39.39.9.59 1.41.59.51 0 1.02-.2 1.41-.59l7.78-7.78 2.81-2.81c.8-.78.8-2.07 0-2.86zM5.41 20L4 18.59l7.72-7.72 1.47 1.35L5.41 20z\"/>\n",
              "  </svg>\n",
              "      </button>\n",
              "      \n",
              "  <style>\n",
              "    .colab-df-container {\n",
              "      display:flex;\n",
              "      flex-wrap:wrap;\n",
              "      gap: 12px;\n",
              "    }\n",
              "\n",
              "    .colab-df-convert {\n",
              "      background-color: #E8F0FE;\n",
              "      border: none;\n",
              "      border-radius: 50%;\n",
              "      cursor: pointer;\n",
              "      display: none;\n",
              "      fill: #1967D2;\n",
              "      height: 32px;\n",
              "      padding: 0 0 0 0;\n",
              "      width: 32px;\n",
              "    }\n",
              "\n",
              "    .colab-df-convert:hover {\n",
              "      background-color: #E2EBFA;\n",
              "      box-shadow: 0px 1px 2px rgba(60, 64, 67, 0.3), 0px 1px 3px 1px rgba(60, 64, 67, 0.15);\n",
              "      fill: #174EA6;\n",
              "    }\n",
              "\n",
              "    [theme=dark] .colab-df-convert {\n",
              "      background-color: #3B4455;\n",
              "      fill: #D2E3FC;\n",
              "    }\n",
              "\n",
              "    [theme=dark] .colab-df-convert:hover {\n",
              "      background-color: #434B5C;\n",
              "      box-shadow: 0px 1px 3px 1px rgba(0, 0, 0, 0.15);\n",
              "      filter: drop-shadow(0px 1px 2px rgba(0, 0, 0, 0.3));\n",
              "      fill: #FFFFFF;\n",
              "    }\n",
              "  </style>\n",
              "\n",
              "      <script>\n",
              "        const buttonEl =\n",
              "          document.querySelector('#df-54fdf3f1-d9bd-4103-b5d0-ef04bec3db8e button.colab-df-convert');\n",
              "        buttonEl.style.display =\n",
              "          google.colab.kernel.accessAllowed ? 'block' : 'none';\n",
              "\n",
              "        async function convertToInteractive(key) {\n",
              "          const element = document.querySelector('#df-54fdf3f1-d9bd-4103-b5d0-ef04bec3db8e');\n",
              "          const dataTable =\n",
              "            await google.colab.kernel.invokeFunction('convertToInteractive',\n",
              "                                                     [key], {});\n",
              "          if (!dataTable) return;\n",
              "\n",
              "          const docLinkHtml = 'Like what you see? Visit the ' +\n",
              "            '<a target=\"_blank\" href=https://colab.research.google.com/notebooks/data_table.ipynb>data table notebook</a>'\n",
              "            + ' to learn more about interactive tables.';\n",
              "          element.innerHTML = '';\n",
              "          dataTable['output_type'] = 'display_data';\n",
              "          await google.colab.output.renderOutput(dataTable, element);\n",
              "          const docLink = document.createElement('div');\n",
              "          docLink.innerHTML = docLinkHtml;\n",
              "          element.appendChild(docLink);\n",
              "        }\n",
              "      </script>\n",
              "    </div>\n",
              "  </div>\n",
              "  "
            ]
          },
          "metadata": {}
        }
      ]
    },
    {
      "cell_type": "markdown",
      "source": [
        "\n",
        "\n",
        "*   범주형 변수를 수치형 변수로 변경\n",
        "\n",
        "\n"
      ],
      "metadata": {
        "id": "wlO9rYAvDNiz"
      }
    },
    {
      "cell_type": "code",
      "execution_count": null,
      "metadata": {
        "id": "SDu-q0Baylvw"
      },
      "outputs": [],
      "source": [
        "from sklearn.preprocessing import LabelEncoder\n",
        "encoder = LabelEncoder()\n",
        "encoder.fit(health.음주여부)\n",
        "health['음주여부'] = encoder.transform(health.음주여부)\n",
        "\n",
        "encoder_1 = LabelEncoder()\n",
        "encoder_1.fit(health.흡연상태)\n",
        "health['흡연상태'] = encoder_1.transform(health.흡연상태) \n",
        "\n",
        "health['성별코드'] = health['성별코드'].apply(lambda x : 1 if x =='남자' else 0)"
      ]
    },
    {
      "cell_type": "markdown",
      "source": [
        "\n",
        "\n",
        "*   종속변수인 식전혈당(공복혈당) 변수를 범주형 이진 클래스로 변경\n",
        "\n"
      ],
      "metadata": {
        "id": "-TYp8Pw5DUId"
      }
    },
    {
      "cell_type": "code",
      "source": [
        "health['식전혈당(공복혈당)'] = health['식전혈당(공복혈당)'].apply(lambda x : 'NH' if x < 100 else 'H')"
      ],
      "metadata": {
        "id": "fu775KAKDU0Q"
      },
      "execution_count": null,
      "outputs": []
    },
    {
      "cell_type": "markdown",
      "source": [
        "# 1. 의사결정나무 모델"
      ],
      "metadata": {
        "id": "x6khhpXdWwRI"
      }
    },
    {
      "cell_type": "markdown",
      "source": [
        "종속변수, 독립변수 설정"
      ],
      "metadata": {
        "id": "KOoGnly_XHRr"
      }
    },
    {
      "cell_type": "code",
      "source": [
        "x = health.iloc[:, 0:23]\n",
        "y = health.iloc[:, 23]\n",
        "x.info()\n",
        "y.value_counts()   "
      ],
      "metadata": {
        "colab": {
          "base_uri": "https://localhost:8080/"
        },
        "id": "vzdXAzNz4Bb4",
        "outputId": "7c2eb20e-3135-400f-fd88-369f4c562a9a"
      },
      "execution_count": null,
      "outputs": [
        {
          "output_type": "stream",
          "name": "stdout",
          "text": [
            "<class 'pandas.core.frame.DataFrame'>\n",
            "Int64Index: 3955 entries, 1 to 10000\n",
            "Data columns (total 23 columns):\n",
            " #   Column       Non-Null Count  Dtype  \n",
            "---  ------       --------------  -----  \n",
            " 0   성별코드         3955 non-null   int64  \n",
            " 1   연령대코드(5세단위)  3955 non-null   int64  \n",
            " 2   신장(5Cm단위)    3955 non-null   int64  \n",
            " 3   체중(5Kg 단위)   3955 non-null   int64  \n",
            " 4   허리둘레         3955 non-null   float64\n",
            " 5   시력(좌)        3955 non-null   float64\n",
            " 6   시력(우)        3955 non-null   float64\n",
            " 7   청력(좌)        3955 non-null   int64  \n",
            " 8   청력(우)        3955 non-null   int64  \n",
            " 9   수축기혈압        3955 non-null   float64\n",
            " 10  이완기혈압        3955 non-null   float64\n",
            " 11  총콜레스테롤       3955 non-null   float64\n",
            " 12  트리글리세라이드     3955 non-null   float64\n",
            " 13  HDL콜레스테롤     3955 non-null   float64\n",
            " 14  LDL콜레스테롤     3955 non-null   float64\n",
            " 15  혈색소          3955 non-null   float64\n",
            " 16  요단백          3955 non-null   float64\n",
            " 17  혈청크레아티닌      3955 non-null   float64\n",
            " 18  (혈청지오티)AST   3955 non-null   float64\n",
            " 19  (혈청지오티)ALT   3955 non-null   float64\n",
            " 20  감마지티피        3955 non-null   float64\n",
            " 21  음주여부         3955 non-null   int64  \n",
            " 22  흡연상태         3955 non-null   int64  \n",
            "dtypes: float64(15), int64(8)\n",
            "memory usage: 741.6 KB\n"
          ]
        },
        {
          "output_type": "execute_result",
          "data": {
            "text/plain": [
              "NH    2100\n",
              "H     1855\n",
              "Name: 식전혈당(공복혈당), dtype: int64"
            ]
          },
          "metadata": {},
          "execution_count": 6
        }
      ]
    },
    {
      "cell_type": "markdown",
      "source": [
        "데이터셋을 학습(train)과 테스트(test) 세트로 분할"
      ],
      "metadata": {
        "id": "Ak07AIIoXVUc"
      }
    },
    {
      "cell_type": "code",
      "source": [
        "from sklearn.model_selection import train_test_split\n",
        "x_train, x_test, y_train, y_test  = train_test_split(x,y,test_size=0.25)\n",
        "from collections import Counter"
      ],
      "metadata": {
        "id": "SUeC9ujb0d__"
      },
      "execution_count": null,
      "outputs": []
    },
    {
      "cell_type": "code",
      "source": [
        "Counter(y_train)"
      ],
      "metadata": {
        "colab": {
          "base_uri": "https://localhost:8080/"
        },
        "id": "dHgASnQU5JAf",
        "outputId": "58145bd7-c445-4904-8306-e0d93e0c445e"
      },
      "execution_count": null,
      "outputs": [
        {
          "output_type": "execute_result",
          "data": {
            "text/plain": [
              "Counter({'NH': 1569, 'H': 1397})"
            ]
          },
          "metadata": {},
          "execution_count": 8
        }
      ]
    },
    {
      "cell_type": "code",
      "source": [
        "Counter(y_test)"
      ],
      "metadata": {
        "colab": {
          "base_uri": "https://localhost:8080/"
        },
        "id": "1hQ4edHg5KMV",
        "outputId": "60600b6c-b8c6-4e0a-bc2e-419aa28cece7"
      },
      "execution_count": null,
      "outputs": [
        {
          "output_type": "execute_result",
          "data": {
            "text/plain": [
              "Counter({'H': 458, 'NH': 531})"
            ]
          },
          "metadata": {},
          "execution_count": 9
        }
      ]
    },
    {
      "cell_type": "markdown",
      "source": [
        "성능 확인"
      ],
      "metadata": {
        "id": "NB3KrEXGXLyj"
      }
    },
    {
      "cell_type": "code",
      "source": [
        "from sklearn.tree import DecisionTreeClassifier\n",
        "tree = DecisionTreeClassifier(random_state=0)\n",
        "\n",
        "tree.fit(x_train, y_train)\n",
        "print(\"학습용 데이터 정확도: {:.3f}\".format(tree.score(x_train, y_train)))\n",
        "print(\"시험용 데이터 정확도: {:.3f}\".format(tree.score(x_test, y_test)))\n",
        "\n",
        "# 학습용 데이터에 대한 정확도가 과적합이므로, max_depth 제한 필요"
      ],
      "metadata": {
        "colab": {
          "base_uri": "https://localhost:8080/"
        },
        "id": "X6q2JQO_5VGi",
        "outputId": "d7f39395-1944-4242-b59a-4656d064b243"
      },
      "execution_count": null,
      "outputs": [
        {
          "output_type": "stream",
          "name": "stdout",
          "text": [
            "학습용 데이터 정확도: 1.000\n",
            "시험용 데이터 정확도: 0.553\n"
          ]
        }
      ]
    },
    {
      "cell_type": "code",
      "source": [
        "tree = DecisionTreeClassifier(random_state=0, max_depth = 5) # max_depth를 5로 제한\n",
        "\n",
        "tree.fit(x_train, y_train)\n",
        "print(\"학습용 데이터 정확도: {:.3f}\".format(tree.score(x_train, y_train)))\n",
        "print(\"시험용 데이터 정확도: {:.3f}\".format(tree.score(x_test, y_test)))\n",
        "\n",
        "# 학습용 데이터 정확도의 과적합 문제 해결 및 시험용 데이터 정확도 증가"
      ],
      "metadata": {
        "colab": {
          "base_uri": "https://localhost:8080/"
        },
        "id": "wYErNoWj6V83",
        "outputId": "496b07bb-f0d4-4e17-c4a9-5609086d4d06"
      },
      "execution_count": null,
      "outputs": [
        {
          "output_type": "stream",
          "name": "stdout",
          "text": [
            "학습용 데이터 정확도: 0.665\n",
            "시험용 데이터 정확도: 0.581\n"
          ]
        }
      ]
    },
    {
      "cell_type": "markdown",
      "source": [
        "의사결정나무 그리기"
      ],
      "metadata": {
        "id": "kv-vIRAIXjnI"
      }
    },
    {
      "cell_type": "code",
      "source": [
        "from sklearn.tree import export_graphviz\n",
        "import graphviz\n",
        "\n",
        "export_graphviz(tree, out_file=\"tree.dot\", class_names=[\"H\", \"NH\"],\n",
        "                feature_names=health.columns[0:23], impurity=False, filled=True)\n",
        "\n",
        "with open(\"tree.dot\") as f:\n",
        "    dot_graph = f.read()\n",
        "\n",
        "display(graphviz.Source(dot_graph))"
      ],
      "metadata": {
        "colab": {
          "base_uri": "https://localhost:8080/",
          "height": 814
        },
        "id": "j1P5hy0l6kwo",
        "outputId": "d6fbebf7-e423-4fae-bbb4-93aa66518950"
      },
      "execution_count": null,
      "outputs": [
        {
          "output_type": "display_data",
          "data": {
            "text/plain": [
              "<graphviz.files.Source at 0x7f22e1794fd0>"
            ],
            "image/svg+xml": "<?xml version=\"1.0\" encoding=\"UTF-8\" standalone=\"no\"?>\n<!DOCTYPE svg PUBLIC \"-//W3C//DTD SVG 1.1//EN\"\n \"http://www.w3.org/Graphics/SVG/1.1/DTD/svg11.dtd\">\n<!-- Generated by graphviz version 2.40.1 (20161225.0304)\n -->\n<!-- Title: Tree Pages: 1 -->\n<svg width=\"3893pt\" height=\"581pt\"\n viewBox=\"0.00 0.00 3892.50 581.00\" xmlns=\"http://www.w3.org/2000/svg\" xmlns:xlink=\"http://www.w3.org/1999/xlink\">\n<g id=\"graph0\" class=\"graph\" transform=\"scale(1 1) rotate(0) translate(4 577)\">\n<title>Tree</title>\n<polygon fill=\"#ffffff\" stroke=\"transparent\" points=\"-4,4 -4,-577 3888.5,-577 3888.5,4 -4,4\"/>\n<!-- 0 -->\n<g id=\"node1\" class=\"node\">\n<title>0</title>\n<polygon fill=\"#e9f4fc\" stroke=\"#000000\" points=\"2028.5,-573 1879.5,-573 1879.5,-505 2028.5,-505 2028.5,-573\"/>\n<text text-anchor=\"middle\" x=\"1954\" y=\"-557.8\" font-family=\"Helvetica,sans-Serif\" font-size=\"14.00\" fill=\"#000000\">감마지티피 &lt;= 18.5</text>\n<text text-anchor=\"middle\" x=\"1954\" y=\"-542.8\" font-family=\"Helvetica,sans-Serif\" font-size=\"14.00\" fill=\"#000000\">samples = 2966</text>\n<text text-anchor=\"middle\" x=\"1954\" y=\"-527.8\" font-family=\"Helvetica,sans-Serif\" font-size=\"14.00\" fill=\"#000000\">value = [1397, 1569]</text>\n<text text-anchor=\"middle\" x=\"1954\" y=\"-512.8\" font-family=\"Helvetica,sans-Serif\" font-size=\"14.00\" fill=\"#000000\">class = NH</text>\n</g>\n<!-- 1 -->\n<g id=\"node2\" class=\"node\">\n<title>1</title>\n<polygon fill=\"#9dcff2\" stroke=\"#000000\" points=\"1626,-469 1432,-469 1432,-401 1626,-401 1626,-469\"/>\n<text text-anchor=\"middle\" x=\"1529\" y=\"-453.8\" font-family=\"Helvetica,sans-Serif\" font-size=\"14.00\" fill=\"#000000\">연령대코드(5세단위) &lt;= 13.5</text>\n<text text-anchor=\"middle\" x=\"1529\" y=\"-438.8\" font-family=\"Helvetica,sans-Serif\" font-size=\"14.00\" fill=\"#000000\">samples = 1034</text>\n<text text-anchor=\"middle\" x=\"1529\" y=\"-423.8\" font-family=\"Helvetica,sans-Serif\" font-size=\"14.00\" fill=\"#000000\">value = [348, 686]</text>\n<text text-anchor=\"middle\" x=\"1529\" y=\"-408.8\" font-family=\"Helvetica,sans-Serif\" font-size=\"14.00\" fill=\"#000000\">class = NH</text>\n</g>\n<!-- 0&#45;&gt;1 -->\n<g id=\"edge1\" class=\"edge\">\n<title>0&#45;&gt;1</title>\n<path fill=\"none\" stroke=\"#000000\" d=\"M1879.4843,-520.7656C1812.1595,-504.2908 1712.2792,-479.8495 1636.3475,-461.2686\"/>\n<polygon fill=\"#000000\" stroke=\"#000000\" points=\"1636.8152,-457.7798 1626.2699,-458.8025 1635.1513,-464.5792 1636.8152,-457.7798\"/>\n<text text-anchor=\"middle\" x=\"1639.2391\" y=\"-476.4754\" font-family=\"Helvetica,sans-Serif\" font-size=\"14.00\" fill=\"#000000\">True</text>\n</g>\n<!-- 30 -->\n<g id=\"node31\" class=\"node\">\n<title>30</title>\n<polygon fill=\"#fbebe0\" stroke=\"#000000\" points=\"2368,-469 2228,-469 2228,-401 2368,-401 2368,-469\"/>\n<text text-anchor=\"middle\" x=\"2298\" y=\"-453.8\" font-family=\"Helvetica,sans-Serif\" font-size=\"14.00\" fill=\"#000000\">허리둘레 &lt;= 77.65</text>\n<text text-anchor=\"middle\" x=\"2298\" y=\"-438.8\" font-family=\"Helvetica,sans-Serif\" font-size=\"14.00\" fill=\"#000000\">samples = 1932</text>\n<text text-anchor=\"middle\" x=\"2298\" y=\"-423.8\" font-family=\"Helvetica,sans-Serif\" font-size=\"14.00\" fill=\"#000000\">value = [1049, 883]</text>\n<text text-anchor=\"middle\" x=\"2298\" y=\"-408.8\" font-family=\"Helvetica,sans-Serif\" font-size=\"14.00\" fill=\"#000000\">class = H</text>\n</g>\n<!-- 0&#45;&gt;30 -->\n<g id=\"edge30\" class=\"edge\">\n<title>0&#45;&gt;30</title>\n<path fill=\"none\" stroke=\"#000000\" d=\"M2028.6429,-516.4335C2084.5887,-499.5197 2161.0249,-476.4111 2218.1833,-459.1306\"/>\n<polygon fill=\"#000000\" stroke=\"#000000\" points=\"2219.3429,-462.4366 2227.9021,-456.1924 2217.3171,-455.7361 2219.3429,-462.4366\"/>\n<text text-anchor=\"middle\" x=\"2216.0966\" y=\"-474.5294\" font-family=\"Helvetica,sans-Serif\" font-size=\"14.00\" fill=\"#000000\">False</text>\n</g>\n<!-- 2 -->\n<g id=\"node3\" class=\"node\">\n<title>2</title>\n<polygon fill=\"#85c2ef\" stroke=\"#000000\" points=\"877,-365 705,-365 705,-297 877,-297 877,-365\"/>\n<text text-anchor=\"middle\" x=\"791\" y=\"-349.8\" font-family=\"Helvetica,sans-Serif\" font-size=\"14.00\" fill=\"#000000\">LDL콜레스테롤 &lt;= 153.5</text>\n<text text-anchor=\"middle\" x=\"791\" y=\"-334.8\" font-family=\"Helvetica,sans-Serif\" font-size=\"14.00\" fill=\"#000000\">samples = 770</text>\n<text text-anchor=\"middle\" x=\"791\" y=\"-319.8\" font-family=\"Helvetica,sans-Serif\" font-size=\"14.00\" fill=\"#000000\">value = [213, 557]</text>\n<text text-anchor=\"middle\" x=\"791\" y=\"-304.8\" font-family=\"Helvetica,sans-Serif\" font-size=\"14.00\" fill=\"#000000\">class = NH</text>\n</g>\n<!-- 1&#45;&gt;2 -->\n<g id=\"edge2\" class=\"edge\">\n<title>1&#45;&gt;2</title>\n<path fill=\"none\" stroke=\"#000000\" d=\"M1431.7605,-421.2969C1290.0485,-401.3266 1028.3407,-364.4464 887.2116,-344.5583\"/>\n<polygon fill=\"#000000\" stroke=\"#000000\" points=\"887.6525,-341.0859 877.262,-343.1562 886.6757,-348.0174 887.6525,-341.0859\"/>\n</g>\n<!-- 17 -->\n<g id=\"node18\" class=\"node\">\n<title>17</title>\n<polygon fill=\"#fef9f6\" stroke=\"#000000\" points=\"1621.5,-365 1436.5,-365 1436.5,-297 1621.5,-297 1621.5,-365\"/>\n<text text-anchor=\"middle\" x=\"1529\" y=\"-349.8\" font-family=\"Helvetica,sans-Serif\" font-size=\"14.00\" fill=\"#000000\">트리글리세라이드 &lt;= 108.5</text>\n<text text-anchor=\"middle\" x=\"1529\" y=\"-334.8\" font-family=\"Helvetica,sans-Serif\" font-size=\"14.00\" fill=\"#000000\">samples = 264</text>\n<text text-anchor=\"middle\" x=\"1529\" y=\"-319.8\" font-family=\"Helvetica,sans-Serif\" font-size=\"14.00\" fill=\"#000000\">value = [135, 129]</text>\n<text text-anchor=\"middle\" x=\"1529\" y=\"-304.8\" font-family=\"Helvetica,sans-Serif\" font-size=\"14.00\" fill=\"#000000\">class = H</text>\n</g>\n<!-- 1&#45;&gt;17 -->\n<g id=\"edge17\" class=\"edge\">\n<title>1&#45;&gt;17</title>\n<path fill=\"none\" stroke=\"#000000\" d=\"M1529,-400.9465C1529,-392.776 1529,-383.9318 1529,-375.3697\"/>\n<polygon fill=\"#000000\" stroke=\"#000000\" points=\"1532.5001,-375.13 1529,-365.13 1525.5001,-375.13 1532.5001,-375.13\"/>\n</g>\n<!-- 3 -->\n<g id=\"node4\" class=\"node\">\n<title>3</title>\n<polygon fill=\"#7cbeee\" stroke=\"#000000\" points=\"510,-261 324,-261 324,-193 510,-193 510,-261\"/>\n<text text-anchor=\"middle\" x=\"417\" y=\"-245.8\" font-family=\"Helvetica,sans-Serif\" font-size=\"14.00\" fill=\"#000000\">연령대코드(5세단위) &lt;= 9.5</text>\n<text text-anchor=\"middle\" x=\"417\" y=\"-230.8\" font-family=\"Helvetica,sans-Serif\" font-size=\"14.00\" fill=\"#000000\">samples = 668</text>\n<text text-anchor=\"middle\" x=\"417\" y=\"-215.8\" font-family=\"Helvetica,sans-Serif\" font-size=\"14.00\" fill=\"#000000\">value = [168, 500]</text>\n<text text-anchor=\"middle\" x=\"417\" y=\"-200.8\" font-family=\"Helvetica,sans-Serif\" font-size=\"14.00\" fill=\"#000000\">class = NH</text>\n</g>\n<!-- 2&#45;&gt;3 -->\n<g id=\"edge3\" class=\"edge\">\n<title>2&#45;&gt;3</title>\n<path fill=\"none\" stroke=\"#000000\" d=\"M704.7272,-307.0097C649.6668,-291.6988 577.9999,-271.77 519.9663,-255.6323\"/>\n<polygon fill=\"#000000\" stroke=\"#000000\" points=\"520.6092,-252.1784 510.0371,-252.8713 518.7338,-258.9225 520.6092,-252.1784\"/>\n</g>\n<!-- 10 -->\n<g id=\"node11\" class=\"node\">\n<title>10</title>\n<polygon fill=\"#d5eafa\" stroke=\"#000000\" points=\"863.5,-261 718.5,-261 718.5,-193 863.5,-193 863.5,-261\"/>\n<text text-anchor=\"middle\" x=\"791\" y=\"-245.8\" font-family=\"Helvetica,sans-Serif\" font-size=\"14.00\" fill=\"#000000\">수축기혈압 &lt;= 134.5</text>\n<text text-anchor=\"middle\" x=\"791\" y=\"-230.8\" font-family=\"Helvetica,sans-Serif\" font-size=\"14.00\" fill=\"#000000\">samples = 102</text>\n<text text-anchor=\"middle\" x=\"791\" y=\"-215.8\" font-family=\"Helvetica,sans-Serif\" font-size=\"14.00\" fill=\"#000000\">value = [45, 57]</text>\n<text text-anchor=\"middle\" x=\"791\" y=\"-200.8\" font-family=\"Helvetica,sans-Serif\" font-size=\"14.00\" fill=\"#000000\">class = NH</text>\n</g>\n<!-- 2&#45;&gt;10 -->\n<g id=\"edge10\" class=\"edge\">\n<title>2&#45;&gt;10</title>\n<path fill=\"none\" stroke=\"#000000\" d=\"M791,-296.9465C791,-288.776 791,-279.9318 791,-271.3697\"/>\n<polygon fill=\"#000000\" stroke=\"#000000\" points=\"794.5001,-271.13 791,-261.13 787.5001,-271.13 794.5001,-271.13\"/>\n</g>\n<!-- 4 -->\n<g id=\"node5\" class=\"node\">\n<title>4</title>\n<polygon fill=\"#60b0ea\" stroke=\"#000000\" points=\"274,-157 110,-157 110,-89 274,-89 274,-157\"/>\n<text text-anchor=\"middle\" x=\"192\" y=\"-141.8\" font-family=\"Helvetica,sans-Serif\" font-size=\"14.00\" fill=\"#000000\">혈청크레아티닌 &lt;= 1.15</text>\n<text text-anchor=\"middle\" x=\"192\" y=\"-126.8\" font-family=\"Helvetica,sans-Serif\" font-size=\"14.00\" fill=\"#000000\">samples = 214</text>\n<text text-anchor=\"middle\" x=\"192\" y=\"-111.8\" font-family=\"Helvetica,sans-Serif\" font-size=\"14.00\" fill=\"#000000\">value = [35, 179]</text>\n<text text-anchor=\"middle\" x=\"192\" y=\"-96.8\" font-family=\"Helvetica,sans-Serif\" font-size=\"14.00\" fill=\"#000000\">class = NH</text>\n</g>\n<!-- 3&#45;&gt;4 -->\n<g id=\"edge4\" class=\"edge\">\n<title>3&#45;&gt;4</title>\n<path fill=\"none\" stroke=\"#000000\" d=\"M343.3266,-192.9465C321.4738,-182.8457 297.3932,-171.7151 274.9922,-161.3608\"/>\n<polygon fill=\"#000000\" stroke=\"#000000\" points=\"276.3847,-158.1487 265.8389,-157.13 273.4477,-164.5028 276.3847,-158.1487\"/>\n</g>\n<!-- 7 -->\n<g id=\"node8\" class=\"node\">\n<title>7</title>\n<polygon fill=\"#8bc6f0\" stroke=\"#000000\" points=\"499,-157 335,-157 335,-89 499,-89 499,-157\"/>\n<text text-anchor=\"middle\" x=\"417\" y=\"-141.8\" font-family=\"Helvetica,sans-Serif\" font-size=\"14.00\" fill=\"#000000\">LDL콜레스테롤 &lt;= 67.5</text>\n<text text-anchor=\"middle\" x=\"417\" y=\"-126.8\" font-family=\"Helvetica,sans-Serif\" font-size=\"14.00\" fill=\"#000000\">samples = 454</text>\n<text text-anchor=\"middle\" x=\"417\" y=\"-111.8\" font-family=\"Helvetica,sans-Serif\" font-size=\"14.00\" fill=\"#000000\">value = [133, 321]</text>\n<text text-anchor=\"middle\" x=\"417\" y=\"-96.8\" font-family=\"Helvetica,sans-Serif\" font-size=\"14.00\" fill=\"#000000\">class = NH</text>\n</g>\n<!-- 3&#45;&gt;7 -->\n<g id=\"edge7\" class=\"edge\">\n<title>3&#45;&gt;7</title>\n<path fill=\"none\" stroke=\"#000000\" d=\"M417,-192.9465C417,-184.776 417,-175.9318 417,-167.3697\"/>\n<polygon fill=\"#000000\" stroke=\"#000000\" points=\"420.5001,-167.13 417,-157.13 413.5001,-167.13 420.5001,-167.13\"/>\n</g>\n<!-- 5 -->\n<g id=\"node6\" class=\"node\">\n<title>5</title>\n<polygon fill=\"#5baeea\" stroke=\"#000000\" points=\"124,-53 0,-53 0,0 124,0 124,-53\"/>\n<text text-anchor=\"middle\" x=\"62\" y=\"-37.8\" font-family=\"Helvetica,sans-Serif\" font-size=\"14.00\" fill=\"#000000\">samples = 210</text>\n<text text-anchor=\"middle\" x=\"62\" y=\"-22.8\" font-family=\"Helvetica,sans-Serif\" font-size=\"14.00\" fill=\"#000000\">value = [31, 179]</text>\n<text text-anchor=\"middle\" x=\"62\" y=\"-7.8\" font-family=\"Helvetica,sans-Serif\" font-size=\"14.00\" fill=\"#000000\">class = NH</text>\n</g>\n<!-- 4&#45;&gt;5 -->\n<g id=\"edge5\" class=\"edge\">\n<title>4&#45;&gt;5</title>\n<path fill=\"none\" stroke=\"#000000\" d=\"M146.1669,-88.9777C133.2143,-79.3629 119.1465,-68.9203 106.2867,-59.3743\"/>\n<polygon fill=\"#000000\" stroke=\"#000000\" points=\"108.1499,-56.3986 98.0342,-53.2485 103.9776,-62.0193 108.1499,-56.3986\"/>\n</g>\n<!-- 6 -->\n<g id=\"node7\" class=\"node\">\n<title>6</title>\n<polygon fill=\"#e58139\" stroke=\"#000000\" points=\"241.5,-53 142.5,-53 142.5,0 241.5,0 241.5,-53\"/>\n<text text-anchor=\"middle\" x=\"192\" y=\"-37.8\" font-family=\"Helvetica,sans-Serif\" font-size=\"14.00\" fill=\"#000000\">samples = 4</text>\n<text text-anchor=\"middle\" x=\"192\" y=\"-22.8\" font-family=\"Helvetica,sans-Serif\" font-size=\"14.00\" fill=\"#000000\">value = [4, 0]</text>\n<text text-anchor=\"middle\" x=\"192\" y=\"-7.8\" font-family=\"Helvetica,sans-Serif\" font-size=\"14.00\" fill=\"#000000\">class = H</text>\n</g>\n<!-- 4&#45;&gt;6 -->\n<g id=\"edge6\" class=\"edge\">\n<title>4&#45;&gt;6</title>\n<path fill=\"none\" stroke=\"#000000\" d=\"M192,-88.9777C192,-80.7364 192,-71.887 192,-63.5153\"/>\n<polygon fill=\"#000000\" stroke=\"#000000\" points=\"195.5001,-63.2484 192,-53.2485 188.5001,-63.2485 195.5001,-63.2484\"/>\n</g>\n<!-- 8 -->\n<g id=\"node9\" class=\"node\">\n<title>8</title>\n<polygon fill=\"#ffffff\" stroke=\"#000000\" points=\"376,-53 260,-53 260,0 376,0 376,-53\"/>\n<text text-anchor=\"middle\" x=\"318\" y=\"-37.8\" font-family=\"Helvetica,sans-Serif\" font-size=\"14.00\" fill=\"#000000\">samples = 38</text>\n<text text-anchor=\"middle\" x=\"318\" y=\"-22.8\" font-family=\"Helvetica,sans-Serif\" font-size=\"14.00\" fill=\"#000000\">value = [19, 19]</text>\n<text text-anchor=\"middle\" x=\"318\" y=\"-7.8\" font-family=\"Helvetica,sans-Serif\" font-size=\"14.00\" fill=\"#000000\">class = H</text>\n</g>\n<!-- 7&#45;&gt;8 -->\n<g id=\"edge8\" class=\"edge\">\n<title>7&#45;&gt;8</title>\n<path fill=\"none\" stroke=\"#000000\" d=\"M382.0963,-88.9777C372.6082,-79.7292 362.3343,-69.7147 352.8491,-60.4691\"/>\n<polygon fill=\"#000000\" stroke=\"#000000\" points=\"355.0454,-57.7223 345.4414,-53.2485 350.1593,-62.7349 355.0454,-57.7223\"/>\n</g>\n<!-- 9 -->\n<g id=\"node10\" class=\"node\">\n<title>9</title>\n<polygon fill=\"#84c2ef\" stroke=\"#000000\" points=\"526,-53 394,-53 394,0 526,0 526,-53\"/>\n<text text-anchor=\"middle\" x=\"460\" y=\"-37.8\" font-family=\"Helvetica,sans-Serif\" font-size=\"14.00\" fill=\"#000000\">samples = 416</text>\n<text text-anchor=\"middle\" x=\"460\" y=\"-22.8\" font-family=\"Helvetica,sans-Serif\" font-size=\"14.00\" fill=\"#000000\">value = [114, 302]</text>\n<text text-anchor=\"middle\" x=\"460\" y=\"-7.8\" font-family=\"Helvetica,sans-Serif\" font-size=\"14.00\" fill=\"#000000\">class = NH</text>\n</g>\n<!-- 7&#45;&gt;9 -->\n<g id=\"edge9\" class=\"edge\">\n<title>7&#45;&gt;9</title>\n<path fill=\"none\" stroke=\"#000000\" d=\"M432.1602,-88.9777C435.9957,-80.3702 440.1268,-71.0992 444.0022,-62.402\"/>\n<polygon fill=\"#000000\" stroke=\"#000000\" points=\"447.2077,-63.8073 448.081,-53.2485 440.8138,-60.9581 447.2077,-63.8073\"/>\n</g>\n<!-- 11 -->\n<g id=\"node12\" class=\"node\">\n<title>11</title>\n<polygon fill=\"#aed7f4\" stroke=\"#000000\" points=\"780,-157 622,-157 622,-89 780,-89 780,-157\"/>\n<text text-anchor=\"middle\" x=\"701\" y=\"-141.8\" font-family=\"Helvetica,sans-Serif\" font-size=\"14.00\" fill=\"#000000\">총콜레스테롤 &lt;= 241.5</text>\n<text text-anchor=\"middle\" x=\"701\" y=\"-126.8\" font-family=\"Helvetica,sans-Serif\" font-size=\"14.00\" fill=\"#000000\">samples = 86</text>\n<text text-anchor=\"middle\" x=\"701\" y=\"-111.8\" font-family=\"Helvetica,sans-Serif\" font-size=\"14.00\" fill=\"#000000\">value = [32, 54]</text>\n<text text-anchor=\"middle\" x=\"701\" y=\"-96.8\" font-family=\"Helvetica,sans-Serif\" font-size=\"14.00\" fill=\"#000000\">class = NH</text>\n</g>\n<!-- 10&#45;&gt;11 -->\n<g id=\"edge11\" class=\"edge\">\n<title>10&#45;&gt;11</title>\n<path fill=\"none\" stroke=\"#000000\" d=\"M761.5306,-192.9465C753.7607,-183.968 745.2868,-174.1758 737.2064,-164.8385\"/>\n<polygon fill=\"#000000\" stroke=\"#000000\" points=\"739.726,-162.4014 730.5356,-157.13 734.4328,-166.982 739.726,-162.4014\"/>\n</g>\n<!-- 14 -->\n<g id=\"node15\" class=\"node\">\n<title>14</title>\n<polygon fill=\"#eb9e67\" stroke=\"#000000\" points=\"964,-157 798,-157 798,-89 964,-89 964,-157\"/>\n<text text-anchor=\"middle\" x=\"881\" y=\"-141.8\" font-family=\"Helvetica,sans-Serif\" font-size=\"14.00\" fill=\"#000000\">HDL콜레스테롤 &lt;= 52.5</text>\n<text text-anchor=\"middle\" x=\"881\" y=\"-126.8\" font-family=\"Helvetica,sans-Serif\" font-size=\"14.00\" fill=\"#000000\">samples = 16</text>\n<text text-anchor=\"middle\" x=\"881\" y=\"-111.8\" font-family=\"Helvetica,sans-Serif\" font-size=\"14.00\" fill=\"#000000\">value = [13, 3]</text>\n<text text-anchor=\"middle\" x=\"881\" y=\"-96.8\" font-family=\"Helvetica,sans-Serif\" font-size=\"14.00\" fill=\"#000000\">class = H</text>\n</g>\n<!-- 10&#45;&gt;14 -->\n<g id=\"edge14\" class=\"edge\">\n<title>10&#45;&gt;14</title>\n<path fill=\"none\" stroke=\"#000000\" d=\"M820.4694,-192.9465C828.2393,-183.968 836.7132,-174.1758 844.7936,-164.8385\"/>\n<polygon fill=\"#000000\" stroke=\"#000000\" points=\"847.5672,-166.982 851.4644,-157.13 842.274,-162.4014 847.5672,-166.982\"/>\n</g>\n<!-- 12 -->\n<g id=\"node13\" class=\"node\">\n<title>12</title>\n<polygon fill=\"#f1bb94\" stroke=\"#000000\" points=\"651.5,-53 544.5,-53 544.5,0 651.5,0 651.5,-53\"/>\n<text text-anchor=\"middle\" x=\"598\" y=\"-37.8\" font-family=\"Helvetica,sans-Serif\" font-size=\"14.00\" fill=\"#000000\">samples = 19</text>\n<text text-anchor=\"middle\" x=\"598\" y=\"-22.8\" font-family=\"Helvetica,sans-Serif\" font-size=\"14.00\" fill=\"#000000\">value = [13, 6]</text>\n<text text-anchor=\"middle\" x=\"598\" y=\"-7.8\" font-family=\"Helvetica,sans-Serif\" font-size=\"14.00\" fill=\"#000000\">class = H</text>\n</g>\n<!-- 11&#45;&gt;12 -->\n<g id=\"edge12\" class=\"edge\">\n<title>11&#45;&gt;12</title>\n<path fill=\"none\" stroke=\"#000000\" d=\"M664.6861,-88.9777C654.7168,-79.6376 643.9138,-69.5163 633.9643,-60.1947\"/>\n<polygon fill=\"#000000\" stroke=\"#000000\" points=\"636.2408,-57.5314 626.5502,-53.2485 631.4548,-62.6397 636.2408,-57.5314\"/>\n</g>\n<!-- 13 -->\n<g id=\"node14\" class=\"node\">\n<title>13</title>\n<polygon fill=\"#87c4ef\" stroke=\"#000000\" points=\"786,-53 670,-53 670,0 786,0 786,-53\"/>\n<text text-anchor=\"middle\" x=\"728\" y=\"-37.8\" font-family=\"Helvetica,sans-Serif\" font-size=\"14.00\" fill=\"#000000\">samples = 67</text>\n<text text-anchor=\"middle\" x=\"728\" y=\"-22.8\" font-family=\"Helvetica,sans-Serif\" font-size=\"14.00\" fill=\"#000000\">value = [19, 48]</text>\n<text text-anchor=\"middle\" x=\"728\" y=\"-7.8\" font-family=\"Helvetica,sans-Serif\" font-size=\"14.00\" fill=\"#000000\">class = NH</text>\n</g>\n<!-- 11&#45;&gt;13 -->\n<g id=\"edge13\" class=\"edge\">\n<title>11&#45;&gt;13</title>\n<path fill=\"none\" stroke=\"#000000\" d=\"M710.5192,-88.9777C712.8763,-80.5533 715.4112,-71.4934 717.7993,-62.9579\"/>\n<polygon fill=\"#000000\" stroke=\"#000000\" points=\"721.192,-63.8217 720.516,-53.2485 714.4509,-61.9356 721.192,-63.8217\"/>\n</g>\n<!-- 15 -->\n<g id=\"node16\" class=\"node\">\n<title>15</title>\n<polygon fill=\"#9ccef2\" stroke=\"#000000\" points=\"903.5,-53 804.5,-53 804.5,0 903.5,0 903.5,-53\"/>\n<text text-anchor=\"middle\" x=\"854\" y=\"-37.8\" font-family=\"Helvetica,sans-Serif\" font-size=\"14.00\" fill=\"#000000\">samples = 3</text>\n<text text-anchor=\"middle\" x=\"854\" y=\"-22.8\" font-family=\"Helvetica,sans-Serif\" font-size=\"14.00\" fill=\"#000000\">value = [1, 2]</text>\n<text text-anchor=\"middle\" x=\"854\" y=\"-7.8\" font-family=\"Helvetica,sans-Serif\" font-size=\"14.00\" fill=\"#000000\">class = NH</text>\n</g>\n<!-- 14&#45;&gt;15 -->\n<g id=\"edge15\" class=\"edge\">\n<title>14&#45;&gt;15</title>\n<path fill=\"none\" stroke=\"#000000\" d=\"M871.4808,-88.9777C869.1237,-80.5533 866.5888,-71.4934 864.2007,-62.9579\"/>\n<polygon fill=\"#000000\" stroke=\"#000000\" points=\"867.5491,-61.9356 861.484,-53.2485 860.808,-63.8217 867.5491,-61.9356\"/>\n</g>\n<!-- 16 -->\n<g id=\"node17\" class=\"node\">\n<title>16</title>\n<polygon fill=\"#e78c49\" stroke=\"#000000\" points=\"1028.5,-53 921.5,-53 921.5,0 1028.5,0 1028.5,-53\"/>\n<text text-anchor=\"middle\" x=\"975\" y=\"-37.8\" font-family=\"Helvetica,sans-Serif\" font-size=\"14.00\" fill=\"#000000\">samples = 13</text>\n<text text-anchor=\"middle\" x=\"975\" y=\"-22.8\" font-family=\"Helvetica,sans-Serif\" font-size=\"14.00\" fill=\"#000000\">value = [12, 1]</text>\n<text text-anchor=\"middle\" x=\"975\" y=\"-7.8\" font-family=\"Helvetica,sans-Serif\" font-size=\"14.00\" fill=\"#000000\">class = H</text>\n</g>\n<!-- 14&#45;&gt;16 -->\n<g id=\"edge16\" class=\"edge\">\n<title>14&#45;&gt;16</title>\n<path fill=\"none\" stroke=\"#000000\" d=\"M914.1409,-88.9777C923.1498,-79.7292 932.9048,-69.7147 941.9109,-60.4691\"/>\n<polygon fill=\"#000000\" stroke=\"#000000\" points=\"944.4739,-62.8539 948.9445,-53.2485 939.4596,-57.9696 944.4739,-62.8539\"/>\n</g>\n<!-- 18 -->\n<g id=\"node19\" class=\"node\">\n<title>18</title>\n<polygon fill=\"#d0e8f9\" stroke=\"#000000\" points=\"1488.5,-261 1343.5,-261 1343.5,-193 1488.5,-193 1488.5,-261\"/>\n<text text-anchor=\"middle\" x=\"1416\" y=\"-245.8\" font-family=\"Helvetica,sans-Serif\" font-size=\"14.00\" fill=\"#000000\">수축기혈압 &lt;= 124.5</text>\n<text text-anchor=\"middle\" x=\"1416\" y=\"-230.8\" font-family=\"Helvetica,sans-Serif\" font-size=\"14.00\" fill=\"#000000\">samples = 164</text>\n<text text-anchor=\"middle\" x=\"1416\" y=\"-215.8\" font-family=\"Helvetica,sans-Serif\" font-size=\"14.00\" fill=\"#000000\">value = [71, 93]</text>\n<text text-anchor=\"middle\" x=\"1416\" y=\"-200.8\" font-family=\"Helvetica,sans-Serif\" font-size=\"14.00\" fill=\"#000000\">class = NH</text>\n</g>\n<!-- 17&#45;&gt;18 -->\n<g id=\"edge18\" class=\"edge\">\n<title>17&#45;&gt;18</title>\n<path fill=\"none\" stroke=\"#000000\" d=\"M1491.9996,-296.9465C1481.9514,-287.6986 1470.9653,-277.5876 1460.5474,-267.9994\"/>\n<polygon fill=\"#000000\" stroke=\"#000000\" points=\"1462.8118,-265.3267 1453.0836,-261.13 1458.0714,-270.4773 1462.8118,-265.3267\"/>\n</g>\n<!-- 25 -->\n<g id=\"node26\" class=\"node\">\n<title>25</title>\n<polygon fill=\"#f4c8a8\" stroke=\"#000000\" points=\"1698,-261 1534,-261 1534,-193 1698,-193 1698,-261\"/>\n<text text-anchor=\"middle\" x=\"1616\" y=\"-245.8\" font-family=\"Helvetica,sans-Serif\" font-size=\"14.00\" fill=\"#000000\">혈청크레아티닌 &lt;= 1.15</text>\n<text text-anchor=\"middle\" x=\"1616\" y=\"-230.8\" font-family=\"Helvetica,sans-Serif\" font-size=\"14.00\" fill=\"#000000\">samples = 100</text>\n<text text-anchor=\"middle\" x=\"1616\" y=\"-215.8\" font-family=\"Helvetica,sans-Serif\" font-size=\"14.00\" fill=\"#000000\">value = [64, 36]</text>\n<text text-anchor=\"middle\" x=\"1616\" y=\"-200.8\" font-family=\"Helvetica,sans-Serif\" font-size=\"14.00\" fill=\"#000000\">class = H</text>\n</g>\n<!-- 17&#45;&gt;25 -->\n<g id=\"edge25\" class=\"edge\">\n<title>17&#45;&gt;25</title>\n<path fill=\"none\" stroke=\"#000000\" d=\"M1557.4871,-296.9465C1564.9979,-287.968 1573.1895,-278.1758 1581.0005,-268.8385\"/>\n<polygon fill=\"#000000\" stroke=\"#000000\" points=\"1583.7171,-271.0459 1587.4489,-261.13 1578.348,-266.5544 1583.7171,-271.0459\"/>\n</g>\n<!-- 19 -->\n<g id=\"node20\" class=\"node\">\n<title>19</title>\n<polygon fill=\"#8bc5f0\" stroke=\"#000000\" points=\"1289,-157 1171,-157 1171,-89 1289,-89 1289,-157\"/>\n<text text-anchor=\"middle\" x=\"1230\" y=\"-141.8\" font-family=\"Helvetica,sans-Serif\" font-size=\"14.00\" fill=\"#000000\">혈색소 &lt;= 12.95</text>\n<text text-anchor=\"middle\" x=\"1230\" y=\"-126.8\" font-family=\"Helvetica,sans-Serif\" font-size=\"14.00\" fill=\"#000000\">samples = 72</text>\n<text text-anchor=\"middle\" x=\"1230\" y=\"-111.8\" font-family=\"Helvetica,sans-Serif\" font-size=\"14.00\" fill=\"#000000\">value = [21, 51]</text>\n<text text-anchor=\"middle\" x=\"1230\" y=\"-96.8\" font-family=\"Helvetica,sans-Serif\" font-size=\"14.00\" fill=\"#000000\">class = NH</text>\n</g>\n<!-- 18&#45;&gt;19 -->\n<g id=\"edge19\" class=\"edge\">\n<title>18&#45;&gt;19</title>\n<path fill=\"none\" stroke=\"#000000\" d=\"M1355.0966,-192.9465C1336.804,-182.7184 1316.6231,-171.4344 1297.9075,-160.9698\"/>\n<polygon fill=\"#000000\" stroke=\"#000000\" points=\"1299.5755,-157.8925 1289.1391,-156.067 1296.1592,-164.0023 1299.5755,-157.8925\"/>\n</g>\n<!-- 22 -->\n<g id=\"node23\" class=\"node\">\n<title>22</title>\n<polygon fill=\"#fbebdf\" stroke=\"#000000\" points=\"1499,-157 1333,-157 1333,-89 1499,-89 1499,-157\"/>\n<text text-anchor=\"middle\" x=\"1416\" y=\"-141.8\" font-family=\"Helvetica,sans-Serif\" font-size=\"14.00\" fill=\"#000000\">HDL콜레스테롤 &lt;= 83.5</text>\n<text text-anchor=\"middle\" x=\"1416\" y=\"-126.8\" font-family=\"Helvetica,sans-Serif\" font-size=\"14.00\" fill=\"#000000\">samples = 92</text>\n<text text-anchor=\"middle\" x=\"1416\" y=\"-111.8\" font-family=\"Helvetica,sans-Serif\" font-size=\"14.00\" fill=\"#000000\">value = [50, 42]</text>\n<text text-anchor=\"middle\" x=\"1416\" y=\"-96.8\" font-family=\"Helvetica,sans-Serif\" font-size=\"14.00\" fill=\"#000000\">class = H</text>\n</g>\n<!-- 18&#45;&gt;22 -->\n<g id=\"edge22\" class=\"edge\">\n<title>18&#45;&gt;22</title>\n<path fill=\"none\" stroke=\"#000000\" d=\"M1416,-192.9465C1416,-184.776 1416,-175.9318 1416,-167.3697\"/>\n<polygon fill=\"#000000\" stroke=\"#000000\" points=\"1419.5001,-167.13 1416,-157.13 1412.5001,-167.13 1419.5001,-167.13\"/>\n</g>\n<!-- 20 -->\n<g id=\"node21\" class=\"node\">\n<title>20</title>\n<polygon fill=\"#57ace9\" stroke=\"#000000\" points=\"1153.5,-53 1046.5,-53 1046.5,0 1153.5,0 1153.5,-53\"/>\n<text text-anchor=\"middle\" x=\"1100\" y=\"-37.8\" font-family=\"Helvetica,sans-Serif\" font-size=\"14.00\" fill=\"#000000\">samples = 30</text>\n<text text-anchor=\"middle\" x=\"1100\" y=\"-22.8\" font-family=\"Helvetica,sans-Serif\" font-size=\"14.00\" fill=\"#000000\">value = [4, 26]</text>\n<text text-anchor=\"middle\" x=\"1100\" y=\"-7.8\" font-family=\"Helvetica,sans-Serif\" font-size=\"14.00\" fill=\"#000000\">class = NH</text>\n</g>\n<!-- 19&#45;&gt;20 -->\n<g id=\"edge20\" class=\"edge\">\n<title>19&#45;&gt;20</title>\n<path fill=\"none\" stroke=\"#000000\" d=\"M1184.1669,-88.9777C1171.2143,-79.3629 1157.1465,-68.9203 1144.2867,-59.3743\"/>\n<polygon fill=\"#000000\" stroke=\"#000000\" points=\"1146.1499,-56.3986 1136.0342,-53.2485 1141.9776,-62.0193 1146.1499,-56.3986\"/>\n</g>\n<!-- 21 -->\n<g id=\"node22\" class=\"node\">\n<title>21</title>\n<polygon fill=\"#c0e0f7\" stroke=\"#000000\" points=\"1288,-53 1172,-53 1172,0 1288,0 1288,-53\"/>\n<text text-anchor=\"middle\" x=\"1230\" y=\"-37.8\" font-family=\"Helvetica,sans-Serif\" font-size=\"14.00\" fill=\"#000000\">samples = 42</text>\n<text text-anchor=\"middle\" x=\"1230\" y=\"-22.8\" font-family=\"Helvetica,sans-Serif\" font-size=\"14.00\" fill=\"#000000\">value = [17, 25]</text>\n<text text-anchor=\"middle\" x=\"1230\" y=\"-7.8\" font-family=\"Helvetica,sans-Serif\" font-size=\"14.00\" fill=\"#000000\">class = NH</text>\n</g>\n<!-- 19&#45;&gt;21 -->\n<g id=\"edge21\" class=\"edge\">\n<title>19&#45;&gt;21</title>\n<path fill=\"none\" stroke=\"#000000\" d=\"M1230,-88.9777C1230,-80.7364 1230,-71.887 1230,-63.5153\"/>\n<polygon fill=\"#000000\" stroke=\"#000000\" points=\"1233.5001,-63.2484 1230,-53.2485 1226.5001,-63.2485 1233.5001,-63.2484\"/>\n</g>\n<!-- 23 -->\n<g id=\"node24\" class=\"node\">\n<title>23</title>\n<polygon fill=\"#f8dbc6\" stroke=\"#000000\" points=\"1422,-53 1306,-53 1306,0 1422,0 1422,-53\"/>\n<text text-anchor=\"middle\" x=\"1364\" y=\"-37.8\" font-family=\"Helvetica,sans-Serif\" font-size=\"14.00\" fill=\"#000000\">samples = 84</text>\n<text text-anchor=\"middle\" x=\"1364\" y=\"-22.8\" font-family=\"Helvetica,sans-Serif\" font-size=\"14.00\" fill=\"#000000\">value = [49, 35]</text>\n<text text-anchor=\"middle\" x=\"1364\" y=\"-7.8\" font-family=\"Helvetica,sans-Serif\" font-size=\"14.00\" fill=\"#000000\">class = H</text>\n</g>\n<!-- 22&#45;&gt;23 -->\n<g id=\"edge23\" class=\"edge\">\n<title>22&#45;&gt;23</title>\n<path fill=\"none\" stroke=\"#000000\" d=\"M1397.6667,-88.9777C1392.9791,-80.2786 1387.9264,-70.9018 1383.1967,-62.1247\"/>\n<polygon fill=\"#000000\" stroke=\"#000000\" points=\"1386.2386,-60.3914 1378.4137,-53.2485 1380.0763,-63.7121 1386.2386,-60.3914\"/>\n</g>\n<!-- 24 -->\n<g id=\"node25\" class=\"node\">\n<title>24</title>\n<polygon fill=\"#55abe9\" stroke=\"#000000\" points=\"1539.5,-53 1440.5,-53 1440.5,0 1539.5,0 1539.5,-53\"/>\n<text text-anchor=\"middle\" x=\"1490\" y=\"-37.8\" font-family=\"Helvetica,sans-Serif\" font-size=\"14.00\" fill=\"#000000\">samples = 8</text>\n<text text-anchor=\"middle\" x=\"1490\" y=\"-22.8\" font-family=\"Helvetica,sans-Serif\" font-size=\"14.00\" fill=\"#000000\">value = [1, 7]</text>\n<text text-anchor=\"middle\" x=\"1490\" y=\"-7.8\" font-family=\"Helvetica,sans-Serif\" font-size=\"14.00\" fill=\"#000000\">class = NH</text>\n</g>\n<!-- 22&#45;&gt;24 -->\n<g id=\"edge24\" class=\"edge\">\n<title>22&#45;&gt;24</title>\n<path fill=\"none\" stroke=\"#000000\" d=\"M1442.0896,-88.9777C1448.9711,-80.0039 1456.4056,-70.3089 1463.3178,-61.295\"/>\n<polygon fill=\"#000000\" stroke=\"#000000\" points=\"1466.1804,-63.3137 1469.4882,-53.2485 1460.6256,-59.0541 1466.1804,-63.3137\"/>\n</g>\n<!-- 26 -->\n<g id=\"node27\" class=\"node\">\n<title>26</title>\n<polygon fill=\"#f7d7bf\" stroke=\"#000000\" points=\"1688.5,-157 1543.5,-157 1543.5,-89 1688.5,-89 1688.5,-157\"/>\n<text text-anchor=\"middle\" x=\"1616\" y=\"-141.8\" font-family=\"Helvetica,sans-Serif\" font-size=\"14.00\" fill=\"#000000\">수축기혈압 &lt;= 149.5</text>\n<text text-anchor=\"middle\" x=\"1616\" y=\"-126.8\" font-family=\"Helvetica,sans-Serif\" font-size=\"14.00\" fill=\"#000000\">samples = 89</text>\n<text text-anchor=\"middle\" x=\"1616\" y=\"-111.8\" font-family=\"Helvetica,sans-Serif\" font-size=\"14.00\" fill=\"#000000\">value = [53, 36]</text>\n<text text-anchor=\"middle\" x=\"1616\" y=\"-96.8\" font-family=\"Helvetica,sans-Serif\" font-size=\"14.00\" fill=\"#000000\">class = H</text>\n</g>\n<!-- 25&#45;&gt;26 -->\n<g id=\"edge26\" class=\"edge\">\n<title>25&#45;&gt;26</title>\n<path fill=\"none\" stroke=\"#000000\" d=\"M1616,-192.9465C1616,-184.776 1616,-175.9318 1616,-167.3697\"/>\n<polygon fill=\"#000000\" stroke=\"#000000\" points=\"1619.5001,-167.13 1616,-157.13 1612.5001,-167.13 1619.5001,-167.13\"/>\n</g>\n<!-- 29 -->\n<g id=\"node30\" class=\"node\">\n<title>29</title>\n<polygon fill=\"#e58139\" stroke=\"#000000\" points=\"1813.5,-149.5 1706.5,-149.5 1706.5,-96.5 1813.5,-96.5 1813.5,-149.5\"/>\n<text text-anchor=\"middle\" x=\"1760\" y=\"-134.3\" font-family=\"Helvetica,sans-Serif\" font-size=\"14.00\" fill=\"#000000\">samples = 11</text>\n<text text-anchor=\"middle\" x=\"1760\" y=\"-119.3\" font-family=\"Helvetica,sans-Serif\" font-size=\"14.00\" fill=\"#000000\">value = [11, 0]</text>\n<text text-anchor=\"middle\" x=\"1760\" y=\"-104.3\" font-family=\"Helvetica,sans-Serif\" font-size=\"14.00\" fill=\"#000000\">class = H</text>\n</g>\n<!-- 25&#45;&gt;29 -->\n<g id=\"edge29\" class=\"edge\">\n<title>25&#45;&gt;29</title>\n<path fill=\"none\" stroke=\"#000000\" d=\"M1663.151,-192.9465C1679.775,-180.9403 1698.4135,-167.4791 1714.8667,-155.5962\"/>\n<polygon fill=\"#000000\" stroke=\"#000000\" points=\"1717.1917,-158.2345 1723.2493,-149.5422 1713.0933,-152.5597 1717.1917,-158.2345\"/>\n</g>\n<!-- 27 -->\n<g id=\"node28\" class=\"node\">\n<title>27</title>\n<polygon fill=\"#fae8db\" stroke=\"#000000\" points=\"1674,-53 1558,-53 1558,0 1674,0 1674,-53\"/>\n<text text-anchor=\"middle\" x=\"1616\" y=\"-37.8\" font-family=\"Helvetica,sans-Serif\" font-size=\"14.00\" fill=\"#000000\">samples = 80</text>\n<text text-anchor=\"middle\" x=\"1616\" y=\"-22.8\" font-family=\"Helvetica,sans-Serif\" font-size=\"14.00\" fill=\"#000000\">value = [44, 36]</text>\n<text text-anchor=\"middle\" x=\"1616\" y=\"-7.8\" font-family=\"Helvetica,sans-Serif\" font-size=\"14.00\" fill=\"#000000\">class = H</text>\n</g>\n<!-- 26&#45;&gt;27 -->\n<g id=\"edge27\" class=\"edge\">\n<title>26&#45;&gt;27</title>\n<path fill=\"none\" stroke=\"#000000\" d=\"M1616,-88.9777C1616,-80.7364 1616,-71.887 1616,-63.5153\"/>\n<polygon fill=\"#000000\" stroke=\"#000000\" points=\"1619.5001,-63.2484 1616,-53.2485 1612.5001,-63.2485 1619.5001,-63.2484\"/>\n</g>\n<!-- 28 -->\n<g id=\"node29\" class=\"node\">\n<title>28</title>\n<polygon fill=\"#e58139\" stroke=\"#000000\" points=\"1791.5,-53 1692.5,-53 1692.5,0 1791.5,0 1791.5,-53\"/>\n<text text-anchor=\"middle\" x=\"1742\" y=\"-37.8\" font-family=\"Helvetica,sans-Serif\" font-size=\"14.00\" fill=\"#000000\">samples = 9</text>\n<text text-anchor=\"middle\" x=\"1742\" y=\"-22.8\" font-family=\"Helvetica,sans-Serif\" font-size=\"14.00\" fill=\"#000000\">value = [9, 0]</text>\n<text text-anchor=\"middle\" x=\"1742\" y=\"-7.8\" font-family=\"Helvetica,sans-Serif\" font-size=\"14.00\" fill=\"#000000\">class = H</text>\n</g>\n<!-- 26&#45;&gt;28 -->\n<g id=\"edge28\" class=\"edge\">\n<title>26&#45;&gt;28</title>\n<path fill=\"none\" stroke=\"#000000\" d=\"M1660.4229,-88.9777C1672.977,-79.3629 1686.6119,-68.9203 1699.076,-59.3743\"/>\n<polygon fill=\"#000000\" stroke=\"#000000\" points=\"1701.2635,-62.1076 1707.0745,-53.2485 1697.0073,-56.5502 1701.2635,-62.1076\"/>\n</g>\n<!-- 31 -->\n<g id=\"node32\" class=\"node\">\n<title>31</title>\n<polygon fill=\"#c0e0f7\" stroke=\"#000000\" points=\"2395,-365 2201,-365 2201,-297 2395,-297 2395,-365\"/>\n<text text-anchor=\"middle\" x=\"2298\" y=\"-349.8\" font-family=\"Helvetica,sans-Serif\" font-size=\"14.00\" fill=\"#000000\">연령대코드(5세단위) &lt;= 11.5</text>\n<text text-anchor=\"middle\" x=\"2298\" y=\"-334.8\" font-family=\"Helvetica,sans-Serif\" font-size=\"14.00\" fill=\"#000000\">samples = 400</text>\n<text text-anchor=\"middle\" x=\"2298\" y=\"-319.8\" font-family=\"Helvetica,sans-Serif\" font-size=\"14.00\" fill=\"#000000\">value = [162, 238]</text>\n<text text-anchor=\"middle\" x=\"2298\" y=\"-304.8\" font-family=\"Helvetica,sans-Serif\" font-size=\"14.00\" fill=\"#000000\">class = NH</text>\n</g>\n<!-- 30&#45;&gt;31 -->\n<g id=\"edge31\" class=\"edge\">\n<title>30&#45;&gt;31</title>\n<path fill=\"none\" stroke=\"#000000\" d=\"M2298,-400.9465C2298,-392.776 2298,-383.9318 2298,-375.3697\"/>\n<polygon fill=\"#000000\" stroke=\"#000000\" points=\"2301.5001,-375.13 2298,-365.13 2294.5001,-375.13 2301.5001,-375.13\"/>\n</g>\n<!-- 46 -->\n<g id=\"node47\" class=\"node\">\n<title>46</title>\n<polygon fill=\"#f8ddc9\" stroke=\"#000000\" points=\"3190,-365 3018,-365 3018,-297 3190,-297 3190,-365\"/>\n<text text-anchor=\"middle\" x=\"3104\" y=\"-349.8\" font-family=\"Helvetica,sans-Serif\" font-size=\"14.00\" fill=\"#000000\">(혈청지오티)ALT &lt;= 51.5</text>\n<text text-anchor=\"middle\" x=\"3104\" y=\"-334.8\" font-family=\"Helvetica,sans-Serif\" font-size=\"14.00\" fill=\"#000000\">samples = 1532</text>\n<text text-anchor=\"middle\" x=\"3104\" y=\"-319.8\" font-family=\"Helvetica,sans-Serif\" font-size=\"14.00\" fill=\"#000000\">value = [887, 645]</text>\n<text text-anchor=\"middle\" x=\"3104\" y=\"-304.8\" font-family=\"Helvetica,sans-Serif\" font-size=\"14.00\" fill=\"#000000\">class = H</text>\n</g>\n<!-- 30&#45;&gt;46 -->\n<g id=\"edge46\" class=\"edge\">\n<title>30&#45;&gt;46</title>\n<path fill=\"none\" stroke=\"#000000\" d=\"M2368.1172,-425.9526C2512.5474,-407.3165 2843.4241,-364.6227 3007.7491,-343.4195\"/>\n<polygon fill=\"#000000\" stroke=\"#000000\" points=\"3008.3785,-346.8674 3017.8484,-342.1163 3007.4827,-339.9249 3008.3785,-346.8674\"/>\n</g>\n<!-- 32 -->\n<g id=\"node33\" class=\"node\">\n<title>32</title>\n<polygon fill=\"#8dc7f0\" stroke=\"#000000\" points=\"2298.5,-261 2113.5,-261 2113.5,-193 2298.5,-193 2298.5,-261\"/>\n<text text-anchor=\"middle\" x=\"2206\" y=\"-245.8\" font-family=\"Helvetica,sans-Serif\" font-size=\"14.00\" fill=\"#000000\">트리글리세라이드 &lt;= 199.5</text>\n<text text-anchor=\"middle\" x=\"2206\" y=\"-230.8\" font-family=\"Helvetica,sans-Serif\" font-size=\"14.00\" fill=\"#000000\">samples = 191</text>\n<text text-anchor=\"middle\" x=\"2206\" y=\"-215.8\" font-family=\"Helvetica,sans-Serif\" font-size=\"14.00\" fill=\"#000000\">value = [57, 134]</text>\n<text text-anchor=\"middle\" x=\"2206\" y=\"-200.8\" font-family=\"Helvetica,sans-Serif\" font-size=\"14.00\" fill=\"#000000\">class = NH</text>\n</g>\n<!-- 31&#45;&gt;32 -->\n<g id=\"edge32\" class=\"edge\">\n<title>31&#45;&gt;32</title>\n<path fill=\"none\" stroke=\"#000000\" d=\"M2267.8758,-296.9465C2259.9332,-287.968 2251.2709,-278.1758 2243.011,-268.8385\"/>\n<polygon fill=\"#000000\" stroke=\"#000000\" points=\"2245.4392,-266.301 2236.1919,-261.13 2240.1962,-270.939 2245.4392,-266.301\"/>\n</g>\n<!-- 39 -->\n<g id=\"node40\" class=\"node\">\n<title>39</title>\n<polygon fill=\"#fffefd\" stroke=\"#000000\" points=\"2500.5,-261 2355.5,-261 2355.5,-193 2500.5,-193 2500.5,-261\"/>\n<text text-anchor=\"middle\" x=\"2428\" y=\"-245.8\" font-family=\"Helvetica,sans-Serif\" font-size=\"14.00\" fill=\"#000000\">수축기혈압 &lt;= 119.5</text>\n<text text-anchor=\"middle\" x=\"2428\" y=\"-230.8\" font-family=\"Helvetica,sans-Serif\" font-size=\"14.00\" fill=\"#000000\">samples = 209</text>\n<text text-anchor=\"middle\" x=\"2428\" y=\"-215.8\" font-family=\"Helvetica,sans-Serif\" font-size=\"14.00\" fill=\"#000000\">value = [105, 104]</text>\n<text text-anchor=\"middle\" x=\"2428\" y=\"-200.8\" font-family=\"Helvetica,sans-Serif\" font-size=\"14.00\" fill=\"#000000\">class = H</text>\n</g>\n<!-- 31&#45;&gt;39 -->\n<g id=\"edge39\" class=\"edge\">\n<title>31&#45;&gt;39</title>\n<path fill=\"none\" stroke=\"#000000\" d=\"M2340.5669,-296.9465C2352.3512,-287.519 2365.2568,-277.1946 2377.4481,-267.4415\"/>\n<polygon fill=\"#000000\" stroke=\"#000000\" points=\"2379.7152,-270.11 2385.3375,-261.13 2375.3423,-264.6439 2379.7152,-270.11\"/>\n</g>\n<!-- 33 -->\n<g id=\"node34\" class=\"node\">\n<title>33</title>\n<polygon fill=\"#7ebfee\" stroke=\"#000000\" points=\"2064,-157 1940,-157 1940,-89 2064,-89 2064,-157\"/>\n<text text-anchor=\"middle\" x=\"2002\" y=\"-141.8\" font-family=\"Helvetica,sans-Serif\" font-size=\"14.00\" fill=\"#000000\">혈색소 &lt;= 14.65</text>\n<text text-anchor=\"middle\" x=\"2002\" y=\"-126.8\" font-family=\"Helvetica,sans-Serif\" font-size=\"14.00\" fill=\"#000000\">samples = 171</text>\n<text text-anchor=\"middle\" x=\"2002\" y=\"-111.8\" font-family=\"Helvetica,sans-Serif\" font-size=\"14.00\" fill=\"#000000\">value = [44, 127]</text>\n<text text-anchor=\"middle\" x=\"2002\" y=\"-96.8\" font-family=\"Helvetica,sans-Serif\" font-size=\"14.00\" fill=\"#000000\">class = NH</text>\n</g>\n<!-- 32&#45;&gt;33 -->\n<g id=\"edge33\" class=\"edge\">\n<title>32&#45;&gt;33</title>\n<path fill=\"none\" stroke=\"#000000\" d=\"M2139.2028,-192.9465C2118.0542,-182.1649 2094.6042,-170.21 2073.1613,-159.2783\"/>\n<polygon fill=\"#000000\" stroke=\"#000000\" points=\"2074.6057,-156.0861 2064.107,-154.6624 2071.4264,-162.3225 2074.6057,-156.0861\"/>\n</g>\n<!-- 36 -->\n<g id=\"node37\" class=\"node\">\n<title>36</title>\n<polygon fill=\"#f3c5a4\" stroke=\"#000000\" points=\"2287,-157 2125,-157 2125,-89 2287,-89 2287,-157\"/>\n<text text-anchor=\"middle\" x=\"2206\" y=\"-141.8\" font-family=\"Helvetica,sans-Serif\" font-size=\"14.00\" fill=\"#000000\">체중(5Kg 단위) &lt;= 52.5</text>\n<text text-anchor=\"middle\" x=\"2206\" y=\"-126.8\" font-family=\"Helvetica,sans-Serif\" font-size=\"14.00\" fill=\"#000000\">samples = 20</text>\n<text text-anchor=\"middle\" x=\"2206\" y=\"-111.8\" font-family=\"Helvetica,sans-Serif\" font-size=\"14.00\" fill=\"#000000\">value = [13, 7]</text>\n<text text-anchor=\"middle\" x=\"2206\" y=\"-96.8\" font-family=\"Helvetica,sans-Serif\" font-size=\"14.00\" fill=\"#000000\">class = H</text>\n</g>\n<!-- 32&#45;&gt;36 -->\n<g id=\"edge36\" class=\"edge\">\n<title>32&#45;&gt;36</title>\n<path fill=\"none\" stroke=\"#000000\" d=\"M2206,-192.9465C2206,-184.776 2206,-175.9318 2206,-167.3697\"/>\n<polygon fill=\"#000000\" stroke=\"#000000\" points=\"2209.5001,-167.13 2206,-157.13 2202.5001,-167.13 2209.5001,-167.13\"/>\n</g>\n<!-- 34 -->\n<g id=\"node35\" class=\"node\">\n<title>34</title>\n<polygon fill=\"#66b3eb\" stroke=\"#000000\" points=\"1926,-53 1810,-53 1810,0 1926,0 1926,-53\"/>\n<text text-anchor=\"middle\" x=\"1868\" y=\"-37.8\" font-family=\"Helvetica,sans-Serif\" font-size=\"14.00\" fill=\"#000000\">samples = 119</text>\n<text text-anchor=\"middle\" x=\"1868\" y=\"-22.8\" font-family=\"Helvetica,sans-Serif\" font-size=\"14.00\" fill=\"#000000\">value = [22, 97]</text>\n<text text-anchor=\"middle\" x=\"1868\" y=\"-7.8\" font-family=\"Helvetica,sans-Serif\" font-size=\"14.00\" fill=\"#000000\">class = NH</text>\n</g>\n<!-- 33&#45;&gt;34 -->\n<g id=\"edge34\" class=\"edge\">\n<title>33&#45;&gt;34</title>\n<path fill=\"none\" stroke=\"#000000\" d=\"M1954.7566,-88.9777C1941.2783,-79.2713 1926.6285,-68.7213 1913.2709,-59.1018\"/>\n<polygon fill=\"#000000\" stroke=\"#000000\" points=\"1915.3031,-56.2522 1905.143,-53.2485 1911.2124,-61.9325 1915.3031,-56.2522\"/>\n</g>\n<!-- 35 -->\n<g id=\"node36\" class=\"node\">\n<title>35</title>\n<polygon fill=\"#cae5f8\" stroke=\"#000000\" points=\"2060,-53 1944,-53 1944,0 2060,0 2060,-53\"/>\n<text text-anchor=\"middle\" x=\"2002\" y=\"-37.8\" font-family=\"Helvetica,sans-Serif\" font-size=\"14.00\" fill=\"#000000\">samples = 52</text>\n<text text-anchor=\"middle\" x=\"2002\" y=\"-22.8\" font-family=\"Helvetica,sans-Serif\" font-size=\"14.00\" fill=\"#000000\">value = [22, 30]</text>\n<text text-anchor=\"middle\" x=\"2002\" y=\"-7.8\" font-family=\"Helvetica,sans-Serif\" font-size=\"14.00\" fill=\"#000000\">class = NH</text>\n</g>\n<!-- 33&#45;&gt;35 -->\n<g id=\"edge35\" class=\"edge\">\n<title>33&#45;&gt;35</title>\n<path fill=\"none\" stroke=\"#000000\" d=\"M2002,-88.9777C2002,-80.7364 2002,-71.887 2002,-63.5153\"/>\n<polygon fill=\"#000000\" stroke=\"#000000\" points=\"2005.5001,-63.2484 2002,-53.2485 1998.5001,-63.2485 2005.5001,-63.2484\"/>\n</g>\n<!-- 37 -->\n<g id=\"node38\" class=\"node\">\n<title>37</title>\n<polygon fill=\"#b0d8f5\" stroke=\"#000000\" points=\"2177.5,-53 2078.5,-53 2078.5,0 2177.5,0 2177.5,-53\"/>\n<text text-anchor=\"middle\" x=\"2128\" y=\"-37.8\" font-family=\"Helvetica,sans-Serif\" font-size=\"14.00\" fill=\"#000000\">samples = 8</text>\n<text text-anchor=\"middle\" x=\"2128\" y=\"-22.8\" font-family=\"Helvetica,sans-Serif\" font-size=\"14.00\" fill=\"#000000\">value = [3, 5]</text>\n<text text-anchor=\"middle\" x=\"2128\" y=\"-7.8\" font-family=\"Helvetica,sans-Serif\" font-size=\"14.00\" fill=\"#000000\">class = NH</text>\n</g>\n<!-- 36&#45;&gt;37 -->\n<g id=\"edge37\" class=\"edge\">\n<title>36&#45;&gt;37</title>\n<path fill=\"none\" stroke=\"#000000\" d=\"M2178.5001,-88.9777C2171.2467,-80.0039 2163.4103,-70.3089 2156.1244,-61.295\"/>\n<polygon fill=\"#000000\" stroke=\"#000000\" points=\"2158.6288,-58.8255 2149.6205,-53.2485 2153.1847,-63.2258 2158.6288,-58.8255\"/>\n</g>\n<!-- 38 -->\n<g id=\"node39\" class=\"node\">\n<title>38</title>\n<polygon fill=\"#ea9a61\" stroke=\"#000000\" points=\"2302.5,-53 2195.5,-53 2195.5,0 2302.5,0 2302.5,-53\"/>\n<text text-anchor=\"middle\" x=\"2249\" y=\"-37.8\" font-family=\"Helvetica,sans-Serif\" font-size=\"14.00\" fill=\"#000000\">samples = 12</text>\n<text text-anchor=\"middle\" x=\"2249\" y=\"-22.8\" font-family=\"Helvetica,sans-Serif\" font-size=\"14.00\" fill=\"#000000\">value = [10, 2]</text>\n<text text-anchor=\"middle\" x=\"2249\" y=\"-7.8\" font-family=\"Helvetica,sans-Serif\" font-size=\"14.00\" fill=\"#000000\">class = H</text>\n</g>\n<!-- 36&#45;&gt;38 -->\n<g id=\"edge38\" class=\"edge\">\n<title>36&#45;&gt;38</title>\n<path fill=\"none\" stroke=\"#000000\" d=\"M2221.1602,-88.9777C2224.9957,-80.3702 2229.1268,-71.0992 2233.0022,-62.402\"/>\n<polygon fill=\"#000000\" stroke=\"#000000\" points=\"2236.2077,-63.8073 2237.081,-53.2485 2229.8138,-60.9581 2236.2077,-63.8073\"/>\n</g>\n<!-- 40 -->\n<g id=\"node41\" class=\"node\">\n<title>40</title>\n<polygon fill=\"#b7dbf6\" stroke=\"#000000\" points=\"2511,-157 2345,-157 2345,-89 2511,-89 2511,-157\"/>\n<text text-anchor=\"middle\" x=\"2428\" y=\"-141.8\" font-family=\"Helvetica,sans-Serif\" font-size=\"14.00\" fill=\"#000000\">HDL콜레스테롤 &lt;= 37.5</text>\n<text text-anchor=\"middle\" x=\"2428\" y=\"-126.8\" font-family=\"Helvetica,sans-Serif\" font-size=\"14.00\" fill=\"#000000\">samples = 72</text>\n<text text-anchor=\"middle\" x=\"2428\" y=\"-111.8\" font-family=\"Helvetica,sans-Serif\" font-size=\"14.00\" fill=\"#000000\">value = [28, 44]</text>\n<text text-anchor=\"middle\" x=\"2428\" y=\"-96.8\" font-family=\"Helvetica,sans-Serif\" font-size=\"14.00\" fill=\"#000000\">class = NH</text>\n</g>\n<!-- 39&#45;&gt;40 -->\n<g id=\"edge40\" class=\"edge\">\n<title>39&#45;&gt;40</title>\n<path fill=\"none\" stroke=\"#000000\" d=\"M2428,-192.9465C2428,-184.776 2428,-175.9318 2428,-167.3697\"/>\n<polygon fill=\"#000000\" stroke=\"#000000\" points=\"2431.5001,-167.13 2428,-157.13 2424.5001,-167.13 2431.5001,-167.13\"/>\n</g>\n<!-- 43 -->\n<g id=\"node44\" class=\"node\">\n<title>43</title>\n<polygon fill=\"#f9e3d3\" stroke=\"#000000\" points=\"2685,-157 2567,-157 2567,-89 2685,-89 2685,-157\"/>\n<text text-anchor=\"middle\" x=\"2626\" y=\"-141.8\" font-family=\"Helvetica,sans-Serif\" font-size=\"14.00\" fill=\"#000000\">혈색소 &lt;= 12.95</text>\n<text text-anchor=\"middle\" x=\"2626\" y=\"-126.8\" font-family=\"Helvetica,sans-Serif\" font-size=\"14.00\" fill=\"#000000\">samples = 137</text>\n<text text-anchor=\"middle\" x=\"2626\" y=\"-111.8\" font-family=\"Helvetica,sans-Serif\" font-size=\"14.00\" fill=\"#000000\">value = [77, 60]</text>\n<text text-anchor=\"middle\" x=\"2626\" y=\"-96.8\" font-family=\"Helvetica,sans-Serif\" font-size=\"14.00\" fill=\"#000000\">class = H</text>\n</g>\n<!-- 39&#45;&gt;43 -->\n<g id=\"edge43\" class=\"edge\">\n<title>39&#45;&gt;43</title>\n<path fill=\"none\" stroke=\"#000000\" d=\"M2492.8326,-192.9465C2513.6553,-182.0094 2536.7765,-169.8649 2557.8309,-158.806\"/>\n<polygon fill=\"#000000\" stroke=\"#000000\" points=\"2559.4895,-161.8883 2566.715,-154.1396 2556.2344,-155.6911 2559.4895,-161.8883\"/>\n</g>\n<!-- 41 -->\n<g id=\"node42\" class=\"node\">\n<title>41</title>\n<polygon fill=\"#e58139\" stroke=\"#000000\" points=\"2419.5,-53 2320.5,-53 2320.5,0 2419.5,0 2419.5,-53\"/>\n<text text-anchor=\"middle\" x=\"2370\" y=\"-37.8\" font-family=\"Helvetica,sans-Serif\" font-size=\"14.00\" fill=\"#000000\">samples = 5</text>\n<text text-anchor=\"middle\" x=\"2370\" y=\"-22.8\" font-family=\"Helvetica,sans-Serif\" font-size=\"14.00\" fill=\"#000000\">value = [5, 0]</text>\n<text text-anchor=\"middle\" x=\"2370\" y=\"-7.8\" font-family=\"Helvetica,sans-Serif\" font-size=\"14.00\" fill=\"#000000\">class = H</text>\n</g>\n<!-- 40&#45;&gt;41 -->\n<g id=\"edge41\" class=\"edge\">\n<title>40&#45;&gt;41</title>\n<path fill=\"none\" stroke=\"#000000\" d=\"M2407.5514,-88.9777C2402.2678,-80.187 2396.5684,-70.7044 2391.2452,-61.8477\"/>\n<polygon fill=\"#000000\" stroke=\"#000000\" points=\"2394.2282,-60.0165 2386.0768,-53.2485 2388.2285,-63.6225 2394.2282,-60.0165\"/>\n</g>\n<!-- 42 -->\n<g id=\"node43\" class=\"node\">\n<title>42</title>\n<polygon fill=\"#a0d0f3\" stroke=\"#000000\" points=\"2554,-53 2438,-53 2438,0 2554,0 2554,-53\"/>\n<text text-anchor=\"middle\" x=\"2496\" y=\"-37.8\" font-family=\"Helvetica,sans-Serif\" font-size=\"14.00\" fill=\"#000000\">samples = 67</text>\n<text text-anchor=\"middle\" x=\"2496\" y=\"-22.8\" font-family=\"Helvetica,sans-Serif\" font-size=\"14.00\" fill=\"#000000\">value = [23, 44]</text>\n<text text-anchor=\"middle\" x=\"2496\" y=\"-7.8\" font-family=\"Helvetica,sans-Serif\" font-size=\"14.00\" fill=\"#000000\">class = NH</text>\n</g>\n<!-- 40&#45;&gt;42 -->\n<g id=\"edge42\" class=\"edge\">\n<title>40&#45;&gt;42</title>\n<path fill=\"none\" stroke=\"#000000\" d=\"M2451.9743,-88.9777C2458.2333,-80.0954 2464.9901,-70.5067 2471.2867,-61.5711\"/>\n<polygon fill=\"#000000\" stroke=\"#000000\" points=\"2474.2521,-63.4389 2477.1513,-53.2485 2468.5301,-59.4068 2474.2521,-63.4389\"/>\n</g>\n<!-- 44 -->\n<g id=\"node45\" class=\"node\">\n<title>44</title>\n<polygon fill=\"#92c9f1\" stroke=\"#000000\" points=\"2679.5,-53 2572.5,-53 2572.5,0 2679.5,0 2679.5,-53\"/>\n<text text-anchor=\"middle\" x=\"2626\" y=\"-37.8\" font-family=\"Helvetica,sans-Serif\" font-size=\"14.00\" fill=\"#000000\">samples = 29</text>\n<text text-anchor=\"middle\" x=\"2626\" y=\"-22.8\" font-family=\"Helvetica,sans-Serif\" font-size=\"14.00\" fill=\"#000000\">value = [9, 20]</text>\n<text text-anchor=\"middle\" x=\"2626\" y=\"-7.8\" font-family=\"Helvetica,sans-Serif\" font-size=\"14.00\" fill=\"#000000\">class = NH</text>\n</g>\n<!-- 43&#45;&gt;44 -->\n<g id=\"edge44\" class=\"edge\">\n<title>43&#45;&gt;44</title>\n<path fill=\"none\" stroke=\"#000000\" d=\"M2626,-88.9777C2626,-80.7364 2626,-71.887 2626,-63.5153\"/>\n<polygon fill=\"#000000\" stroke=\"#000000\" points=\"2629.5001,-63.2484 2626,-53.2485 2622.5001,-63.2485 2629.5001,-63.2484\"/>\n</g>\n<!-- 45 -->\n<g id=\"node46\" class=\"node\">\n<title>45</title>\n<polygon fill=\"#f4cbad\" stroke=\"#000000\" points=\"2814,-53 2698,-53 2698,0 2814,0 2814,-53\"/>\n<text text-anchor=\"middle\" x=\"2756\" y=\"-37.8\" font-family=\"Helvetica,sans-Serif\" font-size=\"14.00\" fill=\"#000000\">samples = 108</text>\n<text text-anchor=\"middle\" x=\"2756\" y=\"-22.8\" font-family=\"Helvetica,sans-Serif\" font-size=\"14.00\" fill=\"#000000\">value = [68, 40]</text>\n<text text-anchor=\"middle\" x=\"2756\" y=\"-7.8\" font-family=\"Helvetica,sans-Serif\" font-size=\"14.00\" fill=\"#000000\">class = H</text>\n</g>\n<!-- 43&#45;&gt;45 -->\n<g id=\"edge45\" class=\"edge\">\n<title>43&#45;&gt;45</title>\n<path fill=\"none\" stroke=\"#000000\" d=\"M2671.8331,-88.9777C2684.7857,-79.3629 2698.8535,-68.9203 2711.7133,-59.3743\"/>\n<polygon fill=\"#000000\" stroke=\"#000000\" points=\"2714.0224,-62.0193 2719.9658,-53.2485 2709.8501,-56.3986 2714.0224,-62.0193\"/>\n</g>\n<!-- 47 -->\n<g id=\"node48\" class=\"node\">\n<title>47</title>\n<polygon fill=\"#fae5d6\" stroke=\"#000000\" points=\"3176.5,-261 3031.5,-261 3031.5,-193 3176.5,-193 3176.5,-261\"/>\n<text text-anchor=\"middle\" x=\"3104\" y=\"-245.8\" font-family=\"Helvetica,sans-Serif\" font-size=\"14.00\" fill=\"#000000\">수축기혈압 &lt;= 116.5</text>\n<text text-anchor=\"middle\" x=\"3104\" y=\"-230.8\" font-family=\"Helvetica,sans-Serif\" font-size=\"14.00\" fill=\"#000000\">samples = 1347</text>\n<text text-anchor=\"middle\" x=\"3104\" y=\"-215.8\" font-family=\"Helvetica,sans-Serif\" font-size=\"14.00\" fill=\"#000000\">value = [751, 596]</text>\n<text text-anchor=\"middle\" x=\"3104\" y=\"-200.8\" font-family=\"Helvetica,sans-Serif\" font-size=\"14.00\" fill=\"#000000\">class = H</text>\n</g>\n<!-- 46&#45;&gt;47 -->\n<g id=\"edge47\" class=\"edge\">\n<title>46&#45;&gt;47</title>\n<path fill=\"none\" stroke=\"#000000\" d=\"M3104,-296.9465C3104,-288.776 3104,-279.9318 3104,-271.3697\"/>\n<polygon fill=\"#000000\" stroke=\"#000000\" points=\"3107.5001,-271.13 3104,-261.13 3100.5001,-271.13 3107.5001,-271.13\"/>\n</g>\n<!-- 54 -->\n<g id=\"node55\" class=\"node\">\n<title>54</title>\n<polygon fill=\"#eeae80\" stroke=\"#000000\" points=\"3567,-261 3409,-261 3409,-193 3567,-193 3567,-261\"/>\n<text text-anchor=\"middle\" x=\"3488\" y=\"-245.8\" font-family=\"Helvetica,sans-Serif\" font-size=\"14.00\" fill=\"#000000\">총콜레스테롤 &lt;= 177.0</text>\n<text text-anchor=\"middle\" x=\"3488\" y=\"-230.8\" font-family=\"Helvetica,sans-Serif\" font-size=\"14.00\" fill=\"#000000\">samples = 185</text>\n<text text-anchor=\"middle\" x=\"3488\" y=\"-215.8\" font-family=\"Helvetica,sans-Serif\" font-size=\"14.00\" fill=\"#000000\">value = [136, 49]</text>\n<text text-anchor=\"middle\" x=\"3488\" y=\"-200.8\" font-family=\"Helvetica,sans-Serif\" font-size=\"14.00\" fill=\"#000000\">class = H</text>\n</g>\n<!-- 46&#45;&gt;54 -->\n<g id=\"edge54\" class=\"edge\">\n<title>46&#45;&gt;54</title>\n<path fill=\"none\" stroke=\"#000000\" d=\"M3190.1771,-307.6604C3252.4112,-290.8053 3336.2171,-268.1079 3399.0742,-251.0841\"/>\n<polygon fill=\"#000000\" stroke=\"#000000\" points=\"3400.2387,-254.3949 3408.9759,-248.4023 3398.4087,-247.6383 3400.2387,-254.3949\"/>\n</g>\n<!-- 48 -->\n<g id=\"node49\" class=\"node\">\n<title>48</title>\n<polygon fill=\"#d0e8f9\" stroke=\"#000000\" points=\"3100,-157 2914,-157 2914,-89 3100,-89 3100,-157\"/>\n<text text-anchor=\"middle\" x=\"3007\" y=\"-141.8\" font-family=\"Helvetica,sans-Serif\" font-size=\"14.00\" fill=\"#000000\">연령대코드(5세단위) &lt;= 9.5</text>\n<text text-anchor=\"middle\" x=\"3007\" y=\"-126.8\" font-family=\"Helvetica,sans-Serif\" font-size=\"14.00\" fill=\"#000000\">samples = 294</text>\n<text text-anchor=\"middle\" x=\"3007\" y=\"-111.8\" font-family=\"Helvetica,sans-Serif\" font-size=\"14.00\" fill=\"#000000\">value = [127, 167]</text>\n<text text-anchor=\"middle\" x=\"3007\" y=\"-96.8\" font-family=\"Helvetica,sans-Serif\" font-size=\"14.00\" fill=\"#000000\">class = NH</text>\n</g>\n<!-- 47&#45;&gt;48 -->\n<g id=\"edge48\" class=\"edge\">\n<title>47&#45;&gt;48</title>\n<path fill=\"none\" stroke=\"#000000\" d=\"M3072.2386,-192.9465C3063.7806,-183.8782 3054.5486,-173.9799 3045.7613,-164.5585\"/>\n<polygon fill=\"#000000\" stroke=\"#000000\" points=\"3048.213,-162.0557 3038.8328,-157.13 3043.094,-166.8302 3048.213,-162.0557\"/>\n</g>\n<!-- 51 -->\n<g id=\"node52\" class=\"node\">\n<title>51</title>\n<polygon fill=\"#f7d8c1\" stroke=\"#000000\" points=\"3282,-157 3118,-157 3118,-89 3282,-89 3282,-157\"/>\n<text text-anchor=\"middle\" x=\"3200\" y=\"-141.8\" font-family=\"Helvetica,sans-Serif\" font-size=\"14.00\" fill=\"#000000\">혈청크레아티닌 &lt;= 0.65</text>\n<text text-anchor=\"middle\" x=\"3200\" y=\"-126.8\" font-family=\"Helvetica,sans-Serif\" font-size=\"14.00\" fill=\"#000000\">samples = 1053</text>\n<text text-anchor=\"middle\" x=\"3200\" y=\"-111.8\" font-family=\"Helvetica,sans-Serif\" font-size=\"14.00\" fill=\"#000000\">value = [624, 429]</text>\n<text text-anchor=\"middle\" x=\"3200\" y=\"-96.8\" font-family=\"Helvetica,sans-Serif\" font-size=\"14.00\" fill=\"#000000\">class = H</text>\n</g>\n<!-- 47&#45;&gt;51 -->\n<g id=\"edge51\" class=\"edge\">\n<title>47&#45;&gt;51</title>\n<path fill=\"none\" stroke=\"#000000\" d=\"M3135.434,-192.9465C3143.8047,-183.8782 3152.9416,-173.9799 3161.6383,-164.5585\"/>\n<polygon fill=\"#000000\" stroke=\"#000000\" points=\"3164.2844,-166.852 3168.4954,-157.13 3159.1407,-162.1041 3164.2844,-166.852\"/>\n</g>\n<!-- 49 -->\n<g id=\"node50\" class=\"node\">\n<title>49</title>\n<polygon fill=\"#75bbed\" stroke=\"#000000\" points=\"2948,-53 2832,-53 2832,0 2948,0 2948,-53\"/>\n<text text-anchor=\"middle\" x=\"2890\" y=\"-37.8\" font-family=\"Helvetica,sans-Serif\" font-size=\"14.00\" fill=\"#000000\">samples = 82</text>\n<text text-anchor=\"middle\" x=\"2890\" y=\"-22.8\" font-family=\"Helvetica,sans-Serif\" font-size=\"14.00\" fill=\"#000000\">value = [19, 63]</text>\n<text text-anchor=\"middle\" x=\"2890\" y=\"-7.8\" font-family=\"Helvetica,sans-Serif\" font-size=\"14.00\" fill=\"#000000\">class = NH</text>\n</g>\n<!-- 48&#45;&gt;49 -->\n<g id=\"edge49\" class=\"edge\">\n<title>48&#45;&gt;49</title>\n<path fill=\"none\" stroke=\"#000000\" d=\"M2965.7502,-88.9777C2954.2039,-79.4545 2941.6729,-69.1191 2930.189,-59.6473\"/>\n<polygon fill=\"#000000\" stroke=\"#000000\" points=\"2932.3724,-56.9113 2922.4308,-53.2485 2927.9184,-62.3115 2932.3724,-56.9113\"/>\n</g>\n<!-- 50 -->\n<g id=\"node51\" class=\"node\">\n<title>50</title>\n<polygon fill=\"#fefaf8\" stroke=\"#000000\" points=\"3098,-53 2966,-53 2966,0 3098,0 3098,-53\"/>\n<text text-anchor=\"middle\" x=\"3032\" y=\"-37.8\" font-family=\"Helvetica,sans-Serif\" font-size=\"14.00\" fill=\"#000000\">samples = 212</text>\n<text text-anchor=\"middle\" x=\"3032\" y=\"-22.8\" font-family=\"Helvetica,sans-Serif\" font-size=\"14.00\" fill=\"#000000\">value = [108, 104]</text>\n<text text-anchor=\"middle\" x=\"3032\" y=\"-7.8\" font-family=\"Helvetica,sans-Serif\" font-size=\"14.00\" fill=\"#000000\">class = H</text>\n</g>\n<!-- 48&#45;&gt;50 -->\n<g id=\"edge50\" class=\"edge\">\n<title>48&#45;&gt;50</title>\n<path fill=\"none\" stroke=\"#000000\" d=\"M3015.8141,-88.9777C3017.9966,-80.5533 3020.3437,-71.4934 3022.5549,-62.9579\"/>\n<polygon fill=\"#000000\" stroke=\"#000000\" points=\"3025.9505,-63.8067 3025.0703,-53.2485 3019.1742,-62.0511 3025.9505,-63.8067\"/>\n</g>\n<!-- 52 -->\n<g id=\"node53\" class=\"node\">\n<title>52</title>\n<polygon fill=\"#d6ebfa\" stroke=\"#000000\" points=\"3232,-53 3116,-53 3116,0 3232,0 3232,-53\"/>\n<text text-anchor=\"middle\" x=\"3174\" y=\"-37.8\" font-family=\"Helvetica,sans-Serif\" font-size=\"14.00\" fill=\"#000000\">samples = 104</text>\n<text text-anchor=\"middle\" x=\"3174\" y=\"-22.8\" font-family=\"Helvetica,sans-Serif\" font-size=\"14.00\" fill=\"#000000\">value = [46, 58]</text>\n<text text-anchor=\"middle\" x=\"3174\" y=\"-7.8\" font-family=\"Helvetica,sans-Serif\" font-size=\"14.00\" fill=\"#000000\">class = NH</text>\n</g>\n<!-- 51&#45;&gt;52 -->\n<g id=\"edge52\" class=\"edge\">\n<title>51&#45;&gt;52</title>\n<path fill=\"none\" stroke=\"#000000\" d=\"M3190.8334,-88.9777C3188.5636,-80.5533 3186.1226,-71.4934 3183.8229,-62.9579\"/>\n<polygon fill=\"#000000\" stroke=\"#000000\" points=\"3187.1879,-61.9936 3181.2068,-53.2485 3180.429,-63.8147 3187.1879,-61.9936\"/>\n</g>\n<!-- 53 -->\n<g id=\"node54\" class=\"node\">\n<title>53</title>\n<polygon fill=\"#f6d2b8\" stroke=\"#000000\" points=\"3382,-53 3250,-53 3250,0 3382,0 3382,-53\"/>\n<text text-anchor=\"middle\" x=\"3316\" y=\"-37.8\" font-family=\"Helvetica,sans-Serif\" font-size=\"14.00\" fill=\"#000000\">samples = 949</text>\n<text text-anchor=\"middle\" x=\"3316\" y=\"-22.8\" font-family=\"Helvetica,sans-Serif\" font-size=\"14.00\" fill=\"#000000\">value = [578, 371]</text>\n<text text-anchor=\"middle\" x=\"3316\" y=\"-7.8\" font-family=\"Helvetica,sans-Serif\" font-size=\"14.00\" fill=\"#000000\">class = H</text>\n</g>\n<!-- 51&#45;&gt;53 -->\n<g id=\"edge53\" class=\"edge\">\n<title>51&#45;&gt;53</title>\n<path fill=\"none\" stroke=\"#000000\" d=\"M3240.8973,-88.9777C3252.3449,-79.4545 3264.7687,-69.1191 3276.1545,-59.6473\"/>\n<polygon fill=\"#000000\" stroke=\"#000000\" points=\"3278.3971,-62.3345 3283.8464,-53.2485 3273.9203,-56.9532 3278.3971,-62.3345\"/>\n</g>\n<!-- 55 -->\n<g id=\"node56\" class=\"node\">\n<title>55</title>\n<polygon fill=\"#e89254\" stroke=\"#000000\" points=\"3565.5,-157 3410.5,-157 3410.5,-89 3565.5,-89 3565.5,-157\"/>\n<text text-anchor=\"middle\" x=\"3488\" y=\"-141.8\" font-family=\"Helvetica,sans-Serif\" font-size=\"14.00\" fill=\"#000000\">혈청크레아티닌 &lt;= 0.3</text>\n<text text-anchor=\"middle\" x=\"3488\" y=\"-126.8\" font-family=\"Helvetica,sans-Serif\" font-size=\"14.00\" fill=\"#000000\">samples = 59</text>\n<text text-anchor=\"middle\" x=\"3488\" y=\"-111.8\" font-family=\"Helvetica,sans-Serif\" font-size=\"14.00\" fill=\"#000000\">value = [52, 7]</text>\n<text text-anchor=\"middle\" x=\"3488\" y=\"-96.8\" font-family=\"Helvetica,sans-Serif\" font-size=\"14.00\" fill=\"#000000\">class = H</text>\n</g>\n<!-- 54&#45;&gt;55 -->\n<g id=\"edge55\" class=\"edge\">\n<title>54&#45;&gt;55</title>\n<path fill=\"none\" stroke=\"#000000\" d=\"M3488,-192.9465C3488,-184.776 3488,-175.9318 3488,-167.3697\"/>\n<polygon fill=\"#000000\" stroke=\"#000000\" points=\"3491.5001,-167.13 3488,-157.13 3484.5001,-167.13 3491.5001,-167.13\"/>\n</g>\n<!-- 58 -->\n<g id=\"node59\" class=\"node\">\n<title>58</title>\n<polygon fill=\"#f2c09c\" stroke=\"#000000\" points=\"3780,-157 3622,-157 3622,-89 3780,-89 3780,-157\"/>\n<text text-anchor=\"middle\" x=\"3701\" y=\"-141.8\" font-family=\"Helvetica,sans-Serif\" font-size=\"14.00\" fill=\"#000000\">총콜레스테롤 &lt;= 264.0</text>\n<text text-anchor=\"middle\" x=\"3701\" y=\"-126.8\" font-family=\"Helvetica,sans-Serif\" font-size=\"14.00\" fill=\"#000000\">samples = 126</text>\n<text text-anchor=\"middle\" x=\"3701\" y=\"-111.8\" font-family=\"Helvetica,sans-Serif\" font-size=\"14.00\" fill=\"#000000\">value = [84, 42]</text>\n<text text-anchor=\"middle\" x=\"3701\" y=\"-96.8\" font-family=\"Helvetica,sans-Serif\" font-size=\"14.00\" fill=\"#000000\">class = H</text>\n</g>\n<!-- 54&#45;&gt;58 -->\n<g id=\"edge58\" class=\"edge\">\n<title>54&#45;&gt;58</title>\n<path fill=\"none\" stroke=\"#000000\" d=\"M3557.7442,-192.9465C3578.2476,-182.9354 3600.8227,-171.9129 3621.8682,-161.6371\"/>\n<polygon fill=\"#000000\" stroke=\"#000000\" points=\"3623.6487,-164.6627 3631.0991,-157.13 3620.5774,-158.3725 3623.6487,-164.6627\"/>\n</g>\n<!-- 56 -->\n<g id=\"node57\" class=\"node\">\n<title>56</title>\n<polygon fill=\"#399de5\" stroke=\"#000000\" points=\"3499.5,-53 3400.5,-53 3400.5,0 3499.5,0 3499.5,-53\"/>\n<text text-anchor=\"middle\" x=\"3450\" y=\"-37.8\" font-family=\"Helvetica,sans-Serif\" font-size=\"14.00\" fill=\"#000000\">samples = 1</text>\n<text text-anchor=\"middle\" x=\"3450\" y=\"-22.8\" font-family=\"Helvetica,sans-Serif\" font-size=\"14.00\" fill=\"#000000\">value = [0, 1]</text>\n<text text-anchor=\"middle\" x=\"3450\" y=\"-7.8\" font-family=\"Helvetica,sans-Serif\" font-size=\"14.00\" fill=\"#000000\">class = NH</text>\n</g>\n<!-- 55&#45;&gt;56 -->\n<g id=\"edge56\" class=\"edge\">\n<title>55&#45;&gt;56</title>\n<path fill=\"none\" stroke=\"#000000\" d=\"M3474.6026,-88.9777C3471.2492,-80.4617 3467.64,-71.2963 3464.247,-62.6798\"/>\n<polygon fill=\"#000000\" stroke=\"#000000\" points=\"3467.4537,-61.2707 3460.5331,-53.2485 3460.9405,-63.8355 3467.4537,-61.2707\"/>\n</g>\n<!-- 57 -->\n<g id=\"node58\" class=\"node\">\n<title>57</title>\n<polygon fill=\"#e89050\" stroke=\"#000000\" points=\"3624.5,-53 3517.5,-53 3517.5,0 3624.5,0 3624.5,-53\"/>\n<text text-anchor=\"middle\" x=\"3571\" y=\"-37.8\" font-family=\"Helvetica,sans-Serif\" font-size=\"14.00\" fill=\"#000000\">samples = 58</text>\n<text text-anchor=\"middle\" x=\"3571\" y=\"-22.8\" font-family=\"Helvetica,sans-Serif\" font-size=\"14.00\" fill=\"#000000\">value = [52, 6]</text>\n<text text-anchor=\"middle\" x=\"3571\" y=\"-7.8\" font-family=\"Helvetica,sans-Serif\" font-size=\"14.00\" fill=\"#000000\">class = H</text>\n</g>\n<!-- 55&#45;&gt;57 -->\n<g id=\"edge57\" class=\"edge\">\n<title>55&#45;&gt;57</title>\n<path fill=\"none\" stroke=\"#000000\" d=\"M3517.2627,-88.9777C3525.0599,-79.9123 3533.49,-70.111 3541.3099,-61.0192\"/>\n<polygon fill=\"#000000\" stroke=\"#000000\" points=\"3544.1262,-63.1123 3547.9935,-53.2485 3538.8191,-58.5477 3544.1262,-63.1123\"/>\n</g>\n<!-- 59 -->\n<g id=\"node60\" class=\"node\">\n<title>59</title>\n<polygon fill=\"#f5ceb2\" stroke=\"#000000\" points=\"3759,-53 3643,-53 3643,0 3759,0 3759,-53\"/>\n<text text-anchor=\"middle\" x=\"3701\" y=\"-37.8\" font-family=\"Helvetica,sans-Serif\" font-size=\"14.00\" fill=\"#000000\">samples = 111</text>\n<text text-anchor=\"middle\" x=\"3701\" y=\"-22.8\" font-family=\"Helvetica,sans-Serif\" font-size=\"14.00\" fill=\"#000000\">value = [69, 42]</text>\n<text text-anchor=\"middle\" x=\"3701\" y=\"-7.8\" font-family=\"Helvetica,sans-Serif\" font-size=\"14.00\" fill=\"#000000\">class = H</text>\n</g>\n<!-- 58&#45;&gt;59 -->\n<g id=\"edge59\" class=\"edge\">\n<title>58&#45;&gt;59</title>\n<path fill=\"none\" stroke=\"#000000\" d=\"M3701,-88.9777C3701,-80.7364 3701,-71.887 3701,-63.5153\"/>\n<polygon fill=\"#000000\" stroke=\"#000000\" points=\"3704.5001,-63.2484 3701,-53.2485 3697.5001,-63.2485 3704.5001,-63.2484\"/>\n</g>\n<!-- 60 -->\n<g id=\"node61\" class=\"node\">\n<title>60</title>\n<polygon fill=\"#e58139\" stroke=\"#000000\" points=\"3884.5,-53 3777.5,-53 3777.5,0 3884.5,0 3884.5,-53\"/>\n<text text-anchor=\"middle\" x=\"3831\" y=\"-37.8\" font-family=\"Helvetica,sans-Serif\" font-size=\"14.00\" fill=\"#000000\">samples = 15</text>\n<text text-anchor=\"middle\" x=\"3831\" y=\"-22.8\" font-family=\"Helvetica,sans-Serif\" font-size=\"14.00\" fill=\"#000000\">value = [15, 0]</text>\n<text text-anchor=\"middle\" x=\"3831\" y=\"-7.8\" font-family=\"Helvetica,sans-Serif\" font-size=\"14.00\" fill=\"#000000\">class = H</text>\n</g>\n<!-- 58&#45;&gt;60 -->\n<g id=\"edge60\" class=\"edge\">\n<title>58&#45;&gt;60</title>\n<path fill=\"none\" stroke=\"#000000\" d=\"M3746.8331,-88.9777C3759.7857,-79.3629 3773.8535,-68.9203 3786.7133,-59.3743\"/>\n<polygon fill=\"#000000\" stroke=\"#000000\" points=\"3789.0224,-62.0193 3794.9658,-53.2485 3784.8501,-56.3986 3789.0224,-62.0193\"/>\n</g>\n</g>\n</svg>\n"
          },
          "metadata": {}
        }
      ]
    },
    {
      "cell_type": "markdown",
      "source": [
        "변수의 중요도 파악"
      ],
      "metadata": {
        "id": "kGNwZAejcCH1"
      }
    },
    {
      "cell_type": "code",
      "source": [
        "result = tree.feature_importances_\n",
        "print(\"변수의 중요도:\\n\", result)"
      ],
      "metadata": {
        "colab": {
          "base_uri": "https://localhost:8080/"
        },
        "id": "Ar0pu5TxceHq",
        "outputId": "7078c5ff-be79-4cce-bc2a-9618047c5f8b"
      },
      "execution_count": null,
      "outputs": [
        {
          "output_type": "stream",
          "name": "stdout",
          "text": [
            "변수의 중요도:\n",
            " [0.         0.19114849 0.         0.00876863 0.08349227 0.\n",
            " 0.         0.         0.         0.12313976 0.         0.05321911\n",
            " 0.04717561 0.03816578 0.04314588 0.04933429 0.         0.06826641\n",
            " 0.         0.04461627 0.24952751 0.         0.        ]\n"
          ]
        }
      ]
    },
    {
      "cell_type": "code",
      "source": [
        "def plot_feature_importances_wisc(model):\n",
        "    plt.rcParams[\"figure.figsize\"] = (9,6)\n",
        "    n_features = len(health.columns[0:23])\n",
        "    plt.barh(np.arange(n_features), model.feature_importances_, align='center') \n",
        "    plt.yticks(np.arange(n_features), health.columns[0:23])\n",
        "    plt.xlabel(\"feature importance\")\n",
        "    plt.ylabel(\"feature\")\n",
        "    plt.ylim(-1, n_features)\n",
        "\n",
        "plot_feature_importances_wisc(tree)"
      ],
      "metadata": {
        "colab": {
          "base_uri": "https://localhost:8080/",
          "height": 389
        },
        "id": "esd8hi4Pco4n",
        "outputId": "2f3bc4b9-17c1-4468-ebf7-b6c888e288d0"
      },
      "execution_count": null,
      "outputs": [
        {
          "output_type": "display_data",
          "data": {
            "text/plain": [
              "<Figure size 648x432 with 1 Axes>"
            ],
            "image/png": "[encoded data removed]"
          },
          "metadata": {
            "needs_background": "light"
          }
        }
      ]
    },
    {
      "cell_type": "markdown",
      "source": [
        "# 2. 앙상블 모델"
      ],
      "metadata": {
        "id": "rs9D26LAZIVB"
      }
    },
    {
      "cell_type": "markdown",
      "source": [
        "(1) 랜덤 포레스트"
      ],
      "metadata": {
        "id": "XSTX1u8rcSGE"
      }
    },
    {
      "cell_type": "markdown",
      "source": [
        "성능 확인"
      ],
      "metadata": {
        "id": "xoPZlTONdSmd"
      }
    },
    {
      "cell_type": "code",
      "source": [
        "from sklearn.ensemble import RandomForestClassifier\n",
        "\n",
        "forest = RandomForestClassifier(n_estimators=100, random_state=0)\n",
        "forest.fit(x_train, y_train)\n",
        "\n",
        "print(\"학습용 데이터 세트 정확도: {:.3f}\".format(forest.score(x_train, y_train)))\n",
        "print(\"시험용 데이터 세트 정확도: {:.3f}\".format(forest.score(x_test, y_test)))"
      ],
      "metadata": {
        "colab": {
          "base_uri": "https://localhost:8080/"
        },
        "id": "PVA3G4tEZMU6",
        "outputId": "d5636026-85ea-4fbc-89d5-8bc293226f1e"
      },
      "execution_count": null,
      "outputs": [
        {
          "output_type": "stream",
          "name": "stdout",
          "text": [
            "학습용 데이터 세트 정확도: 1.000\n",
            "시험용 데이터 세트 정확도: 0.625\n"
          ]
        }
      ]
    },
    {
      "cell_type": "markdown",
      "source": [
        "사용된 변수 파악"
      ],
      "metadata": {
        "id": "SFNkxIqwdOgV"
      }
    },
    {
      "cell_type": "code",
      "source": [
        "plot_feature_importances_wisc(forest)"
      ],
      "metadata": {
        "colab": {
          "base_uri": "https://localhost:8080/",
          "height": 389
        },
        "id": "-tgQoi1ucPjN",
        "outputId": "a1ceaba2-505a-46e9-c2c3-82a7833d55aa"
      },
      "execution_count": null,
      "outputs": [
        {
          "output_type": "display_data",
          "data": {
            "text/plain": [
              "<Figure size 648x432 with 1 Axes>"
            ],
            "image/png": "[encoded data removed]"
          },
          "metadata": {
            "needs_background": "light"
          }
        }
      ]
    },
    {
      "cell_type": "markdown",
      "source": [
        "랜덤 포레스트와 의사결정나무 모델 비교"
      ],
      "metadata": {
        "id": "oqB5syUAdW0R"
      }
    },
    {
      "cell_type": "code",
      "source": [
        "from sklearn.model_selection import cross_val_score\n",
        "\n",
        "dt_scores = cross_val_score(tree, x_train, y_train, cv=10, scoring='accuracy')  \n",
        "rf_scores = cross_val_score(forest, x_train, y_train, cv=10, scoring='accuracy')\n",
        "\n",
        "print(\"Accuracy\")\n",
        "print(\"Decision tree: \", dt_scores) \n",
        "print(\"Random forest: \", rf_scores) \n",
        "\n",
        "print(\"Accuracy mean\")\n",
        "print(\"Decision tree :{:.3f}\".format(dt_scores.mean())) \n",
        "print(\"Random forest :{:.3f}\".format(rf_scores.mean())) "
      ],
      "metadata": {
        "colab": {
          "base_uri": "https://localhost:8080/"
        },
        "id": "XZJcnCfPZNVY",
        "outputId": "d84c3358-1d4f-407d-8929-32c8ad403393"
      },
      "execution_count": null,
      "outputs": [
        {
          "output_type": "stream",
          "name": "stdout",
          "text": [
            "Accuracy\n",
            "Decision tree:  [0.68350168 0.58922559 0.58922559 0.60942761 0.5959596  0.60606061\n",
            " 0.59121622 0.58783784 0.56756757 0.58108108]\n",
            "Random forest:  [0.67340067 0.64983165 0.60942761 0.64983165 0.6026936  0.66329966\n",
            " 0.59121622 0.61824324 0.59797297 0.58783784]\n",
            "Accuracy mean\n",
            "Decision tree :0.600\n",
            "Random forest :0.624\n"
          ]
        }
      ]
    },
    {
      "cell_type": "code",
      "source": [
        "cv_list = [    \n",
        "            ['decision_tree',dt_scores],\n",
        "            ['random_forest',rf_scores],\n",
        "          ]\n",
        "df = pd.DataFrame.from_dict(dict(cv_list))\n",
        "df.plot()"
      ],
      "metadata": {
        "colab": {
          "base_uri": "https://localhost:8080/",
          "height": 393
        },
        "id": "BG2KwM1dZMPI",
        "outputId": "b6960df8-b9c6-4c64-b6d5-d29ca5dd975b"
      },
      "execution_count": null,
      "outputs": [
        {
          "output_type": "execute_result",
          "data": {
            "text/plain": [
              "<matplotlib.axes._subplots.AxesSubplot at 0x7f22c7568910>"
            ]
          },
          "metadata": {},
          "execution_count": 18
        },
        {
          "output_type": "display_data",
          "data": {
            "text/plain": [
              "<Figure size 648x432 with 1 Axes>"
            ],
            "image/png": "[encoded data removed]"
          },
          "metadata": {
            "needs_background": "light"
          }
        }
      ]
    },
    {
      "cell_type": "markdown",
      "source": [
        "그래프 해석: 일반적으로 의사결정나무보다 랜덤 포레스트의 정확도가 더 높게 나타난다."
      ],
      "metadata": {
        "id": "FEYwMh7shDSA"
      }
    },
    {
      "cell_type": "markdown",
      "source": [
        "(2) 그래디언트 부스팅"
      ],
      "metadata": {
        "id": "l8hxnjVQcxdF"
      }
    },
    {
      "cell_type": "markdown",
      "source": [
        "성능 확인"
      ],
      "metadata": {
        "id": "FQ1jK-nndgyM"
      }
    },
    {
      "cell_type": "code",
      "source": [
        "from sklearn.ensemble import GradientBoostingClassifier\n",
        "# 기본값은 max_depth= 3, n_estimators=100, learning_rate = 0.1\n",
        "\n",
        "gbrt = GradientBoostingClassifier(random_state=0)\n",
        "gbrt.fit(x_train, y_train)\n",
        "\n",
        "print(\"학습용 데이터 세트 정확도: {:.3f}\".format(gbrt.score(x_train, y_train)))\n",
        "print(\"시험용 데이터 세트 정확도: {:.3f}\".format(gbrt.score(x_test, y_test)))"
      ],
      "metadata": {
        "colab": {
          "base_uri": "https://localhost:8080/"
        },
        "id": "0y2ku3KUc03t",
        "outputId": "f6195073-0da0-4efb-94b5-af3419ad24b4"
      },
      "execution_count": null,
      "outputs": [
        {
          "output_type": "stream",
          "name": "stdout",
          "text": [
            "학습용 데이터 세트 정확도: 0.733\n",
            "시험용 데이터 세트 정확도: 0.616\n"
          ]
        }
      ]
    },
    {
      "cell_type": "code",
      "source": [
        "gbrt = GradientBoostingClassifier(random_state=0, max_depth=5) \n",
        "gbrt.fit(x_train, y_train)\n",
        "\n",
        "print(\"학습용 데이터 세트 정확도: {:.3f}\".format(gbrt.score(x_train, y_train)))\n",
        "print(\"시험용 데이터 세트 정확도: {:.3f}\".format(gbrt.score(x_test, y_test)))"
      ],
      "metadata": {
        "colab": {
          "base_uri": "https://localhost:8080/"
        },
        "id": "nu3TX7vUdwQU",
        "outputId": "6653e91f-4d92-43b7-bb6b-518a6ba40743"
      },
      "execution_count": null,
      "outputs": [
        {
          "output_type": "stream",
          "name": "stdout",
          "text": [
            "학습용 데이터 세트 정확도: 0.874\n",
            "시험용 데이터 세트 정확도: 0.638\n"
          ]
        }
      ]
    },
    {
      "cell_type": "markdown",
      "source": [
        "사용된 변수 파악"
      ],
      "metadata": {
        "id": "JRiPWWEldjYJ"
      }
    },
    {
      "cell_type": "code",
      "source": [
        "plot_feature_importances_wisc(gbrt)"
      ],
      "metadata": {
        "colab": {
          "base_uri": "https://localhost:8080/",
          "height": 389
        },
        "id": "9FamD01tdACw",
        "outputId": "c0a5b3fd-cc02-47ef-9e34-5bc908720094"
      },
      "execution_count": null,
      "outputs": [
        {
          "output_type": "display_data",
          "data": {
            "text/plain": [
              "<Figure size 648x432 with 1 Axes>"
            ],
            "image/png": "[encoded data removed]"
          },
          "metadata": {
            "needs_background": "light"
          }
        }
      ]
    },
    {
      "cell_type": "markdown",
      "source": [
        "# 평가"
      ],
      "metadata": {
        "id": "5ZmrV6F1eclc"
      }
    },
    {
      "cell_type": "markdown",
      "source": [
        "교차 검증"
      ],
      "metadata": {
        "id": "1e46RKuoeuSZ"
      }
    },
    {
      "cell_type": "code",
      "source": [
        "dt_scores = cross_val_score(tree, x_train, y_train, cv=10, scoring='accuracy')  \n",
        "rf_scores = cross_val_score(forest, x_train, y_train, cv=10, scoring='accuracy')\n",
        "gbrt_scores = cross_val_score(gbrt, x_train, y_train, cv=10, scoring='accuracy')\n",
        "\n",
        "print(\"Accuracy\")\n",
        "print(\"Decision tree: \", dt_scores) \n",
        "print(\"Random forest: \", rf_scores) \n",
        "print(\"Gradient boosting: \", gbrt_scores) \n",
        "\n",
        "print(\"Accuracy mean\")\n",
        "print(\"Decision tree :{:.3f}\".format(dt_scores.mean())) \n",
        "print(\"Random forest :{:.3f}\".format(rf_scores.mean())) \n",
        "print(\"Gradient boosting :{:.3f}\".format(gbrt_scores.mean())) "
      ],
      "metadata": {
        "colab": {
          "base_uri": "https://localhost:8080/"
        },
        "id": "xGG4OffOefBC",
        "outputId": "d9cda9bf-5621-4a9c-e9a2-08b427189411"
      },
      "execution_count": null,
      "outputs": [
        {
          "output_type": "stream",
          "name": "stdout",
          "text": [
            "Accuracy\n",
            "Decision tree:  [0.68350168 0.58922559 0.58922559 0.60942761 0.5959596  0.60606061\n",
            " 0.59121622 0.58783784 0.56756757 0.58108108]\n",
            "Random forest:  [0.67340067 0.64983165 0.60942761 0.64983165 0.6026936  0.66329966\n",
            " 0.59121622 0.61824324 0.59797297 0.58783784]\n",
            "Gradient boosting:  [0.65993266 0.60942761 0.58585859 0.61616162 0.60606061 0.62289562\n",
            " 0.59797297 0.60135135 0.60135135 0.57094595]\n",
            "Accuracy mean\n",
            "Decision tree :0.600\n",
            "Random forest :0.624\n",
            "Gradient boosting :0.607\n"
          ]
        }
      ]
    },
    {
      "cell_type": "code",
      "source": [
        "x_test = health.iloc[:, 0:23].values\n",
        "y_test = health.iloc[:, 23].values"
      ],
      "metadata": {
        "id": "xuCHU5Y5e9Nd"
      },
      "execution_count": null,
      "outputs": []
    },
    {
      "cell_type": "markdown",
      "source": [
        "그래디언트 부스팅"
      ],
      "metadata": {
        "id": "k2L9pHlAkLIA"
      }
    },
    {
      "cell_type": "code",
      "source": [
        "from sklearn.model_selection import GridSearchCV\n",
        "\n",
        "parameters = {'max_depth':[1,2,3], 'learning_rate':[0.1,0.08, 0.06, 0.04, 0.02]}\n",
        "init_gbrt = GradientBoostingClassifier(random_state=0)\n",
        "grid_gbrt = GridSearchCV(init_gbrt, param_grid=parameters, cv=3, refit=True)\n",
        "\n",
        "grid_gbrt.fit(x_train, y_train)\n",
        "\n",
        "scores_df = pd.DataFrame(grid_gbrt.cv_results_)\n",
        "scores_df[['params', 'mean_test_score', 'rank_test_score', 'split0_test_score', 'split1_test_score', 'split2_test_score']]"
      ],
      "metadata": {
        "colab": {
          "base_uri": "https://localhost:8080/",
          "height": 520
        },
        "id": "F2P0Mmm7fQ4k",
        "outputId": "11d23eb9-9389-4862-9b78-ac9ad91a96f7"
      },
      "execution_count": null,
      "outputs": [
        {
          "output_type": "execute_result",
          "data": {
            "text/plain": [
              "                                     params  mean_test_score  rank_test_score  \\\n",
              "0    {'learning_rate': 0.1, 'max_depth': 1}         0.639236                2   \n",
              "1    {'learning_rate': 0.1, 'max_depth': 2}         0.633508                4   \n",
              "2    {'learning_rate': 0.1, 'max_depth': 3}         0.626764               14   \n",
              "3   {'learning_rate': 0.08, 'max_depth': 1}         0.640924                1   \n",
              "4   {'learning_rate': 0.08, 'max_depth': 2}         0.630476                9   \n",
              "5   {'learning_rate': 0.08, 'max_depth': 3}         0.628451               12   \n",
              "6   {'learning_rate': 0.06, 'max_depth': 1}         0.635869                3   \n",
              "7   {'learning_rate': 0.06, 'max_depth': 2}         0.632835                5   \n",
              "8   {'learning_rate': 0.06, 'max_depth': 3}         0.631486                8   \n",
              "9   {'learning_rate': 0.04, 'max_depth': 1}         0.630475               10   \n",
              "10  {'learning_rate': 0.04, 'max_depth': 2}         0.632497                6   \n",
              "11  {'learning_rate': 0.04, 'max_depth': 3}         0.629464               11   \n",
              "12  {'learning_rate': 0.02, 'max_depth': 1}         0.611597               15   \n",
              "13  {'learning_rate': 0.02, 'max_depth': 2}         0.626768               13   \n",
              "14  {'learning_rate': 0.02, 'max_depth': 3}         0.632161                7   \n",
              "\n",
              "    split0_test_score  split1_test_score  split2_test_score  \n",
              "0            0.658241           0.645096           0.614372  \n",
              "1            0.650152           0.631951           0.618421  \n",
              "2            0.649141           0.621840           0.609312  \n",
              "3            0.653185           0.647118           0.622470  \n",
              "4            0.649141           0.620829           0.621457  \n",
              "5            0.650152           0.621840           0.613360  \n",
              "6            0.641052           0.644085           0.622470  \n",
              "7            0.650152           0.626896           0.621457  \n",
              "8            0.649141           0.625885           0.619433  \n",
              "9            0.631951           0.641052           0.618421  \n",
              "10           0.651163           0.626896           0.619433  \n",
              "11           0.646107           0.623862           0.618421  \n",
              "12           0.615774           0.611729           0.607287  \n",
              "13           0.638018           0.621840           0.620445  \n",
              "14           0.653185           0.620829           0.622470  "
            ],
            "text/html": [
              "\n",
              "  <div id=\"df-a80956e5-9937-4f1a-be94-41dedf071f8e\">\n",
              "    <div class=\"colab-df-container\">\n",
              "      <div>\n",
              "<style scoped>\n",
              "    .dataframe tbody tr th:only-of-type {\n",
              "        vertical-align: middle;\n",
              "    }\n",
              "\n",
              "    .dataframe tbody tr th {\n",
              "        vertical-align: top;\n",
              "    }\n",
              "\n",
              "    .dataframe thead th {\n",
              "        text-align: right;\n",
              "    }\n",
              "</style>\n",
              "<table border=\"1\" class=\"dataframe\">\n",
              "  <thead>\n",
              "    <tr style=\"text-align: right;\">\n",
              "      <th></th>\n",
              "      <th>params</th>\n",
              "      <th>mean_test_score</th>\n",
              "      <th>rank_test_score</th>\n",
              "      <th>split0_test_score</th>\n",
              "      <th>split1_test_score</th>\n",
              "      <th>split2_test_score</th>\n",
              "    </tr>\n",
              "  </thead>\n",
              "  <tbody>\n",
              "    <tr>\n",
              "      <th>0</th>\n",
              "      <td>{'learning_rate': 0.1, 'max_depth': 1}</td>\n",
              "      <td>0.639236</td>\n",
              "      <td>2</td>\n",
              "      <td>0.658241</td>\n",
              "      <td>0.645096</td>\n",
              "      <td>0.614372</td>\n",
              "    </tr>\n",
              "    <tr>\n",
              "      <th>1</th>\n",
              "      <td>{'learning_rate': 0.1, 'max_depth': 2}</td>\n",
              "      <td>0.633508</td>\n",
              "      <td>4</td>\n",
              "      <td>0.650152</td>\n",
              "      <td>0.631951</td>\n",
              "      <td>0.618421</td>\n",
              "    </tr>\n",
              "    <tr>\n",
              "      <th>2</th>\n",
              "      <td>{'learning_rate': 0.1, 'max_depth': 3}</td>\n",
              "      <td>0.626764</td>\n",
              "      <td>14</td>\n",
              "      <td>0.649141</td>\n",
              "      <td>0.621840</td>\n",
              "      <td>0.609312</td>\n",
              "    </tr>\n",
              "    <tr>\n",
              "      <th>3</th>\n",
              "      <td>{'learning_rate': 0.08, 'max_depth': 1}</td>\n",
              "      <td>0.640924</td>\n",
              "      <td>1</td>\n",
              "      <td>0.653185</td>\n",
              "      <td>0.647118</td>\n",
              "      <td>0.622470</td>\n",
              "    </tr>\n",
              "    <tr>\n",
              "      <th>4</th>\n",
              "      <td>{'learning_rate': 0.08, 'max_depth': 2}</td>\n",
              "      <td>0.630476</td>\n",
              "      <td>9</td>\n",
              "      <td>0.649141</td>\n",
              "      <td>0.620829</td>\n",
              "      <td>0.621457</td>\n",
              "    </tr>\n",
              "    <tr>\n",
              "      <th>5</th>\n",
              "      <td>{'learning_rate': 0.08, 'max_depth': 3}</td>\n",
              "      <td>0.628451</td>\n",
              "      <td>12</td>\n",
              "      <td>0.650152</td>\n",
              "      <td>0.621840</td>\n",
              "      <td>0.613360</td>\n",
              "    </tr>\n",
              "    <tr>\n",
              "      <th>6</th>\n",
              "      <td>{'learning_rate': 0.06, 'max_depth': 1}</td>\n",
              "      <td>0.635869</td>\n",
              "      <td>3</td>\n",
              "      <td>0.641052</td>\n",
              "      <td>0.644085</td>\n",
              "      <td>0.622470</td>\n",
              "    </tr>\n",
              "    <tr>\n",
              "      <th>7</th>\n",
              "      <td>{'learning_rate': 0.06, 'max_depth': 2}</td>\n",
              "      <td>0.632835</td>\n",
              "      <td>5</td>\n",
              "      <td>0.650152</td>\n",
              "      <td>0.626896</td>\n",
              "      <td>0.621457</td>\n",
              "    </tr>\n",
              "    <tr>\n",
              "      <th>8</th>\n",
              "      <td>{'learning_rate': 0.06, 'max_depth': 3}</td>\n",
              "      <td>0.631486</td>\n",
              "      <td>8</td>\n",
              "      <td>0.649141</td>\n",
              "      <td>0.625885</td>\n",
              "      <td>0.619433</td>\n",
              "    </tr>\n",
              "    <tr>\n",
              "      <th>9</th>\n",
              "      <td>{'learning_rate': 0.04, 'max_depth': 1}</td>\n",
              "      <td>0.630475</td>\n",
              "      <td>10</td>\n",
              "      <td>0.631951</td>\n",
              "      <td>0.641052</td>\n",
              "      <td>0.618421</td>\n",
              "    </tr>\n",
              "    <tr>\n",
              "      <th>10</th>\n",
              "      <td>{'learning_rate': 0.04, 'max_depth': 2}</td>\n",
              "      <td>0.632497</td>\n",
              "      <td>6</td>\n",
              "      <td>0.651163</td>\n",
              "      <td>0.626896</td>\n",
              "      <td>0.619433</td>\n",
              "    </tr>\n",
              "    <tr>\n",
              "      <th>11</th>\n",
              "      <td>{'learning_rate': 0.04, 'max_depth': 3}</td>\n",
              "      <td>0.629464</td>\n",
              "      <td>11</td>\n",
              "      <td>0.646107</td>\n",
              "      <td>0.623862</td>\n",
              "      <td>0.618421</td>\n",
              "    </tr>\n",
              "    <tr>\n",
              "      <th>12</th>\n",
              "      <td>{'learning_rate': 0.02, 'max_depth': 1}</td>\n",
              "      <td>0.611597</td>\n",
              "      <td>15</td>\n",
              "      <td>0.615774</td>\n",
              "      <td>0.611729</td>\n",
              "      <td>0.607287</td>\n",
              "    </tr>\n",
              "    <tr>\n",
              "      <th>13</th>\n",
              "      <td>{'learning_rate': 0.02, 'max_depth': 2}</td>\n",
              "      <td>0.626768</td>\n",
              "      <td>13</td>\n",
              "      <td>0.638018</td>\n",
              "      <td>0.621840</td>\n",
              "      <td>0.620445</td>\n",
              "    </tr>\n",
              "    <tr>\n",
              "      <th>14</th>\n",
              "      <td>{'learning_rate': 0.02, 'max_depth': 3}</td>\n",
              "      <td>0.632161</td>\n",
              "      <td>7</td>\n",
              "      <td>0.653185</td>\n",
              "      <td>0.620829</td>\n",
              "      <td>0.622470</td>\n",
              "    </tr>\n",
              "  </tbody>\n",
              "</table>\n",
              "</div>\n",
              "      <button class=\"colab-df-convert\" onclick=\"convertToInteractive('df-a80956e5-9937-4f1a-be94-41dedf071f8e')\"\n",
              "              title=\"Convert this dataframe to an interactive table.\"\n",
              "              style=\"display:none;\">\n",
              "        \n",
              "  <svg xmlns=\"http://www.w3.org/2000/svg\" height=\"24px\"viewBox=\"0 0 24 24\"\n",
              "       width=\"24px\">\n",
              "    <path d=\"M0 0h24v24H0V0z\" fill=\"none\"/>\n",
              "    <path d=\"M18.56 5.44l.94 2.06.94-2.06 2.06-.94-2.06-.94-.94-2.06-.94 2.06-2.06.94zm-11 1L8.5 8.5l.94-2.06 2.06-.94-2.06-.94L8.5 2.5l-.94 2.06-2.06.94zm10 10l.94 2.06.94-2.06 2.06-.94-2.06-.94-.94-2.06-.94 2.06-2.06.94z\"/><path d=\"M17.41 7.96l-1.37-1.37c-.4-.4-.92-.59-1.43-.59-.52 0-1.04.2-1.43.59L10.3 9.45l-7.72 7.72c-.78.78-.78 2.05 0 2.83L4 21.41c.39.39.9.59 1.41.59.51 0 1.02-.2 1.41-.59l7.78-7.78 2.81-2.81c.8-.78.8-2.07 0-2.86zM5.41 20L4 18.59l7.72-7.72 1.47 1.35L5.41 20z\"/>\n",
              "  </svg>\n",
              "      </button>\n",
              "      \n",
              "  <style>\n",
              "    .colab-df-container {\n",
              "      display:flex;\n",
              "      flex-wrap:wrap;\n",
              "      gap: 12px;\n",
              "    }\n",
              "\n",
              "    .colab-df-convert {\n",
              "      background-color: #E8F0FE;\n",
              "      border: none;\n",
              "      border-radius: 50%;\n",
              "      cursor: pointer;\n",
              "      display: none;\n",
              "      fill: #1967D2;\n",
              "      height: 32px;\n",
              "      padding: 0 0 0 0;\n",
              "      width: 32px;\n",
              "    }\n",
              "\n",
              "    .colab-df-convert:hover {\n",
              "      background-color: #E2EBFA;\n",
              "      box-shadow: 0px 1px 2px rgba(60, 64, 67, 0.3), 0px 1px 3px 1px rgba(60, 64, 67, 0.15);\n",
              "      fill: #174EA6;\n",
              "    }\n",
              "\n",
              "    [theme=dark] .colab-df-convert {\n",
              "      background-color: #3B4455;\n",
              "      fill: #D2E3FC;\n",
              "    }\n",
              "\n",
              "    [theme=dark] .colab-df-convert:hover {\n",
              "      background-color: #434B5C;\n",
              "      box-shadow: 0px 1px 3px 1px rgba(0, 0, 0, 0.15);\n",
              "      filter: drop-shadow(0px 1px 2px rgba(0, 0, 0, 0.3));\n",
              "      fill: #FFFFFF;\n",
              "    }\n",
              "  </style>\n",
              "\n",
              "      <script>\n",
              "        const buttonEl =\n",
              "          document.querySelector('#df-a80956e5-9937-4f1a-be94-41dedf071f8e button.colab-df-convert');\n",
              "        buttonEl.style.display =\n",
              "          google.colab.kernel.accessAllowed ? 'block' : 'none';\n",
              "\n",
              "        async function convertToInteractive(key) {\n",
              "          const element = document.querySelector('#df-a80956e5-9937-4f1a-be94-41dedf071f8e');\n",
              "          const dataTable =\n",
              "            await google.colab.kernel.invokeFunction('convertToInteractive',\n",
              "                                                     [key], {});\n",
              "          if (!dataTable) return;\n",
              "\n",
              "          const docLinkHtml = 'Like what you see? Visit the ' +\n",
              "            '<a target=\"_blank\" href=https://colab.research.google.com/notebooks/data_table.ipynb>data table notebook</a>'\n",
              "            + ' to learn more about interactive tables.';\n",
              "          element.innerHTML = '';\n",
              "          dataTable['output_type'] = 'display_data';\n",
              "          await google.colab.output.renderOutput(dataTable, element);\n",
              "          const docLink = document.createElement('div');\n",
              "          docLink.innerHTML = docLinkHtml;\n",
              "          element.appendChild(docLink);\n",
              "        }\n",
              "      </script>\n",
              "    </div>\n",
              "  </div>\n",
              "  "
            ]
          },
          "metadata": {},
          "execution_count": 24
        }
      ]
    },
    {
      "cell_type": "code",
      "source": [
        "print('GridSearchCV 최적 파라미터:', grid_gbrt.best_params_)\n",
        "print('GridSearchCV 최고 정확도: {0:.4f}'.format(grid_gbrt.best_score_))"
      ],
      "metadata": {
        "colab": {
          "base_uri": "https://localhost:8080/"
        },
        "id": "1EcxENkNfvCv",
        "outputId": "cdb2d215-7c31-4064-f4f8-a592edc1f7ff"
      },
      "execution_count": null,
      "outputs": [
        {
          "output_type": "stream",
          "name": "stdout",
          "text": [
            "GridSearchCV 최적 파라미터: {'learning_rate': 0.08, 'max_depth': 1}\n",
            "GridSearchCV 최고 정확도: 0.6409\n"
          ]
        }
      ]
    },
    {
      "cell_type": "code",
      "source": [
        "print(\"시험용 데이터 세트 정확도: {:.3f}\".format(grid_gbrt.score(x_test, y_test)))"
      ],
      "metadata": {
        "colab": {
          "base_uri": "https://localhost:8080/"
        },
        "id": "1UdaRgztfyw5",
        "outputId": "060d8aca-3b3e-4ca6-89c8-ef4672c63f01"
      },
      "execution_count": null,
      "outputs": [
        {
          "output_type": "stream",
          "name": "stdout",
          "text": [
            "시험용 데이터 세트 정확도: 0.652\n"
          ]
        },
        {
          "output_type": "stream",
          "name": "stderr",
          "text": [
            "/usr/local/lib/python3.7/dist-packages/sklearn/base.py:451: UserWarning: X does not have valid feature names, but GradientBoostingClassifier was fitted with feature names\n",
            "  \"X does not have valid feature names, but\"\n"
          ]
        }
      ]
    },
    {
      "cell_type": "markdown",
      "source": [
        "평가 지표: 정확도(accuracy)"
      ],
      "metadata": {
        "id": "-J_OemwmkQB4"
      }
    },
    {
      "cell_type": "code",
      "source": [
        "from sklearn.metrics import accuracy_score, precision_score, recall_score, f1_score\n",
        "from sklearn.metrics import confusion_matrix \n",
        "\n",
        "dt_pred = tree.predict(x_test)\n",
        "rf_pred = forest.predict(x_test)\n",
        "grid_gbrt_pred = grid_gbrt.predict(x_test)\n",
        "\n",
        "# 예측 결과인 pred와 실제 결과인 y_test의 Confusion Matrix 출력\n",
        "print('Decision tree 시험용 데이터 세트 정확도:{:.3f}'.format(accuracy_score(y_test, dt_pred)))\n",
        "print(confusion_matrix(y_test, dt_pred))\n",
        "print('Random forest 시험용 데이터 세트 정확도:{:.3f}'.format(accuracy_score(y_test, rf_pred)))\n",
        "print(confusion_matrix(y_test, rf_pred))\n",
        "print('Gradient boosting 시험용 데이터 세트 정확도:{:.3f}'.format(accuracy_score(y_test, grid_gbrt_pred)))\n",
        "print(confusion_matrix(y_test, grid_gbrt_pred))"
      ],
      "metadata": {
        "colab": {
          "base_uri": "https://localhost:8080/"
        },
        "id": "qSzF71vZfB0U",
        "outputId": "cb6edad5-6f69-40d1-9061-19841f3e5e71"
      },
      "execution_count": null,
      "outputs": [
        {
          "output_type": "stream",
          "name": "stdout",
          "text": [
            "Decision tree 시험용 데이터 세트 정확도:0.644\n",
            "[[1375  480]\n",
            " [ 927 1173]]\n",
            "Random forest 시험용 데이터 세트 정확도:0.906\n",
            "[[1676  179]\n",
            " [ 192 1908]]\n",
            "Gradient boosting 시험용 데이터 세트 정확도:0.652\n",
            "[[1130  725]\n",
            " [ 653 1447]]\n"
          ]
        },
        {
          "output_type": "stream",
          "name": "stderr",
          "text": [
            "/usr/local/lib/python3.7/dist-packages/sklearn/base.py:451: UserWarning: X does not have valid feature names, but DecisionTreeClassifier was fitted with feature names\n",
            "  \"X does not have valid feature names, but\"\n",
            "/usr/local/lib/python3.7/dist-packages/sklearn/base.py:451: UserWarning: X does not have valid feature names, but RandomForestClassifier was fitted with feature names\n",
            "  \"X does not have valid feature names, but\"\n",
            "/usr/local/lib/python3.7/dist-packages/sklearn/base.py:451: UserWarning: X does not have valid feature names, but GradientBoostingClassifier was fitted with feature names\n",
            "  \"X does not have valid feature names, but\"\n"
          ]
        }
      ]
    },
    {
      "cell_type": "markdown",
      "source": [
        "-> 랜덤 포레스트 모델의 정확도가 가장 높게 나타나므로, 랜덤 포레스트를 채택한다. "
      ],
      "metadata": {
        "id": "59OX5oT9Co_f"
      }
    },
    {
      "cell_type": "markdown",
      "source": [
        "# 인사이트\n",
        "\n"
      ],
      "metadata": {
        "id": "e5yPwhszDo6p"
      }
    },
    {
      "cell_type": "markdown",
      "source": [
        "\n",
        "\n",
        "*   사용된 변수 파악 시, 트리글리세라이드, 감마지티피, 허리둘레, 수축기혈압, LDL콜레스테롤 변수의 중요성이 크게 나타나고 있다. (Top 5)\n",
        "*   즉, 트리글리세라이드와 허리둘레, LDL콜레스테롤 수치는 비만과 관련이 있는 변수로, 비만에 해당하는 자는 식전혈당 수치가 높을 가능성이 크므로 유의해야 한다.\n",
        "*   감마지티피는 간 기능을 나타내는 수치로, 감마지티피의 높은 수치가 높은 식전혈당에 영향을 미친다는 것을 시사한다. 따라서 음주 등 간 기능에 악영향을 줄 수 있는 행위를 조절해야 할 것이다.\n",
        "*   수축기혈압에 따라, 혈압이 높은 자는 공복혈당장애 혹은 당뇨병을 앓을 확률이 크다.\n",
        "*   결론적으로, 높은 혈당 수치에 큰 영향을 미치는 변수는 트리글리세라이드, 감마지티피, 허리둘레, 수축기혈압, LDL콜레스테롤 등이 있으며, 식전혈당이 H(High)로 분류 예측되는 사람들은 비만, 음주, 고혈압 등을 앓고 있을 가능성이 큼을 알 수 있다. \n"
      ],
      "metadata": {
        "id": "LjQlRmfcDsD3"
      }
    }
  ]
}